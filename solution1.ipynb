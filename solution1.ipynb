{
 "cells": [
  {
   "cell_type": "code",
   "execution_count": 1,
   "id": "bd507a8f",
   "metadata": {},
   "outputs": [],
   "source": [
    "import json\n",
    "import re\n",
    "from rank_bm25 import BM25Okapi\n",
    "from transformers import T5ForConditionalGeneration, T5Tokenizer"
   ]
  },
  {
   "cell_type": "code",
   "execution_count": 2,
   "id": "e8cb547f",
   "metadata": {},
   "outputs": [
    {
     "name": "stdout",
     "output_type": "stream",
     "text": [
      "Number of articles related to Israel-Hamas conflict: 36347\n"
     ]
    }
   ],
   "source": [
    "with open('news.article.json', 'r', encoding='utf-8') as file:\n",
    "    data = json.load(file)\n",
    "\n",
    "def clean_text(text):\n",
    "    text = re.sub(r'\\s+', ' ', text)\n",
    "    text = re.sub(r'[^\\w\\s]', '', text)\n",
    "    return text\n",
    "\n",
    "for article in data:\n",
    "    if 'articleBody' in article:\n",
    "        article['content'] = clean_text(article['articleBody']).lower()\n",
    "\n",
    "keywords = [\n",
    "    'israel', 'hamas', 'gaza', 'palestine', 'terrorist', 'attack', 'air strikes', \n",
    "    'war', 'conflict', 'casualties', 'ceasefire', 'netanyahu', 'idf', 'rockets', \n",
    "    'iron dome', 'hezbollah', 'west bank', 'blockade', 'humanitarian', 'tragedy', \n",
    "    'disproportionate', 'occupation', 'militants', 'bombing']\n",
    "\n",
    "israel_hamas_articles = [article for article in data if any(keyword in article.get('content', '') for keyword in keywords)]\n",
    "\n",
    "print(f\"Number of articles related to Israel-Hamas conflict: {len(israel_hamas_articles)}\")"
   ]
  },
  {
   "cell_type": "code",
   "execution_count": 3,
   "id": "327dac6b",
   "metadata": {},
   "outputs": [],
   "source": [
    "tokenized_corpus = [doc['content'].split() for doc in israel_hamas_articles]\n",
    "bm25 = BM25Okapi(tokenized_corpus)"
   ]
  },
  {
   "cell_type": "code",
   "execution_count": 4,
   "id": "9a2f4ec7",
   "metadata": {},
   "outputs": [],
   "source": [
    "def retrieve_documents(query, bm25, documents, k=5):\n",
    "    tokenized_query = query.lower().split()\n",
    "    doc_scores = bm25.get_scores(tokenized_query)\n",
    "    top_k_indices = doc_scores.argsort()[-k:][::-1]\n",
    "    return [documents[i] for i in top_k_indices]"
   ]
  },
  {
   "cell_type": "code",
   "execution_count": 5,
   "id": "b35246ad",
   "metadata": {},
   "outputs": [
    {
     "name": "stderr",
     "output_type": "stream",
     "text": [
      "C:\\Users\\jb pavi\\AppData\\Local\\Programs\\Python\\Python310\\lib\\site-packages\\transformers\\models\\t5\\tokenization_t5.py:163: FutureWarning: This tokenizer was incorrectly instantiated with a model max length of 512 which will be corrected in Transformers v5.\n",
      "For now, this behavior is kept to avoid breaking backwards compatibility when padding/encoding with `truncation is True`.\n",
      "- Be aware that you SHOULD NOT rely on t5-base automatically truncating your input to 512 when padding/encoding.\n",
      "- If you want to encode/pad to sequences longer than 512 you can either instantiate this tokenizer with `model_max_length` or pass `max_length` when encoding/padding.\n",
      "- To avoid this warning, please instantiate this tokenizer with `model_max_length` set to your preferred value.\n",
      "  warnings.warn(\n"
     ]
    }
   ],
   "source": [
    "model_name = \"t5-base\"\n",
    "tokenizer = T5Tokenizer.from_pretrained(model_name)\n",
    "model = T5ForConditionalGeneration.from_pretrained(model_name)"
   ]
  },
  {
   "cell_type": "code",
   "execution_count": 6,
   "id": "024ef351",
   "metadata": {},
   "outputs": [],
   "source": [
    "def answer_question(question, documents, model, tokenizer):\n",
    "    context = \" \".join([doc['content'] for doc in documents])\n",
    "    input_text = f\"question: {question} context: {context}\"\n",
    "    input_ids = tokenizer.encode(input_text, return_tensors='pt')\n",
    "    outputs = model.generate(input_ids)\n",
    "    answer = tokenizer.decode(outputs[0], skip_special_tokens=True)\n",
    "    return answer"
   ]
  },
  {
   "cell_type": "markdown",
   "id": "01ca7a16",
   "metadata": {},
   "source": [
    "## Test Case 1"
   ]
  },
  {
   "cell_type": "code",
   "execution_count": 8,
   "id": "969111e5",
   "metadata": {},
   "outputs": [
    {
     "name": "stdout",
     "output_type": "stream",
     "text": [
      "Please enter your question: What happened at the Al-Shifa Hospital?\n"
     ]
    },
    {
     "name": "stderr",
     "output_type": "stream",
     "text": [
      "C:\\Users\\jb pavi\\AppData\\Local\\Programs\\Python\\Python310\\lib\\site-packages\\transformers\\generation\\utils.py:1353: UserWarning: Using `max_length`'s default (20) to control the generation length. This behaviour is deprecated and will be removed from the config in v5 of Transformers -- we recommend using `max_new_tokens` to control the maximum length of the generation.\n",
      "  warnings.warn(\n"
     ]
    },
    {
     "name": "stdout",
     "output_type": "stream",
     "text": [
      "Answer: a protester lit themselves on fire outside the israeli consulate in atlanta\n"
     ]
    }
   ],
   "source": [
    "user_query = input(\"Please enter your question: \")\n",
    "\n",
    "relevant_docs = retrieve_documents(user_query, bm25, israel_hamas_articles)\n",
    "\n",
    "answer = answer_question(user_query, relevant_docs, model, tokenizer)\n",
    "print(f\"Answer: {answer}\")"
   ]
  },
  {
   "cell_type": "markdown",
   "id": "1e2b6f48",
   "metadata": {},
   "source": [
    "## Test Case 2"
   ]
  },
  {
   "cell_type": "code",
   "execution_count": 9,
   "id": "7c2ebc52",
   "metadata": {},
   "outputs": [
    {
     "name": "stdout",
     "output_type": "stream",
     "text": [
      "Please enter your question: How many people have been killed and wounded in the recent conflict according to Gaza's health ministry?\n",
      "Answer: hamas health ministry says the death toll in the territory since oct\n"
     ]
    }
   ],
   "source": [
    "user_query = input(\"Please enter your question: \")\n",
    "\n",
    "relevant_docs = retrieve_documents(user_query, bm25, israel_hamas_articles)\n",
    "\n",
    "answer = answer_question(user_query, relevant_docs, model, tokenizer)\n",
    "print(f\"Answer: {answer}\")"
   ]
  },
  {
   "cell_type": "markdown",
   "id": "e278a8e4",
   "metadata": {},
   "source": [
    "## Test Case 3"
   ]
  },
  {
   "cell_type": "code",
   "execution_count": 10,
   "id": "cb37d8ca",
   "metadata": {},
   "outputs": [
    {
     "name": "stdout",
     "output_type": "stream",
     "text": [
      "Please enter your question: What did President Biden suggest might have motivated Hamas to conduct attacks on Israel?\n",
      "Answer: israelsaudi arabia normalisation\n"
     ]
    }
   ],
   "source": [
    "user_query = input(\"Please enter your question: \")\n",
    "\n",
    "relevant_docs = retrieve_documents(user_query, bm25, israel_hamas_articles)\n",
    "\n",
    "answer = answer_question(user_query, relevant_docs, model, tokenizer)\n",
    "print(f\"Answer: {answer}\")"
   ]
  },
  {
   "cell_type": "markdown",
   "id": "dd7b3a33",
   "metadata": {},
   "source": [
    "## Test Case 4"
   ]
  },
  {
   "cell_type": "code",
   "execution_count": 11,
   "id": "803e9534",
   "metadata": {},
   "outputs": [
    {
     "name": "stdout",
     "output_type": "stream",
     "text": [
      "Please enter your question: Who was Adam Samer al-Ghoul, and what happened to him in Jenin?\n",
      "Answer: adam samer alghoul\n"
     ]
    }
   ],
   "source": [
    "user_query = input(\"Please enter your question: \")\n",
    "\n",
    "relevant_docs = retrieve_documents(user_query, bm25, israel_hamas_articles)\n",
    "\n",
    "answer = answer_question(user_query, relevant_docs, model, tokenizer)\n",
    "print(f\"Answer: {answer}\")"
   ]
  },
  {
   "cell_type": "markdown",
   "id": "82f81f7b",
   "metadata": {},
   "source": [
    "## Test Case 5"
   ]
  },
  {
   "cell_type": "code",
   "execution_count": 12,
   "id": "fbe0a38a",
   "metadata": {},
   "outputs": [
    {
     "name": "stdout",
     "output_type": "stream",
     "text": [
      "Please enter your question: How many trucks were in the aid convoy to northern Gaza?\n",
      "Answer: israeli military said it had facilitated the passage of the 31 trucks\n"
     ]
    }
   ],
   "source": [
    "user_query = input(\"Please enter your question: \")\n",
    "\n",
    "relevant_docs = retrieve_documents(user_query, bm25, israel_hamas_articles)\n",
    "\n",
    "answer = answer_question(user_query, relevant_docs, model, tokenizer)\n",
    "print(f\"Answer: {answer}\")"
   ]
  },
  {
   "cell_type": "markdown",
   "id": "b79ecf60",
   "metadata": {},
   "source": [
    "## Questions"
   ]
  },
  {
   "cell_type": "markdown",
   "id": "cbcf6753",
   "metadata": {},
   "source": [
    "1. What happened at the Al-Shifa Hospital?\n",
    "2. How many people have been killed and wounded in the recent conflict according to Gaza's health ministry?\n",
    "3. What did President Biden suggest might have motivated Hamas to conduct attacks on Israel?\n",
    "4. Who was Adam Samer al-Ghoul, and what happened to him in Jenin?\n",
    "5. How many trucks were in the aid convoy to northern Gaza?"
   ]
  }
 ],
 "metadata": {
  "kernelspec": {
   "display_name": "Python 3 (ipykernel)",
   "language": "python",
   "name": "python3"
  },
  "language_info": {
   "codemirror_mode": {
    "name": "ipython",
    "version": 3
   },
   "file_extension": ".py",
   "mimetype": "text/x-python",
   "name": "python",
   "nbconvert_exporter": "python",
   "pygments_lexer": "ipython3",
   "version": "3.10.4"
  }
 },
 "nbformat": 4,
 "nbformat_minor": 5
}
