{
 "cells": [
  {
   "cell_type": "code",
   "execution_count": 34,
   "id": "f55b5be1-6cd8-4bbe-94c0-f63bcc199c61",
   "metadata": {},
   "outputs": [],
   "source": [
    "import json\n",
    "import re\n",
    "import os\n",
    "os.environ['OPENAI_API_KEY']=\"\""
   ]
  },
  {
   "cell_type": "code",
   "execution_count": 35,
   "id": "ab834e85-af71-461d-a92a-c6a05cbd2985",
   "metadata": {},
   "outputs": [],
   "source": [
    "f = open('news.article.json')\n",
    "data = json.load(f)\n",
    "docs=\"\"\n",
    "# Iterating through the json\n",
    "# list\n",
    "for i in data:\n",
    "    s=i['articleBody']\n",
    "    s=s.replace(\"\\'s\", \"'s\")\n",
    "    s = re.sub(r'\\n+', ' ', s)\n",
    "    #s=s.replace('\\s',\"'\")\n",
    "    s.replace(r'\\\"','\"')\n",
    "    docs+=s"
   ]
  },
  {
   "cell_type": "code",
   "execution_count": 36,
   "id": "df9ba98d-463f-45b7-910f-65f71b95df9c",
   "metadata": {},
   "outputs": [],
   "source": [
    "from langchain_community.tools import WikipediaQueryRun\n",
    "from langchain_community.utilities import WikipediaAPIWrapper\n",
    "api_wrapper=WikipediaAPIWrapper(top_k_results=1,doc_content_chars_max=1000)\n",
    "wiki=WikipediaQueryRun(api_wrapper=api_wrapper)"
   ]
  },
  {
   "cell_type": "code",
   "execution_count": 39,
   "id": "c0918798-a3ba-4467-b69e-654e2a40befd",
   "metadata": {},
   "outputs": [],
   "source": [
    "from langchain_community.vectorstores import FAISS\n",
    "from langchain_openai import OpenAIEmbeddings\n",
    "from langchain_text_splitters import RecursiveCharacterTextSplitter\n",
    "\n",
    "text_splitter = RecursiveCharacterTextSplitter(chunk_size=3500, chunk_overlap=100)\n",
    "chunks = text_splitter.split_text(docs)\n",
    "embeddings = OpenAIEmbeddings()"
   ]
  },
  {
   "cell_type": "code",
   "execution_count": 40,
   "id": "274bc772-6b8d-4856-8766-b19441600cbe",
   "metadata": {},
   "outputs": [],
   "source": [
    "vectordb = FAISS.from_texts(chunks[:500], embeddings)\n",
    "retriever = vectordb.as_retriever()"
   ]
  },
  {
   "cell_type": "code",
   "execution_count": 41,
   "id": "4ebfe503-bcd3-4c20-92d8-ef51e60dc472",
   "metadata": {},
   "outputs": [],
   "source": [
    "from langchain.tools.retriever import create_retriever_tool\n",
    "retriever_tool=create_retriever_tool(retriever,\"vector_search\",\n",
    "                      \"Search for information about Israel-Hamas War. For any questions about Israel-Hamas War, you must use this tool!\")"
   ]
  },
  {
   "cell_type": "code",
   "execution_count": 42,
   "id": "2fdb9617-82af-4356-bb3e-c8326bc44a4d",
   "metadata": {},
   "outputs": [],
   "source": [
    "tools=[wiki,retriever_tool]"
   ]
  },
  {
   "cell_type": "code",
   "execution_count": 43,
   "id": "8124191c-9686-4a8b-bad9-957597467c3e",
   "metadata": {},
   "outputs": [],
   "source": [
    "from langchain_openai import ChatOpenAI\n",
    "\n",
    "llm = ChatOpenAI(model=\"gpt-3.5-turbo-0125\", temperature=0)"
   ]
  },
  {
   "cell_type": "code",
   "execution_count": 44,
   "id": "e48b7dd5-1a44-4c51-ad84-e83eb9078a13",
   "metadata": {},
   "outputs": [
    {
     "data": {
      "text/plain": [
       "[SystemMessagePromptTemplate(prompt=PromptTemplate(input_variables=[], template='You are a helpful assistant')),\n",
       " MessagesPlaceholder(variable_name='chat_history', optional=True),\n",
       " HumanMessagePromptTemplate(prompt=PromptTemplate(input_variables=['input'], template='{input}')),\n",
       " MessagesPlaceholder(variable_name='agent_scratchpad')]"
      ]
     },
     "execution_count": 44,
     "metadata": {},
     "output_type": "execute_result"
    }
   ],
   "source": [
    "from langchain import hub\n",
    "# Get the prompt to use - you can modify this!\n",
    "prompt = hub.pull(\"hwchase17/openai-functions-agent\")\n",
    "prompt.messages"
   ]
  },
  {
   "cell_type": "code",
   "execution_count": 45,
   "id": "37fe1665-6dd1-46c7-8ee6-4ed95d998f08",
   "metadata": {},
   "outputs": [],
   "source": [
    "### Agents\n",
    "from langchain.agents import create_openai_tools_agent\n",
    "agent=create_openai_tools_agent(llm,tools,prompt)"
   ]
  },
  {
   "cell_type": "code",
   "execution_count": 46,
   "id": "d015bb43-e8aa-418c-ba5d-e510e5e95fed",
   "metadata": {},
   "outputs": [
    {
     "data": {
      "text/plain": [
       "AgentExecutor(verbose=True, agent=RunnableMultiActionAgent(runnable=RunnableAssign(mapper={\n",
       "  agent_scratchpad: RunnableLambda(lambda x: format_to_openai_tool_messages(x['intermediate_steps']))\n",
       "})\n",
       "| ChatPromptTemplate(input_variables=['agent_scratchpad', 'input'], input_types={'chat_history': typing.List[typing.Union[langchain_core.messages.ai.AIMessage, langchain_core.messages.human.HumanMessage, langchain_core.messages.chat.ChatMessage, langchain_core.messages.system.SystemMessage, langchain_core.messages.function.FunctionMessage, langchain_core.messages.tool.ToolMessage]], 'agent_scratchpad': typing.List[typing.Union[langchain_core.messages.ai.AIMessage, langchain_core.messages.human.HumanMessage, langchain_core.messages.chat.ChatMessage, langchain_core.messages.system.SystemMessage, langchain_core.messages.function.FunctionMessage, langchain_core.messages.tool.ToolMessage]]}, metadata={'lc_hub_owner': 'hwchase17', 'lc_hub_repo': 'openai-functions-agent', 'lc_hub_commit_hash': 'a1655024b06afbd95d17449f21316291e0726f13dcfaf990cc0d18087ad689a5'}, messages=[SystemMessagePromptTemplate(prompt=PromptTemplate(input_variables=[], template='You are a helpful assistant')), MessagesPlaceholder(variable_name='chat_history', optional=True), HumanMessagePromptTemplate(prompt=PromptTemplate(input_variables=['input'], template='{input}')), MessagesPlaceholder(variable_name='agent_scratchpad')])\n",
       "| RunnableBinding(bound=ChatOpenAI(client=<openai.resources.chat.completions.Completions object at 0x7f97bc9e3fa0>, async_client=<openai.resources.chat.completions.AsyncCompletions object at 0x7f97be2b5d80>, model_name='gpt-3.5-turbo-0125', temperature=0.0, openai_api_key=SecretStr('**********'), openai_proxy=''), kwargs={'tools': [{'type': 'function', 'function': {'name': 'wikipedia', 'description': 'A wrapper around Wikipedia. Useful for when you need to answer general questions about people, places, companies, facts, historical events, or other subjects. Input should be a search query.', 'parameters': {'properties': {'__arg1': {'title': '__arg1', 'type': 'string'}}, 'required': ['__arg1'], 'type': 'object'}}}, {'type': 'function', 'function': {'name': 'vector_search', 'description': 'Search for information about Israel-Hamas War. For any questions about Israel-Hamas War, you must use this tool!', 'parameters': {'type': 'object', 'properties': {'query': {'description': 'query to look up in retriever', 'type': 'string'}}, 'required': ['query']}}}]})\n",
       "| OpenAIToolsAgentOutputParser(), input_keys_arg=[], return_keys_arg=[], stream_runnable=True), tools=[WikipediaQueryRun(api_wrapper=WikipediaAPIWrapper(wiki_client=<module 'wikipedia' from '/home/kyouma45/.local/lib/python3.10/site-packages/wikipedia/__init__.py'>, top_k_results=1, lang='en', load_all_available_meta=False, doc_content_chars_max=1000)), Tool(name='vector_search', description='Search for information about Israel-Hamas War. For any questions about Israel-Hamas War, you must use this tool!', args_schema=<class 'langchain_core.tools.RetrieverInput'>, func=functools.partial(<function _get_relevant_documents at 0x7f97da1a7010>, retriever=VectorStoreRetriever(tags=['FAISS', 'OpenAIEmbeddings'], vectorstore=<langchain_community.vectorstores.faiss.FAISS object at 0x7f97dba1f700>), document_prompt=PromptTemplate(input_variables=['page_content'], template='{page_content}'), document_separator='\\n\\n'), coroutine=functools.partial(<function _aget_relevant_documents at 0x7f97da1a71c0>, retriever=VectorStoreRetriever(tags=['FAISS', 'OpenAIEmbeddings'], vectorstore=<langchain_community.vectorstores.faiss.FAISS object at 0x7f97dba1f700>), document_prompt=PromptTemplate(input_variables=['page_content'], template='{page_content}'), document_separator='\\n\\n'))])"
      ]
     },
     "execution_count": 46,
     "metadata": {},
     "output_type": "execute_result"
    }
   ],
   "source": [
    "## Agent Executer\n",
    "from langchain.agents import AgentExecutor\n",
    "agent_executor=AgentExecutor(agent=agent,tools=tools,verbose=True)\n",
    "agent_executor"
   ]
  },
  {
   "cell_type": "code",
   "execution_count": null,
   "id": "ded07b58-f3ac-4b02-a8bf-5e83d775da32",
   "metadata": {},
   "outputs": [],
   "source": []
  },
  {
   "cell_type": "code",
   "execution_count": 47,
   "id": "846d0288-0f29-4b31-a2ba-c96b2e924a57",
   "metadata": {},
   "outputs": [
    {
     "name": "stdout",
     "output_type": "stream",
     "text": [
      "\n",
      "\n",
      "\u001B[1m> Entering new AgentExecutor chain...\u001B[0m\n",
      "\u001B[32;1m\u001B[1;3m\n",
      "Invoking: `vector_search` with `{'query': 'AI-Shifa Hospital'}`\n",
      "\n",
      "\n",
      "\u001B[0m\u001B[33;1m\u001B[1;3mthat more than one-third of the city’s hospitals are no longer operating and Israel’s bombing continues, health care professionals fear the worst. “The health system here is in its last throes before it completely boots down. If the electricity goes, that’s it. It just becomes a mass grave,” says Dr. Ghassan Abu-Sittah, a British-Palestinian plastic and reconstructive surgeon who has been working at Al-Shifa hospital over the last two weeks. “There’s no hospital, if there’s no electricity.” Read More: ‘Our Death Is Pending.’ Stories of Loss and Grief From Gaza Right now, his sense is that it will be “days, rather than weeks,” until Al-Shifa runs out of fuel needed to keep the hospital running. Palestine’s Ministry of Health said Tuesday that hospital generators will stop running in 48 hours, and aid workers tell TIME that the city is expected to run out of fuel on Wednesday evening. More From TIME The situation is particularly dire for neonatal babies. Dr. Hatem Edhair, the head of the neonatal intensive care unit at Nasser Medical Complex in Khan Younis, fears that electricity shutting off will mean five babies dependent on ventilators will die. “If there is no electricity, it means the end of their life… because oxygen will not be available,” he says. Dr. Ahmed Mhanna, manager of Al-Awda hospitals in northern Gaza, said Monday that the hospital only had enough fuel to run another three to four days. They have been relying on two generators that have been consuming more than 13 liters per hour, he says. “If there’s no fuel, it means the generator will stop. If the generator will stop, the hospital will stop. We will close,” he says. Mhanna is unfazed by the sound of a blast while on a phone interview with TIME. Asked whether he wants to cut the call, he responds: “No, it’s OK: they are bombing everywhere all the time.” “We are feeling absolutely unsafe in the hospital. We are worried, we are afraid, we are human beings but we cannot do anything except continue our mission with our patients,” he says. So far, Israeli attacks have killed more than 6,400 people and injured more than 17,000 people in Gaza, according to the Palestinian Ministry of Health run out of the West Bank. More than half are women and children. The Palestinian Ministry of Health also reports 73 medical personnel have been killed, more than 100 have been wounded, and 25 ambulances are out of service. Ayman Abu Shamalah stands next to his daughter Mecca as she receives care inside an incubator at a hospital in Rafah on October 23, 2023. An Israeli strike killed his children and his wife, Dareen Abu Shamalah. Mai Yaghi—AFP/Getty Images The airstrikes follow Hamas’ Oct. 7 attack on Israel that killed more than 1,400 people. As the U.S. works to funnel more than $14 billion in aid for Israel, pro-Palestinian advocates and aid groups are calling for a ceasefire with little success. Read More: The Gaza Healthcare System Is Reportedly on the Brink of Collapse The sheer number of injured Palestinians means Al-Shifa is operating well beyond its maximum capacity of about 700 patients—instead dealing with between 1,700 to 1,900 people, Abu-Sittah says. Hospital compounds have become makeshift tent cities—not only for patients but also civilians seeking shelter. “You feel that there’s a public health catastrophe waiting to happen,” Abu-Sittah says. So many people in such a small space, with inadequate access to hygiene and sanitation, can lead to an outbreak of infectious\n",
      "\n",
      "Israel started to prepare for its planned ground invasion of Gaza, it warned the residents in the north to flee south so that they don’t become a target, that included hospitals too. But healthcare community in Gaza insisted that the evacuation of the wounded and displaced would be impossible. “As of now, around 600 babies are in incubators and out of them, 120 are in critical life-or-death situation. With no fuel, we’re left with no choice but to choose between who we can save and who we cannot, and I have never endured a more heart-wren­ching situation in my entire career,” Dr Amr said. Al-Shifa hospital currently accommodates 62,000 displaced individuals, and the rapid spread of viruses is a growing concern. This exacerbates the issue of inadequate sterilisation within the hospital, leaving patients susceptible to infections. Further­more, most hospitals had to make morgues in the functional wards to accommodate the dead bodies which are still there and the count of everyday is in hundreds. “All of it cannot be evacuated suddenly,” an intern at Al-Shifa told Reuters. International groups have issued warnings regarding the potential for water-borne diseases and scabies due to the shortage of clean water in the area. Amr further noted that the nature of injuries treated at his hospital, primarily involving scarring and disfigurements, foreshadows an impending health crisis following the conclusion of hostilities. Dr. Hussam al-Madhoun echoed a comparable scenario at the Al-Awda hospital in the northern Gaza region which has become partially non-functional as of now since it has completely run out of fuel. He emphasised that the hospital is extremely overcrowded, with “no space to walk,” as thousands of civilians have sought shelter there due to the Israeli airstrikes. Similar to the situation at Al-Shifa, Al-Awda is grappling with insufficient capacity to handle casualties and is facing a critical shortage of medical supplies, especially after ground invasion. He added that Gaza is now suffering from a shortage of shrouds.“There is nothing worse than not finding enough shrouds to cover the martyrs, so you wrap them with garbage bags and old pieces of cloth,” he said. “Now, with the ongoing siege and the fuel running out, a humanitarian catastrophe is imminent, and we will lose patients in our department and possibly thousands of patients in the entire hospital,” he added. Previously, in a video released by DW Cut, doctors have pleaded several times that Gaza is about to experience a total collapse of the healthcare system due to supplies running out like sand in hand and the number of casualties increasing each day. Published in Dawn, October 27th, 2023The raging conflict between Israel and Hamas has left countless dead, injured, or displaced. Gaza is in ruins and immediate humanitarian relief is needed. Several countries have extended a helping hand to Gazans, India is also one of them. Watch the video to know how India is helping the Palestinian people, and how the two nations have had a history of mutual respect and cooperation. Hamas Rocket Site Right Next To UN Building In Gaza, Claims Israel. Watch Where Else It Hides Them Days after a volley of claims and counter-claims over the deadly explosion at a hospital in Gaza, the Israel Defense Forces have released satellite images of places from where it claims rockets are launched by Palestinian group Hamas. The IDF claimed that the rocket launch sites are located close to civilian\n",
      "\n",
      "space, with inadequate access to hygiene and sanitation, can lead to an outbreak of infectious diseases, he says. Having dead bodies remain in the streets is another source of potential infection, health experts warn. Al-Shifa hospital also can’t sterilize surgical equipment properly. Abu-Sittah has been going out to the corner store to buy bottles of vinegar and laundry detergent to clean wounds. He feels forced to cut some surgeries short because of how many patients he needs to treat. “Everyday you make more and more compromises about what you can and can’t do,” Abu-Sittah says. Even Edhair’s hospital in Khan Younis in southern Gaza—Israel had ordered a mass evacuation from northern to southern Gaza on Oct. 13—has had its share of nearby explosions. Last week, he says two airstrikes landed near the hospital, causing mothers to flee their rooms, crying. “This is terrifying,” he says. “We all are afraid of war. I want everyone to know we are civilians.” On Monday morning, he found an airstrike just 500 meters from his home, he says. His mother told him not to go to the hospital but he refused to listen. More than 20 hospitals have been asked to evacuate in the northern Gaza strip, according to the Palestinian Ministry of Health. The Israeli government called Al-Awda hospitals less than a week ago and told Mhanna personally they have to evacuate staff and patients, he says. “I refused, of course, because where can I deal with my patients? All the hospitals in Gaza are overcrowded, people are lying in corridors.” “A crime is a crime, even if you make it by appointment.” - Dr. Ghassan Abu-Sittah Al-Shifa Hospital has received similar warnings. “Giving notice by telling hospitals that they need to evacuate—knowing very well that’s not possible—does not make targeting hospitals less of a war crime,” Abu-Sittah says. “A crime is a crime, even if you make it by appointment.” And as hospitals switch to caring for the victims of recent violence, routine care is almost impossible to provide. “When we think about war, we often focus on the victims of airstrikes… but ordinary lives don't stop. Women still go into labor. They still have miscarriages, ectopic pregnancies, preterm births, and hemorrhages,” says Dr. Brenda Kelly, a consultant obstetrician in Oxford, U.K. Many operating theaters in Gaza are now dealing with trauma-related injuries, leaving less room to treat pregnant women. Read More: What Aid Groups Say Gaza Needs Melanie Ward, CEO of Medical Aid for Palestinians, a U.K. based nonprofit, is particularly worried about disruptions to routine care, such as kidney dialysis and cancer. More than 1,000 kidney dialysis patients have had their session time reduced from four hours to 2.5 hours per patient, according to Palestine’s Ministry of Health. About 9,000 cancer patients rely on chemotherapy to stay alive and the only hospital providing this service is running on a single generator expected to stop working within 24-48 hours, the ministry noted. She says the group has already released more than half a million dollars worth of medical supplies to hospitals across Gaza. But it’s not enough. “Some operations have been conducted without anesthesia, which I find barbaric,” she says. “We do not live in the middle ages.” Dr. Omar Abdel-Mannan, a British-Egyptian senior pediatric neurology resident in London, co-founded the social media account @GazaMedicVoices, which shares firsthand accounts from health care professionals in the city. He\n",
      "\n",
      "Hospital, the main surgical facility in the Gaza strip, was on the brink of a complete shortage of essential medicines. In response, we recently were finally able to make a large donation of medical stock, including medicines and medical equipment to Al Shifa hospital. Our staff are working hard on preparing medical and humanitarian supplies to be sent to Gaza when safe access will be guaranteed and open, and we’ll send in emergency teams if and when we’re able to. MSF is committed to supporting the people affected by the Israeli heavy bombardments and indiscriminate attacks on Gaza. We stand in solidarity with healthcare workers and patients in Gaza. We want to be able to access people in need of medical care and offer lifesaving humanitarian services, but to do this we need basic guarantees of safety. The West Bank Since the start of the current conflict, our teams in Hebron, Nablus and Jenin have been actively assessing the medical needs in the West Bank, as violence there is escalating. We are focused on emergency care and mental health care.Fireworks In UN As U.S. & Russian Resolutions On Israel-Gaza War Get Rejected | Watch Massive showdown erupted in the United Nations Security council between ambassadors of the U.S., Russia, China, UAE and the UK after both American and Russian resolutions on the Israel-Hamas war failed to pass. The U.S. resolution was vetoed by Russia and China while the Russian resolution could secure only four votes when nine are needed to pass. Watch the faceoff in this video.The Israel-Hamas war enters its 20th day, almost three weeks after Hamas carried out a deadly assault on southern Israel that left at least 1,300 Israelis slaughtered and more than 3,300 people wounded on October 7. Some 220 people – more than half of whom are foreign nationals – are being held hostage by Hamas in Gaza. Israel responded with heavy aerial bombardment of the Gaza Strip, which according to the Hamas-run Health Ministry has left at least 6,546 Gazans dead – including 2,704 children. 17,439 Gazans have been wounded since the start of the war. A slow trickle of humanitarian aid has entered the Strip in recent days, after Israel imposed a siege on the enclave, cutting electricity, water and fuel. Here's what you need to know: ■ The release of a large number of hostages from Hamas captivity in Gaza may happen within a few days, according to Israeli and foreign sources familiar with negotiations on the matter. One of the sources said that the parties hope to finalize the deal \"within two days, maybe even less,\" and that whether it comes to pass depends on progress in negotiations with Hamas. ■ House Speaker Mike Johnson said the first bill he will bring to the floor is a resolution \"in support of our dear friend Israel and we are overdue in getting that done.\" Nearly 400 lawmakers co-sponsored a resolution condemning the Hamas attack in the immediate aftermath of October 7, condemning \"the barbaric war launched by Hamas\" and calling on all countries to condemn the organization. It further calls upon Hamas to cease its attacks, release hostages and return bodies of the deceased, as well as avowing continued commitment to maintaining U.S. aid, enforcing the Taylor Force Act and urging the full enforcement of sanctions against Iran. ■ A Jerusalem man was arrested today for hanging a sign on his balcony with the inscription \"No Sanctity in an Occupied City,\" alongside a Palestinian flag placed in a flowerpot. The police received\u001B[0m\u001B[32;1m\u001B[1;3mThe Al-Shifa Hospital in Gaza has been facing a critical situation due to the ongoing conflict between Israel and Hamas. The hospital is struggling to operate as it is running out of fuel needed to keep essential services running. The electricity supply is at risk, which is crucial for the hospital's operations, especially for neonatal babies dependent on ventilators. The hospital is overcrowded, operating well beyond its capacity, and facing shortages of medical supplies and equipment.\n",
      "\n",
      "The conflict has resulted in a high number of casualties, with more than 6,400 people killed and over 17,000 injured in Gaza. The hospitals, including Al-Shifa, are overwhelmed with patients, and the healthcare system is on the brink of collapse. The situation is exacerbated by the lack of clean water, inadequate sanitation, and the risk of infectious diseases spreading in the crowded hospital environment.\n",
      "\n",
      "Despite the challenges, healthcare professionals at Al-Shifa Hospital are dedicated to continuing their mission of caring for patients, even in the face of constant bombings and threats to their safety. The hospital staff are working tirelessly to provide medical care under extremely difficult circumstances.\n",
      "\n",
      "The international community has expressed concerns about the humanitarian crisis in Gaza and the urgent need for humanitarian aid to support the healthcare system and provide relief to the affected population. Efforts are being made to provide medical supplies and support to hospitals in Gaza, but more assistance is required to address the growing needs of the healthcare system in the region.\u001B[0m\n",
      "\n",
      "\u001B[1m> Finished chain.\u001B[0m\n"
     ]
    },
    {
     "data": {
      "text/plain": [
       "{'input': 'What happend at the AI-Shifa Hospital',\n",
       " 'output': \"The Al-Shifa Hospital in Gaza has been facing a critical situation due to the ongoing conflict between Israel and Hamas. The hospital is struggling to operate as it is running out of fuel needed to keep essential services running. The electricity supply is at risk, which is crucial for the hospital's operations, especially for neonatal babies dependent on ventilators. The hospital is overcrowded, operating well beyond its capacity, and facing shortages of medical supplies and equipment.\\n\\nThe conflict has resulted in a high number of casualties, with more than 6,400 people killed and over 17,000 injured in Gaza. The hospitals, including Al-Shifa, are overwhelmed with patients, and the healthcare system is on the brink of collapse. The situation is exacerbated by the lack of clean water, inadequate sanitation, and the risk of infectious diseases spreading in the crowded hospital environment.\\n\\nDespite the challenges, healthcare professionals at Al-Shifa Hospital are dedicated to continuing their mission of caring for patients, even in the face of constant bombings and threats to their safety. The hospital staff are working tirelessly to provide medical care under extremely difficult circumstances.\\n\\nThe international community has expressed concerns about the humanitarian crisis in Gaza and the urgent need for humanitarian aid to support the healthcare system and provide relief to the affected population. Efforts are being made to provide medical supplies and support to hospitals in Gaza, but more assistance is required to address the growing needs of the healthcare system in the region.\"}"
      ]
     },
     "execution_count": 47,
     "metadata": {},
     "output_type": "execute_result"
    }
   ],
   "source": [
    "agent_executor.invoke({\"input\":\"What happend at the AI-Shifa Hospital\"})"
   ]
  },
  {
   "cell_type": "code",
   "execution_count": 48,
   "id": "eafd4ad1-171b-49ad-a6ee-9dd163f86432",
   "metadata": {},
   "outputs": [
    {
     "name": "stdout",
     "output_type": "stream",
     "text": [
      "\n",
      "\n",
      "\u001B[1m> Entering new AgentExecutor chain...\u001B[0m\n",
      "\u001B[32;1m\u001B[1;3m\n",
      "Invoking: `wikipedia` with `FIFA`\n",
      "\n",
      "\n",
      "\u001B[0m\u001B[36;1m\u001B[1;3mPage: FIFA\n",
      "Summary: The Fédération Internationale de Football Association (French for 'International Federation of Association Football'; abbreviated as FIFA and pronounced in English as  FEE-fə) is an international self-regulatory governing body of association football, beach soccer, and futsal. It was founded in 1904 to oversee international competition among the national associations of Belgium, Denmark, France, Germany, the Netherlands, Spain (represented by the Madrid Football Club), Sweden, and Switzerland. Headquartered in Zürich, Switzerland, its membership now comprises 211 national associations. These national associations must also be members of one of the six regional confederations into which the world is divided: CAF (Africa), AFC (Asia and Australia), UEFA (Europe), CONCACAF (North & Central America and the Caribbean), OFC (Oceania), and CONMEBOL (South America).\n",
      "FIFA outlines several objectives in its organizational statutes, including growing association football inter\u001B[0m\u001B[32;1m\u001B[1;3mFIFA stands for Fédération Internationale de Football Association, which is the international governing body of association football, beach soccer, and futsal. It was founded in 1904 and is headquartered in Zurich, Switzerland. FIFA oversees international competitions among national football associations and has 211 member associations. The organization is divided into six regional confederations: CAF (Africa), AFC (Asia and Australia), UEFA (Europe), CONCACAF (North & Central America and the Caribbean), OFC (Oceania), and CONMEBOL (South America). FIFA has various objectives outlined in its organizational statutes, including growing association football internationally.\u001B[0m\n",
      "\n",
      "\u001B[1m> Finished chain.\u001B[0m\n"
     ]
    },
    {
     "data": {
      "text/plain": [
       "{'input': 'What is FIFA',\n",
       " 'output': 'FIFA stands for Fédération Internationale de Football Association, which is the international governing body of association football, beach soccer, and futsal. It was founded in 1904 and is headquartered in Zurich, Switzerland. FIFA oversees international competitions among national football associations and has 211 member associations. The organization is divided into six regional confederations: CAF (Africa), AFC (Asia and Australia), UEFA (Europe), CONCACAF (North & Central America and the Caribbean), OFC (Oceania), and CONMEBOL (South America). FIFA has various objectives outlined in its organizational statutes, including growing association football internationally.'}"
      ]
     },
     "execution_count": 48,
     "metadata": {},
     "output_type": "execute_result"
    }
   ],
   "source": [
    "agent_executor.invoke({\"input\":\"What is FIFA\"})"
   ]
  },
  {
   "cell_type": "code",
   "execution_count": null,
   "id": "12e2fa72-2164-4a3f-acc6-2b51bcd10df1",
   "metadata": {},
   "outputs": [],
   "source": []
  }
 ],
 "metadata": {
  "kernelspec": {
   "display_name": "Python 3 (ipykernel)",
   "language": "python",
   "name": "python3"
  },
  "language_info": {
   "codemirror_mode": {
    "name": "ipython",
    "version": 3
   },
   "file_extension": ".py",
   "mimetype": "text/x-python",
   "name": "python",
   "nbconvert_exporter": "python",
   "pygments_lexer": "ipython3",
   "version": "3.11.7"
  }
 },
 "nbformat": 4,
 "nbformat_minor": 5
}
