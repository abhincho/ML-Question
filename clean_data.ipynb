{
 "cells": [
  {
   "cell_type": "code",
   "execution_count": 1,
   "metadata": {},
   "outputs": [],
   "source": [
    "import re\n",
    "import json"
   ]
  },
  {
   "cell_type": "code",
   "execution_count": 2,
   "metadata": {},
   "outputs": [],
   "source": [
    "#Loading the data\n",
    "with open('news.article.json', 'r') as json_file:\n",
    "    data = json.load(json_file)"
   ]
  },
  {
   "cell_type": "code",
   "execution_count": 3,
   "metadata": {},
   "outputs": [
    {
     "data": {
      "text/plain": [
       "37421"
      ]
     },
     "execution_count": 3,
     "metadata": {},
     "output_type": "execute_result"
    }
   ],
   "source": [
    "len(data)"
   ]
  },
  {
   "cell_type": "code",
   "execution_count": 4,
   "metadata": {},
   "outputs": [],
   "source": [
    "def clean_text(text):\n",
    "    cleaned_text = text.lower()\n",
    "    cleaned_text = re.sub(r'\\\\\\'', '\\'', cleaned_text)\n",
    "    cleaned_text = re.sub(r'\\\\n', ' ', cleaned_text)\n",
    "    cleaned_text = re.sub(r'[^\\w\\s.,!?\\'\"-]', '', cleaned_text)\n",
    "    cleaned_text = re.sub(r'\\s+', ' ', cleaned_text)  \n",
    "    return cleaned_text.strip()"
   ]
  },
  {
   "cell_type": "code",
   "execution_count": 5,
   "metadata": {},
   "outputs": [
    {
     "data": {
      "text/plain": [
       "'Sanjay Raut, a member of the Shiv Sena (UBT) party, responded to the Maharashtra chief minister\\'s statement that Eknath Shinde \"himself is Hamas\" and that the Shiv Sena group led by Uddhav Thackeray is capable of collaborating with \"Hamas and Lashkar-e-Taiba for their own selfishness\" on Wednesday by claiming that Eknath Shinde is Hamas.\\n\\n\\n\\nRaut made fun of Shinde by claiming, \"He himself is Hamas. Hamas and Lashkar-e-Taiba, two terrorist groups, are completely irrelevant in Maharashtra. But the BJP is to blame for sowing the worms in their (the Shinde faction\\'s) thoughts, said Raut.\\n\\nWhen Shinde made a statement at the Tuesday Dussehra rally in Mumbai\\'s Azad Maidan, Raut reacted to it. As part of the opposition alliance INDIA, Uddhav Thackeray\\'s Shiv Sena (UBT) has formed an alliance with Congress and the Samajwadi Party. Shinde remarked of this alliance: \"For their own selfishness, they will tie the knot with Hamas and Lashkar-e-Taiba.\"\\n\\nRaut highlighted that Shinde\\'s address differed from the customary Dussehra rallies conducted by the Shiv Sena each year. Raut expressed that he could make various remarks, but we adhere to the principles and values of Balasaheb Thackeray. Balasaheb Thackeray used to focus on the nation and its citizens. However, Shinde\\'s entire speech was centered on bolstering the BJP, reinforcing the position of Modi ji, and fortifying JP Nadda ji.\\n\\nIn response to the provided statement, Raut expressed his view that the occasion was Dussehra, a day traditionally associated with auspiciousness. However, he criticized Shinde for focusing on contentious matters and likened him to \"Hamas\" and \"Al Qaeda of Maharashtra.\"\\n\\nRaut also mentioned that Shinde had, in his Dussehra speech, questioned the alliance between Shiv Sena (UBT) and Akhilesh Yadav\\'s Samajwadi Party, citing an incident from 1990 when Samajwadi Party founder Mulayam Singh Yadav had reportedly ordered the use of force against karsevaks in Ayodhya.\\n\\nThis event marked the first time that Thackeray and Shinde, leaders of the divergent factions of the Shiv Sena, organized separate Dussehra rallies in Mumbai, marking a departure from the party\\'s historical practices.'"
      ]
     },
     "execution_count": 5,
     "metadata": {},
     "output_type": "execute_result"
    }
   ],
   "source": [
    "data[0]['articleBody']"
   ]
  },
  {
   "cell_type": "code",
   "execution_count": 6,
   "metadata": {},
   "outputs": [
    {
     "data": {
      "text/plain": [
       "2179"
      ]
     },
     "execution_count": 6,
     "metadata": {},
     "output_type": "execute_result"
    }
   ],
   "source": [
    "len(data[0]['articleBody'])"
   ]
  },
  {
   "cell_type": "code",
   "execution_count": 7,
   "metadata": {},
   "outputs": [
    {
     "data": {
      "text/plain": [
       "'sanjay raut, a member of the shiv sena ubt party, responded to the maharashtra chief minister\\'s statement that eknath shinde \"himself is hamas\" and that the shiv sena group led by uddhav thackeray is capable of collaborating with \"hamas and lashkar-e-taiba for their own selfishness\" on wednesday by claiming that eknath shinde is hamas. raut made fun of shinde by claiming, \"he himself is hamas. hamas and lashkar-e-taiba, two terrorist groups, are completely irrelevant in maharashtra. but the bjp is to blame for sowing the worms in their the shinde faction\\'s thoughts, said raut. when shinde made a statement at the tuesday dussehra rally in mumbai\\'s azad maidan, raut reacted to it. as part of the opposition alliance india, uddhav thackeray\\'s shiv sena ubt has formed an alliance with congress and the samajwadi party. shinde remarked of this alliance \"for their own selfishness, they will tie the knot with hamas and lashkar-e-taiba.\" raut highlighted that shinde\\'s address differed from the customary dussehra rallies conducted by the shiv sena each year. raut expressed that he could make various remarks, but we adhere to the principles and values of balasaheb thackeray. balasaheb thackeray used to focus on the nation and its citizens. however, shinde\\'s entire speech was centered on bolstering the bjp, reinforcing the position of modi ji, and fortifying jp nadda ji. in response to the provided statement, raut expressed his view that the occasion was dussehra, a day traditionally associated with auspiciousness. however, he criticized shinde for focusing on contentious matters and likened him to \"hamas\" and \"al qaeda of maharashtra.\" raut also mentioned that shinde had, in his dussehra speech, questioned the alliance between shiv sena ubt and akhilesh yadav\\'s samajwadi party, citing an incident from 1990 when samajwadi party founder mulayam singh yadav had reportedly ordered the use of force against karsevaks in ayodhya. this event marked the first time that thackeray and shinde, leaders of the divergent factions of the shiv sena, organized separate dussehra rallies in mumbai, marking a departure from the party\\'s historical practices.'"
      ]
     },
     "execution_count": 7,
     "metadata": {},
     "output_type": "execute_result"
    }
   ],
   "source": [
    "clean_text(data[0]['articleBody'])"
   ]
  },
  {
   "cell_type": "code",
   "execution_count": 8,
   "metadata": {},
   "outputs": [
    {
     "data": {
      "text/plain": [
       "2162"
      ]
     },
     "execution_count": 8,
     "metadata": {},
     "output_type": "execute_result"
    }
   ],
   "source": [
    "len(clean_text(data[0]['articleBody']))"
   ]
  },
  {
   "cell_type": "code",
   "execution_count": 9,
   "metadata": {},
   "outputs": [],
   "source": [
    "for i in data:\n",
    "    i['articleBody'] = clean_text(i['articleBody'])"
   ]
  },
  {
   "cell_type": "code",
   "execution_count": 10,
   "metadata": {},
   "outputs": [],
   "source": [
    "# Filtering the data\n",
    "cleaned_data = []\n",
    "for article in data:\n",
    "    if 'israel' in article['articleBody'] or 'hamas' in article['articleBody']:\n",
    "        cleaned_data.append({\n",
    "            'title': article['title'],\n",
    "            'articleBody': article['articleBody'],\n",
    "            'source': article['source']\n",
    "        })"
   ]
  },
  {
   "cell_type": "code",
   "execution_count": 11,
   "metadata": {},
   "outputs": [
    {
     "data": {
      "text/plain": [
       "{'title': \"Shiv Sena MP Sanjay Raut Responds To 'Hamas' Remark In Fiery Exchange\",\n",
       " 'articleBody': 'sanjay raut, a member of the shiv sena ubt party, responded to the maharashtra chief minister\\'s statement that eknath shinde \"himself is hamas\" and that the shiv sena group led by uddhav thackeray is capable of collaborating with \"hamas and lashkar-e-taiba for their own selfishness\" on wednesday by claiming that eknath shinde is hamas. raut made fun of shinde by claiming, \"he himself is hamas. hamas and lashkar-e-taiba, two terrorist groups, are completely irrelevant in maharashtra. but the bjp is to blame for sowing the worms in their the shinde faction\\'s thoughts, said raut. when shinde made a statement at the tuesday dussehra rally in mumbai\\'s azad maidan, raut reacted to it. as part of the opposition alliance india, uddhav thackeray\\'s shiv sena ubt has formed an alliance with congress and the samajwadi party. shinde remarked of this alliance \"for their own selfishness, they will tie the knot with hamas and lashkar-e-taiba.\" raut highlighted that shinde\\'s address differed from the customary dussehra rallies conducted by the shiv sena each year. raut expressed that he could make various remarks, but we adhere to the principles and values of balasaheb thackeray. balasaheb thackeray used to focus on the nation and its citizens. however, shinde\\'s entire speech was centered on bolstering the bjp, reinforcing the position of modi ji, and fortifying jp nadda ji. in response to the provided statement, raut expressed his view that the occasion was dussehra, a day traditionally associated with auspiciousness. however, he criticized shinde for focusing on contentious matters and likened him to \"hamas\" and \"al qaeda of maharashtra.\" raut also mentioned that shinde had, in his dussehra speech, questioned the alliance between shiv sena ubt and akhilesh yadav\\'s samajwadi party, citing an incident from 1990 when samajwadi party founder mulayam singh yadav had reportedly ordered the use of force against karsevaks in ayodhya. this event marked the first time that thackeray and shinde, leaders of the divergent factions of the shiv sena, organized separate dussehra rallies in mumbai, marking a departure from the party\\'s historical practices.',\n",
       " 'source': 'https://www.thehansindia.com/'}"
      ]
     },
     "execution_count": 11,
     "metadata": {},
     "output_type": "execute_result"
    }
   ],
   "source": [
    "cleaned_data[0]"
   ]
  },
  {
   "cell_type": "code",
   "execution_count": 12,
   "metadata": {},
   "outputs": [
    {
     "data": {
      "text/plain": [
       "37421"
      ]
     },
     "execution_count": 12,
     "metadata": {},
     "output_type": "execute_result"
    }
   ],
   "source": [
    "len(data)"
   ]
  },
  {
   "cell_type": "code",
   "execution_count": 13,
   "metadata": {},
   "outputs": [
    {
     "data": {
      "text/plain": [
       "35411"
      ]
     },
     "execution_count": 13,
     "metadata": {},
     "output_type": "execute_result"
    }
   ],
   "source": [
    "len(cleaned_data)"
   ]
  },
  {
   "cell_type": "code",
   "execution_count": 14,
   "metadata": {},
   "outputs": [],
   "source": [
    "with open('cleaned_data.json', 'w') as json_file:\n",
    "    json.dump(cleaned_data, json_file, indent=4)"
   ]
  }
 ],
 "metadata": {
  "kernelspec": {
   "display_name": "chat-app",
   "language": "python",
   "name": "python3"
  },
  "language_info": {
   "codemirror_mode": {
    "name": "ipython",
    "version": 3
   },
   "file_extension": ".py",
   "mimetype": "text/x-python",
   "name": "python",
   "nbconvert_exporter": "python",
   "pygments_lexer": "ipython3",
   "version": "3.12.3"
  }
 },
 "nbformat": 4,
 "nbformat_minor": 2
}
