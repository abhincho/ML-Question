{
 "cells": [
  {
   "cell_type": "code",
   "execution_count": 3,
   "id": "523b9970-0290-42a2-8be5-468464b26b32",
   "metadata": {},
   "outputs": [
    {
     "name": "stderr",
     "output_type": "stream",
     "text": [
      "100%|███████████████████████████████████████████████████████████████████████████| 37421/37421 [03:47<00:00, 164.51it/s]\n",
      "Special tokens have been added in the vocabulary, make sure the associated word embeddings are fine-tuned or trained.\n"
     ]
    },
    {
     "name": "stdout",
     "output_type": "stream",
     "text": [
      "Please enter your question (or type 'exit' to stop):  What is happening in the hospital\n"
     ]
    },
    {
     "name": "stdout",
     "output_type": "stream",
     "text": [
      "Answer: protests took place in parts of tel aviv after israeli military announced that\n"
     ]
    },
    {
     "name": "stdout",
     "output_type": "stream",
     "text": [
      "Please enter your question (or type 'exit' to stop):  Exit\n"
     ]
    },
    {
     "name": "stdout",
     "output_type": "stream",
     "text": [
      "Exiting the question-answering system. Goodbye!\n"
     ]
    }
   ],
   "source": [
    "import json\n",
    "import re\n",
    "from tqdm import tqdm\n",
    "from rank_bm25 import BM25Okapi\n",
    "from transformers import T5ForConditionalGeneration, T5Tokenizer\n",
    "\n",
    "# Load the JSON file with specified encoding\n",
    "file_path = 'news.article.json'\n",
    "\n",
    "#/TR: Load the JSON file containing news articles\n",
    "with open(file_path, 'r', encoding='utf-8') as file:\n",
    "    #/TR: Load the JSON content into the 'articles' variable\n",
    "    articles = json.load(file)\n",
    "\n",
    "# Preprocess articles\n",
    "def clean_article(article):\n",
    "    #/TR: Remove special characters and noise from the article\n",
    "    article = re.sub(r'\\s+', ', article)  # Remove extra whitespace\n",
    "    article = re.sub(r'[^\\w\\s]', '', article)  # Remove punctuation\n",
    "    article = article.lower()  # Convert to lowercase\n",
    "    return article\n",
    "\n",
    "#/TR: Initialize an empty list to store cleaned articles\n",
    "cleaned_articles = []\n",
    "for article in tqdm(articles):\n",
    "    #/TR: Access the article text using the 'articleBody' key\n",
    "    article_text = article.get('articleBody', '')  \n",
    "    #/TR: Apply basic filtering for relevant articles\n",
    "    if 'israel' in article_text.lower() or 'hamas' in article_text.lower():  \n",
    "        #/TR: Clean the article and add it to the list\n",
    "        cleaned_articles.append(clean_article(article_text))\n",
    "\n",
    "# Tokenize the articles for BM25\n",
    "#/TR: Split each cleaned article into individual words\n",
    "tokenized_articles = [article.split() for article in cleaned_articles]\n",
    "\n",
    "# Initialize BM25\n",
    "#/TR: Create a BM25Okapi instance for ranking articles\n",
    "bm25 = BM25Okapi(tokenized_articles)\n",
    "\n",
    "def retrieve_articles(query, k=5):\n",
    "    #/TR: Tokenize the query and convert to lowercase\n",
    "    tokenized_query = query.lower().split()\n",
    "    #/TR: Retrieve the top 'k' relevant articles for the query\n",
    "    results = bm25.get_top_n(tokenized_query, cleaned_articles, n=k)\n",
    "    return results\n",
    "\n",
    "# Load T5 model and tokenizer\n",
    "model_name = 't5-small'  # You can choose a larger model for better performance\n",
    "#/TR: Load the pre-trained T5 model for conditional generation\n",
    "model = T5ForConditionalGeneration.from_pretrained(model_name)\n",
    "#/TR: Load the pre-trained T5 tokenizer\n",
    "tokenizer = T5Tokenizer.from_pretrained(model_name)\n",
    "\n",
    "def answer_question(question, articles):\n",
    "    #/TR: Combine the articles into a single context string\n",
    "    context = \" \".join(articles)\n",
    "    #/TR: Create the input text for the T5 model\n",
    "    input_text = f\"question: {question} context: {context}\"\n",
    "    #/TR: Tokenize the input text and prepare it for the T5 model\n",
    "    input_ids = tokenizer.encode(input_text, return_tensors='pt', truncation=True)\n",
    "    #/TR: Generate the answer using the T5 model\n",
    "    outputs = model.generate(input_ids)\n",
    "    #/TR: Decode the answer and remove special tokens\n",
    "    answer = tokenizer.decode(outputs[0], skip_special_tokens=True)\n",
    "    return answer\n",
    "\n",
    "def answer_israel_hamas_question(question):\n",
    "    #/TR: Retrieve relevant articles for the question\n",
    "    retrieved_articles = retrieve_articles(question)\n",
    "    #/TR: Answer the question using the retrieved articles\n",
    "    answer = answer_question(question, retrieved_articles)\n",
    "    return answer\n",
    "\n",
    "# Repeatedly ask for questions and provide answers\n",
    "while True:\n",
    "    #/TR: Prompt the user to enter a question or type 'exit' to stop\n",
    "    user_question = input(\"Please enter your question (or type 'exit' to stop): \")\n",
    "    if user_question.lower() == 'exit':\n",
    "        print(\"Exiting the question-answering system. Goodbye!\")\n",
    "        break\n",
    "    #/TR: Answer the user's question\n",
    "    answer = answer_israel_hamas_question(user_question)\n",
    "    print(\"Answer:\", answer)"
   ]
  },
  {
   "cell_type": "code",
   "execution_count": null,
   "id": "95a7dc7e-f9a3-456c-9cb7-a621ef1249b6",
   "metadata": {},
   "outputs": [],
   "source": []
  }
 ],
 "metadata": {
  "kernelspec": {
   "display_name": "Python 3 (ipykernel)",
   "language": "python",
   "name": "python3"
  },
  "language_info": {
   "codemirror_mode": {
    "name": "ipython",
    "version": 3
   },
   "file_extension": ".py",
   "mimetype": "text/x-python",
   "name": "python",
   "nbconvert_exporter": "python",
   "pygments_lexer": "ipython3",
   "version": "3.12.3"
  }
 },
 "nbformat": 4,
 "nbformat_minor": 5
}
