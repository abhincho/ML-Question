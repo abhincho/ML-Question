{
 "cells": [
  {
   "cell_type": "code",
   "execution_count": 9,
   "id": "fb920cdc-358e-4fc3-ab80-5b000d2501c6",
   "metadata": {},
   "outputs": [
    {
     "name": "stdout",
     "output_type": "stream",
     "text": [
      "Collecting rank-bm25\n",
      "  Downloading rank_bm25-0.2.2-py3-none-any.whl.metadata (3.2 kB)\n",
      "Requirement already satisfied: numpy in c:\\users\\ayush\\appdata\\local\\programs\\python\\python312\\lib\\site-packages (from rank-bm25) (1.26.4)\n",
      "Downloading rank_bm25-0.2.2-py3-none-any.whl (8.6 kB)\n",
      "Installing collected packages: rank-bm25\n",
      "Successfully installed rank-bm25-0.2.2\n"
     ]
    }
   ],
   "source": [
    "!pip install rank-bm25\n"
   ]
  },
  {
   "cell_type": "code",
   "execution_count": 13,
   "id": "bc6eab8e-bd7c-46ed-a777-af338d55310e",
   "metadata": {},
   "outputs": [
    {
     "name": "stdout",
     "output_type": "stream",
     "text": [
      "Collecting sentencepieceNote: you may need to restart the kernel to use updated packages.\n",
      "\n",
      "  Downloading sentencepiece-0.2.0-cp312-cp312-win_amd64.whl.metadata (8.3 kB)\n",
      "Downloading sentencepiece-0.2.0-cp312-cp312-win_amd64.whl (991 kB)\n",
      "   ---------------------------------------- 0.0/992.0 kB ? eta -:--:--\n",
      "   ---------------------------------------- 10.2/992.0 kB ? eta -:--:--\n",
      "   - ------------------------------------- 30.7/992.0 kB 435.7 kB/s eta 0:00:03\n",
      "   ------ --------------------------------- 153.6/992.0 kB 1.1 MB/s eta 0:00:01\n",
      "   ------------------ --------------------- 450.6/992.0 kB 2.8 MB/s eta 0:00:01\n",
      "   --------------------------------- ------ 829.4/992.0 kB 3.7 MB/s eta 0:00:01\n",
      "   ---------------------------------------- 992.0/992.0 kB 4.2 MB/s eta 0:00:00\n",
      "Installing collected packages: sentencepiece\n",
      "Successfully installed sentencepiece-0.2.0\n"
     ]
    }
   ],
   "source": [
    "pip install sentencepiece"
   ]
  },
  {
   "cell_type": "code",
   "execution_count": 3,
   "id": "523b9970-0290-42a2-8be5-468464b26b32",
   "metadata": {},
   "outputs": [
    {
     "name": "stderr",
     "output_type": "stream",
     "text": [
      "100%|███████████████████████████████████████████████████████████████████████████| 37421/37421 [03:47<00:00, 164.51it/s]\n",
      "Special tokens have been added in the vocabulary, make sure the associated word embeddings are fine-tuned or trained.\n"
     ]
    },
    {
     "name": "stdin",
     "output_type": "stream",
     "text": [
      "Please enter your question (or type 'exit' to stop):  What is happening in the hospital\n"
     ]
    },
    {
     "name": "stdout",
     "output_type": "stream",
     "text": [
      "Answer: protests took place in parts of tel aviv after israeli military announced that\n"
     ]
    },
    {
     "name": "stdin",
     "output_type": "stream",
     "text": [
      "Please enter your question (or type 'exit' to stop):  Exit\n"
     ]
    },
    {
     "name": "stdout",
     "output_type": "stream",
     "text": [
      "Exiting the question-answering system. Goodbye!\n"
     ]
    }
   ],
   "source": [
    "import json\n",
    "import re\n",
    "from tqdm import tqdm\n",
    "from rank_bm25 import BM25Okapi\n",
    "from transformers import T5ForConditionalGeneration, T5Tokenizer\n",
    "\n",
    "# Load the JSON file with specified encoding\n",
    "file_path = 'news.article.json'\n",
    "\n",
    "with open(file_path, 'r', encoding='utf-8') as file:\n",
    "    articles = json.load(file)\n",
    "\n",
    "# Preprocess articles\n",
    "def clean_article(article):\n",
    "    # Remove special characters and noise\n",
    "    article = re.sub(r'\\s+', ' ', article)  # Remove extra whitespace\n",
    "    article = re.sub(r'[^\\w\\s]', '', article)  # Remove punctuation\n",
    "    article = article.lower()  # Convert to lowercase\n",
    "    return article\n",
    "\n",
    "cleaned_articles = []\n",
    "for article in tqdm(articles):\n",
    "    article_text = article.get('articleBody', '')  # Access the article text using 'articleBody' key\n",
    "    if 'israel' in article_text.lower() or 'hamas' in article_text.lower():  # Basic filter for relevant articles\n",
    "        cleaned_articles.append(clean_article(article_text))\n",
    "\n",
    "# Tokenize the articles for BM25\n",
    "tokenized_articles = [article.split() for article in cleaned_articles]\n",
    "\n",
    "# Initialize BM25\n",
    "bm25 = BM25Okapi(tokenized_articles)\n",
    "\n",
    "def retrieve_articles(query, k=5):\n",
    "    tokenized_query = query.lower().split()\n",
    "    results = bm25.get_top_n(tokenized_query, cleaned_articles, n=k)\n",
    "    return results\n",
    "\n",
    "# Load T5 model and tokenizer\n",
    "model_name = 't5-small'  # You can choose a larger model for better performance\n",
    "model = T5ForConditionalGeneration.from_pretrained(model_name)\n",
    "tokenizer = T5Tokenizer.from_pretrained(model_name)\n",
    "\n",
    "def answer_question(question, articles):\n",
    "    context = \" \".join(articles)\n",
    "    input_text = f\"question: {question} context: {context}\"\n",
    "    input_ids = tokenizer.encode(input_text, return_tensors='pt', truncation=True)\n",
    "    outputs = model.generate(input_ids)\n",
    "    answer = tokenizer.decode(outputs[0], skip_special_tokens=True)\n",
    "    return answer\n",
    "\n",
    "def answer_israel_hamas_question(question):\n",
    "    retrieved_articles = retrieve_articles(question)\n",
    "    answer = answer_question(question, retrieved_articles)\n",
    "    return answer\n",
    "\n",
    "# Repeatedly ask for questions and provide answers\n",
    "while True:\n",
    "    user_question = input(\"Please enter your question (or type 'exit' to stop): \")\n",
    "    if user_question.lower() == 'exit':\n",
    "        print(\"Exiting the question-answering system. Goodbye!\")\n",
    "        break\n",
    "    answer = answer_israel_hamas_question(user_question)\n",
    "    print(\"Answer:\", answer)\n"
   ]
  },
  {
   "cell_type": "code",
   "execution_count": null,
   "id": "95a7dc7e-f9a3-456c-9cb7-a621ef1249b6",
   "metadata": {},
   "outputs": [],
   "source": []
  }
 ],
 "metadata": {
  "kernelspec": {
   "display_name": "Python 3 (ipykernel)",
   "language": "python",
   "name": "python3"
  },
  "language_info": {
   "codemirror_mode": {
    "name": "ipython",
    "version": 3
   },
   "file_extension": ".py",
   "mimetype": "text/x-python",
   "name": "python",
   "nbconvert_exporter": "python",
   "pygments_lexer": "ipython3",
   "version": "3.12.3"
  }
 },
 "nbformat": 4,
 "nbformat_minor": 5
}
