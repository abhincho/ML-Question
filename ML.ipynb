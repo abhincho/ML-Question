{
  "cells": [
    {
      "cell_type": "code",
      "execution_count": 20,
      "metadata": {
        "id": "0SDhPBBRMFWZ"
      },
      "outputs": [],
      "source": [
        "# Importing Libraries for Data Laoding\n",
        "import pandas as pd\n",
        "import numpy as np\n",
        "import json\n",
        "import re\n"
      ]
    },
    {
      "cell_type": "code",
      "execution_count": 2,
      "metadata": {
        "colab": {
          "base_uri": "https://localhost:8080/"
        },
        "id": "bsjlKN5MMrjT",
        "outputId": "1ba3218e-27d3-4e6f-8915-a43fdcf07f1a"
      },
      "outputs": [
        {
          "name": "stdout",
          "output_type": "stream",
          "text": [
            "                                         articleBody  \\\n",
            "0  Sanjay Raut, a member of the Shiv Sena (UBT) p...   \n",
            "1  Kozhikode (Kerala) [India], October 27 (ANI): ...   \n",
            "2  Mumbai, Oct 24 (PTI) Maharashtra Chief Ministe...   \n",
            "3  Sensex, Nifty rebound over 1 pc after six sess...   \n",
            "4  October 26, 2023 08:15 pm | Updated 08:38 pm I...   \n",
            "\n",
            "                            dateModified  \\\n",
            "0  {'$date': '2023-10-25T06:35:50.000Z'}   \n",
            "1                                    NaN   \n",
            "2  {'$date': '2023-10-25T02:14:27.000Z'}   \n",
            "3                                    NaN   \n",
            "4  {'$date': '2023-10-26T14:45:24.000Z'}   \n",
            "\n",
            "                             scrapedDate                             source  \\\n",
            "0  {'$date': '2023-10-27T13:12:18.339Z'}      https://www.thehansindia.com/   \n",
            "1  {'$date': '2023-10-27T13:12:45.595Z'}            https://www.aninews.in/   \n",
            "2  {'$date': '2023-10-27T13:12:18.339Z'}            https://thefederal.com/   \n",
            "3  {'$date': '2023-10-27T13:12:41.618Z'}  https://english.varthabharati.in/   \n",
            "4  {'$date': '2023-10-27T13:12:45.595Z'}          https://www.thehindu.com/   \n",
            "\n",
            "                                               title  \n",
            "0  Shiv Sena MP Sanjay Raut Responds To 'Hamas' R...  \n",
            "1  At IUML's pro-Palestine rally in Kerala Tharoo...  \n",
            "2  Uddhav buried Bal Thackeray's 'Hindutva' for p...  \n",
            "3  New Bills replacing IPC, CrPC, Evidence Act wi...  \n",
            "4  Israel biggest terrorist nation in the world, ...  \n"
          ]
        }
      ],
      "source": [
        "\n",
        "# Load JSON data into a DataFrame using pd.read_json()\n",
        "df = pd.read_json(r'/content/drive/MyDrive/news.article.json')\n",
        "\n",
        "# Display the first few rows of the DataFrame\n",
        "print(df.head())\n",
        "\n",
        "# Access the JSON data from the DataFrame\n",
        "json_data = df.to_dict(orient='records')\n"
      ]
    },
    {
      "cell_type": "code",
      "execution_count": 4,
      "metadata": {
        "colab": {
          "base_uri": "https://localhost:8080/",
          "height": 684
        },
        "id": "e6qz6ExlNxHM",
        "outputId": "5aa8872f-d296-4329-d33f-7b5448d75ab3"
      },
      "outputs": [
        {
          "data": {
            "application/vnd.google.colaboratory.intrinsic+json": {
              "summary": "{\n  \"name\": \"pd\",\n  \"rows\": 37421,\n  \"fields\": [\n    {\n      \"column\": \"articleBody\",\n      \"properties\": {\n        \"dtype\": \"string\",\n        \"num_unique_values\": 34654,\n        \"samples\": [\n          \"Photo Credit: Amos Ben-Gershom/GPO\\n\\nPrime Minister Benjamin Netanyahu delivered a serious, blunt message to the Biden Administration on Saturday night, reiterating that regardless of American intentions, Israel will be the only entity to control security in Gaza after the Hamas terrorist organization is eradicated from the enclave. [Full text of Netanyahu\\u2019s statement is at the bottom of this article.]\\n\\nAdvertisement\\n\\n\\n\\n\\n\\nThe Biden Administration is continuing to pressure Israel into a post-war capitulation that would leave the \\u201cpay to slay\\u201d Palestinian Authority government, which rewards Arab terrorists with lifetime monthly payments for murdering Israelis, in control over Gaza.\\n\\n\\u201cIt is important to clarify this right now. Because between friends one must tell the truth and not foster illusions, all the more so on an existential and fateful issue like this,\\u201d Netanyahu said in a lengthy statement to the nation on Saturday night.\\n\\n\\u201cSo I repeat to our friends: after the elimination of Hamas, the Gaza Strip will be demilitarized, it will be under the security control of Israel, and there will be no factor in it that will threaten us and no factor that will educate its children to destroy us,\\u201d he emphasized.\\n\\nIn other words, no Ramallah government in Gaza.\\n\\nUS Leaves Open Possibility of Hamas Keeping Power, as Ramallah Throws Hamas a Lifeline\\n\\nA spokesperson for the US State Department told the Tazpit Press Service on Thursday that \\u201cPalestinians\\u2019 voices and aspirations must be at the center of post-crisis governance in Gaza, unified with the West Bank under the [Palestinian Authority].\\n\\n\\u201cWe remain committed to working with the PA and Palestinian leadership on the critical work of strengthening Palestinian institutions \\u2026 and reinforcing commitments to nonviolence and countering terrorism,\\u201d the spokesperson added.\\n\\nAdd to that President Joe Biden\\u2019s continued insistence that Israel plan ahead for a mandatory \\u201ctwo-state solution.\\u201d\\n\\nThis is, to be clear, delusional thinking.\\n\\nIt is the Palestinian Authority government in Ramallah that continues to this day to reward terrorists who attack and try to kill Israelis with lifetime monthly payments. The families of those who die in such attempts are likewise rewarded.\\n\\nSuch payments are grounds for terminating foreign aid to the Palestinian Authority under the \\u201cTaylor Force Act\\u201d in the United States, but who\\u2019s paying attention to that small detail?\\n\\nApparently, the White House is not concerned. Nor are those in living in the Palestinian Authority-controlled areas of Judea and Samaria, whose admiration for Hamas has skyrocketed since October 7.\\n\\nNearly 75% of PA Arabs Say Hamas Was Right to Attack Israel on Oct. 7\\n\\nNearly three in four Palestinian Authority Arabs believes that Hamas was right to launch its October 7th invasion of Israel, massacre at least 1,200 citizens and dual nationals and kidnap another 240 people to Gaza, according to the latest survey by the Palestinian Center for Policy and Survey Research.\\n\\nThe Ramallah-based institute polled 1,231 Arab adults in the Gaza Strip, Judea and Samaria between Nov. 22 and Dec. 2, and found that 72 percent of respondents think Hamas was \\u201ccorrect\\u201d in carrying out the slaughter.\\n\\nWorse, 89 percent of respondents denied the terrorists committed war crimes on October 7th, and a full 95 percent claimed Israel has breached international law during its defensive operation against Hamas in Gaza.\\n\\nMore ominously: More than half of respondents said Hamas is \\u201cthe most deserving of representing and leading the Palestinian people today.\\u201d\\n\\nIf an election were held in the Palestinian Authority today, Hamas would receive 51 percent of the vote. In a leadership runoff between current PA chief Mahmoud Abbas would easily be ousted by current Hamas politburo chief Ismail Haniyeh, with the Hamas official getting 78 percent of the vote, and 88 percent of Arabs in the Palestinian Authority saying Abbas needs to resign.\\n\\nFull Statement by PM Netanyahu:\\n\\n\\u201cCitizens of Israel,\\n\\nWe are in a war for our existence, in which we must continue until victory, despite the international pressure and despite the unbearable cost that the war is exacting from us in our fallen sons and daughters. The State of Israel mourns the tragic deaths of three of our hostages: Alon Shamriz, Samar Talalka and Yotam Haim.\\n\\nWhen I was updated about the terrible tragedy \\u2013 it struck me hard. Alon, Samar and Yotam survived hell for 72 days, they were almost one step from freedom, they had touched redemption and then disaster struck. It broke my heart. It broke the entire country\\u2019s heart. Our heart goes out to the families in their time of deep mourning.\\n\\nAt this difficult time, it is important for me to stand by our soldiers. They are giving their lives to achieve a crushing victory over our enemies and return our hostages. We are doing \\u2013 and will do \\u2013 everything to safeguard the lives of our soldiers, each and every one of them, and we will use all means so that they are not hurt.\\n\\nSince the tragedy yesterday, one thought has followed me: \\u2018What would have happened if something had been different?\\u2019 I am certain that we all share this thought. We were so close to embracing them now. But I regret that we cannot turn back the clock. Everyone who has fought on the battlefield knows that the distance between victory and disaster is a hair\\u2019s breadth. Out of the immense pain, we will learn and implement the lessons, and we will not relent in the military and diplomatic effort to safely return home all of our hostages.\\n\\nWith all of the deep sorrow, I would like to clarify: The military pressure is essential both for returning the hostages and achieving victory over our enemies. Without the military pressure, we would not have succeeded in creating an outline that led to the release of 110 hostages. And only continued military pressure will lead to the release of all of our hostages. My directive to the negotiating team is based on this pressure, without which we would have nothing.\\n\\nCitizens of Israel,\\n\\nOn Thursday evening, we lit the last candle of Chanukah. In those days, in the fight for our existence, four of the five Hasmoneans fell and ensured the victory of Israel over an enemy that wanted to eradicate our people. In these days, in fierce battles in Jebalya, Sajaiya, Khan Yunis and other places, the Maccabees of our time have fallen in the fight against an enemy that wants to destroy us. We have lost dear heroes, soldiers and commander of unparalleled bravery and dedication, heroes that fell in battle so that we might continue to live in our land, so that the thread of our lives will not be cut.\\n\\nTogether with you, citizens of Israel, I stand by the bereaved families. I cry with them. Coming from a bereaved family, I know that until their last day they will not stop missing their loved ones and crying over what and who they have lost. I spoke with the widow and parents of Lt.-Col. Tomer Greenberg, the commander of the Golani Brigade\\u2019s 13th Battalion, who fell heroically this week together with his soldiers and those under his command. I told them what I say to all of my brothers and sisters from bereaved families, I know that the pain which rends your heart will never relent. But there is one comfort: To ensure that our heroes will not have fallen in vain, to ensure that we will continue to fight until absolute victory is achieved.\\n\\nI also made this determination clear to US National Security Adviser Jake Sullivan with whom I met on Thursday. I greatly appreciate the US support for Israel \\u2013 in the assistance in returning our hostages, in the supply of munitions for the IDF, in blocking the attempts at the UN to stop the fighting, and in other things. I reiterate to our friends: We are more determined than ever to continue to the end \\u2013 until we eliminate Hamas, return all of our hostages, and ensure that, with G-d\\u2019s help, there will not be any element that educates for terrorism, finances terrorism and dispatches terrorism.\\n\\nI say this to the entire world; many around the world understand this and I repeat it this evening as well. This is not \\u2018politics\\u2019 but policy. This is my policy and today I can say: This is the desire of the vast majority of the country. I will not allow us to replace Hamastan with Fatahstan, that we replace Khan Yunis with Jenin. I will not allow the State of Israel to repeat the fateful mistake of Oslo, which brought to the heart of our country and to Gaza, the most extreme elements in the Arab world, which are committed to the destruction of the State of Israel and who educate their children to this end.\\n\\nThe debate between Hamas and Fatah is not \\u2018whether\\u2019 to eliminate the State of Israel but \\u2018how\\u2019 to do it. According to a poll that was carried out a few days ago, 82% of the Palestinian population in Judea and Samaria justifies the horrific massacre of October 7th. As of this moment, the Palestinian Authority senior leadership simply refuses to condemn the massacre and some of them even praise it openly. They will control Gaza on \\u2018the day after\\u2019? Haven\\u2019t we learned anything? As the Prime Minister of Israel, I will not allow that to happen.\\n\\nIt is important to make this clear now because among friends we must tell the truth and not foster illusions, how much more so on an existential and fateful issue such as this. Then I reiterate to our friends: After the elimination of Hamas, the Gaza Strip will be demilitarized, will be under Israeli security control, and no element in it will either threaten us or educate its children to destroy us.\\n\\nI want to tell you, citizens of Israel, that while victory will take time, we are determined to continue until the end, despite the immense pain, despite the bereavement that rends our hearts, despite the international pressure. We will continue until the end. Nothing will stop us \\u2013 until we achieve victory.\\n\\nTogether we will fight and, with G-d\\u2019s help, together we will win.\\u201d\",\n          \"Good morning, Broadsheet readers! CVS is planning to make prescription prices more transparent for patients, Liz Cheney is considering a third-party campaign for the White House, and Sheryl Sandberg speaks out against sexual violence in the Israel-Hamas war. Have a good Wednesday!\\n\\n\\n\\n\\u2013 Sandberg\\u2019s new call. On Monday afternoon, former Meta COO Sheryl Sandberg joined a group of activists at the UN calling for a wider global response to sexual violence committed against Israeli women by Hamas during the Oct. 7 attacks.\\n\\nSandberg first spoke out on this issue via a CNN op-ed published in late November. The founder of LeanIn.org, Sandberg often weighs in on women\\u2019s workplace issues and sometimes on related matters of sexism and gender bias. But wading into the Israel-Hamas war, via this particular topic of sexual violence, is perhaps her boldest stance yet. \\u201cFor over a decade, I\\u2019ve been urging women to lean in,\\u201d Sandberg said in her speech at the UN. \\u201cNow I call on everyone to speak out.\\u201d\\n\\nAfter Oct. 7, Israel began investigating incidents of sexual violence and rape during the attacks. Witnesses reported seeing sexual violence, according to the Washington Post. Additional evidence included injuries to female survivors and to women and girls who were among the 1,200 people killed. Hamas has denied that its members committed sexual violence.\\n\\nAfter writing her op-ed, Sandberg joined Monday\\u2019s event, which was hosted by the Embassy of Israel and featured a mix of Israeli officials, American political leaders including Hillary Clinton and Sen. Kirsten Gillibrand (D-N.Y.), and other activists like Mandana Dayani, the founder of I Am a Voter and former president of Archewell. Some participants presented disturbing videos, photos, and descriptions of sexual violence from Oct. 7.\\n\\nSheryl Sandberg at the UN Headquarters in New York on Dec. 4, 2023. Lev Radin\\u2014Sipa USA/AP Images\\n\\nIn her piece, and in a speech she gave at the UN, Sandberg framed the matter as a unifying one: \\u201cSomething we can all agree on\\u201d is that \\u201crape should never be used as an act of war.\\u201d However, agreement seems to be elusive when it comes to anything related to Israel and Palestine, even this issue.\\n\\nSpeakers expressed anger at the UN, UN Women, and women\\u2019s organizations for not immediately speaking out or not speaking out forcefully enough about sexual violence experienced by Israeli women. In a statement on Friday, UN Women said it \\u201cunequivocally condemn[s] the brutal attacks by Hamas\\u201d and said it was \\u201calarmed by the numerous accounts of gender-based atrocities and sexual violence during those attacks.\\u201d It demanded that all cases of gender-based violence be \\u201cduly investigated and prosecuted.\\u201d\\n\\nStill, many human rights groups have tread lightly in this tense and fast-moving time, as Israel\\u2019s bombardment of Gaza continued (including this week). Speakers at Monday\\u2019s event expressed anger that opposition to Israel\\u2019s campaign against Hamas in Gaza (which has killed more than 15,000 Palestinians) seemed to be keeping global women\\u2019s organizations from speaking out against sexual violence against Israeli women.\\n\\nSandberg told me during an interview in the UN\\u2019s Hall of Flags after the event that she was hopeful the issue could still unify. \\u201cIt\\u2019s never too late to say something you should have said all along,\\u201d she said. \\u201cI welcome any organization to join us and speak out.\\u201d\\n\\nI asked Sandberg if she had any advice for business leaders still figuring out how to discuss Israel and Palestine internally or externally; she declined to comment and said she preferred to stay focused on the \\u201cunequivocal statement that we need to speak out against rape.\\u201d I asked if she had any advice for business leaders who are navigating discussing that particular issue of sexual violence; the advice she offered was to \\u201cjoin us.\\u201d She also declined to comment on the state of business\\u2019s response to the conflict, and on whether she would be able to take up this cause if she were still an executive at Meta. (Sandberg still sits on Meta\\u2019s board of directors.)\\n\\nSandberg\\u2019s CNN op-ed published about six weeks after Hamas\\u2019s attack. As she decided how to publicly engage on this crisis, Sandberg says she \\u201cfelt a responsibility to speak out.\\u201d \\u201cI was enjoying a relatively private\\u2014still active with my foundation, but more private\\u2014life,\\u201d she told me. \\u201cI felt I had a responsibility to speak out\\u2026You can be for any side in this conflict. You can be for any solutions, and still be against rape.\\u201d\\n\\nEmma Hinchliffe\\n\\nemma.hinchliffe@fortune.com\\n\\n@_emmahinchliffe\\n\\nThe Broadsheet is Fortune\\u2019s newsletter for and about the world\\u2019s most powerful women. Today\\u2019s edition was curated by Joseph Abrams. Subscribe here.\\n\\nALSO IN THE HEADLINES\\n\\n- Fresh formula. CVS Health, led by CEO Karen Lynch, will start offering more transparent prescription prices next year amid criticism that the pharmacy company is too secretive about its overly complex pricing process. CVS Health says that the new price formula will more closely align with what the company pays for the drugs. It remains to be seen if the new approach will lower costs for patients. Wall Street Journal\\n\\n- Ready, set, race? Former Republican Rep. Liz Cheney said she\\u2019s mulling a third-party run for president as a conservative alternative to former President Donald Trump or as part of a bipartisan ticket. A potential run would likely be motivated by Cheney's concern about Republican frontrunner Trump, whom she sees as an ongoing threat to democracy. Reuters\\n\\n- Test case. Couples undergoing in vitro fertilization will now be able to test their embryos for birth defects, cancers, and other genetic risks thanks to a new evaluation from Orchid. The reproductive technology company\\u2019s CEO, Noor Siddiqui, told CNBC that the technology \\u201cgives a lot more control and confidence into a process that, for all of history, has just been totally left to chance.\\u201d CNBC\\n\\n- Information overload. This year marks the 10th anniversary of The Information, the expensive and exclusive tech publication from Jessica Lessin. The Information has loyal readers among the upper ranks of the business world and expectations to turn a profit this year. Lessin spoke to Vanity Fair about the publication's unique journey over the past decade. Vanity Fair\\n\\n- Meloni in the middle. The tragic killing of an Italian college student at the hands of her boyfriend has sparked national outrage in Italy over the country's persistent machismo culture. Feminists in the country are criticizing Prime Minister Giorgia Meloni's response as weak and colored by her need to appease the conservative men who back her right-wing government. Financial Times\\n\\nMOVERS AND SHAKERS: Airbnb appointed Ellie Mertz to chief financial officer and Catherine Powell, Airbnb's global head of hosting, will take on an advisory role and leave the company later next year. Rhode named Lauren Ratner as president and chief brand officer.\\n\\nON MY RADAR\\n\\nSerena Williams and Ruby Bridges to be inducted into National Women's Hall of Fame Yahoo News\\n\\n50 of the world\\u2019s most sexist laws: a snapshot of gender inequality UN Foundation\\n\\nThe world\\u2019s most powerful women 2023 Forbes\\n\\nPARTING WORDS\\n\\n\\\"Is it possible that I could go somewhere and enjoy making clothes, enjoy wearing clothes and not hurt anybody? And actually maybe treat people well?\\\"\\n\\n\\u2014Actress Angelina Jolie on Atelier Jolie, a new sustainable clothing line, caf\\u00e9, designing studio, and tailor wrapped into one\",\n          \"March 11, 2024\\n\\nGulf states and Egypt accounted for more than 25% of global arms sales in the past four years, according to a report released Monday.\\n\\nThe Stockholm International Peace Research Institute's (SIPRI) quadrennial report on international arms transfers details the import and export of weapons around the world between 2019 and 2023.\\n\\nGulf among top arms importers\\n\\nSaudi Arabia was the second-largest arms importer in the world from 2019 to 2023, accounting for 8.4% of imports, while Qatar was third with 7.6%. India was the largest importer with a 9.8% global market share, according to SIPRI\\u2019s data.\\n\\nSaudi arms imports during this four-year period fell 28% in comparison to the period from 2014 to 2018, but the kingdom's imports had reached record levels in those years. Qatar\\u2019s arms imports increased a whopping 396% in 2019-2023 when compared to the previous four years. The United States was the largest provider of weapons to both countries, accounting for 75% of Saudi Arabia\\u2019s imports and 45% of Qatar\\u2019s. France came in second for each country, providing Saudi Arabia with 7.6% of its imports and Qatar with 25%, according to the data.\\n\\nThe US State Department approved a $582 million arms sale to Saudi Arabia in early December. The sale included hardware and software for Saudi Arabia's RE-3A surveillance aircraft. Later that month, the department approved a $1 billion sale of military training programs to the kingdom.\\n\\nSaudi Arabia is reportedly in talks to buy France's Rafale fighter jets. Last December, France and Saudi Arabia signed a plan for cooperation on military industry. In 2019, Saudi Arabia inked a preliminary deal to build warships in the kingdom with France's Naval Group.\\n\\nEgypt was the seventh-largest arms importer with 4% of global imports, while Kuwait and the United Arab Emirates were 12th and 14th largest with 2.7% and 2.4%, respectively. Combined, Gulf states and Egypt accounted for 25.8% of global arms imports between 2019 and 2023.\\n\\nConcerns about Iran and its regional proxies drove weapons sales to the Gulf, according to the institute. \\u201cSome states in the Gulf region have imported large volumes of arms to use against the Houthis in Yemen and to counter Iranian influence,\\u201d read the report.\\n\\nThose concerns include Iran\\u2019s nuclear program. Last September, Saudi Crown Prince Mohammed bin Salman said the kingdom would develop nuclear weapons if Iran were to do so. The Islamic Republic says its nuclear program is for peaceful purposes.\\n\\nGulf states have also expressed concerns about Iran\\u2019s ballistic missiles program and support for regional proxies including the Houthi rebels in Yemen and Hezbollah in Lebanon.\\n\\nIran-Saudi tensions calmed somewhat following the China-brokered agreement that reestablished relations between the two countries in March 2023. However, the kingdom and the Islamic Republic have made little tangible progress toward resolving their differences, Al-Monitor\\u2019s correspondent in Tehran wrote last month.\\n\\nNorth African imports fall\\n\\nMorocco\\u2019s arms imports fell 46% between 2019 and 2023 in comparison to the previous four years, while Algeria\\u2019s fell 77% in the same time period. The institute did not note any reasons for the decrease, but said the decline in Moroccan and Algerian imports were the primary driver for Africa\\u2019s collective major arms imports falling 52%.\\n\\nRussia was Algeria\\u2019s largest supplier, accounting for 48% of the market share, while the United States was Morocco\\u2019s largest supplier at 69%.\\n\\nMorocco is increasingly looking to Turkey for weapons and acquired two armed vehicles from Ankara in January. Morocco had been looking to import more from Israel as well, but ties have become strained over the Gaza war, Francisco Serrano wrote in a memo for Al-Monitor Pro last week.\\n\\nMorocco\\u2019s second- and third-largest arms suppliers between 2019 and 2023 were France with 14% and Israel with 11%, according to SIPRI.\\n\\nIsrael in top 10 exporters\\n\\nIsrael was the only country in the Middle East and North Africa in the top 10 arms exporters, coming in at ninth on the list and accounting for 2.4% of all exports.\\n\\nMajor Israeli defense manufacturers have reportedly delayed more than $1 billion in weapons sales since the start of the Israel-Hamas war in October due to growing domestic need. However, Israeli military exports to India have been unaffected by the downturn.\\n\\nThe United States was the largest exporter with a 42% market share, followed by France and Russia with 11% each and China with 5.8%.\\n\\nRussia invaded Ukraine in 2022 and the war is ongoing.\\n\\nSIPRI noted a sharp decline in Russian arms exports between 2019 and 2023. The exports fell 53% in comparison to the previous four years. The decrease is related to a dwindling number of Russian export destinations amid the Ukraine war. Russia exported major arms to 31 states in 2019 but only 12 in 2023, according to the report.\\n\\nTurkey was the 11th largest arms exporter from 2019 to 2023 with a 1.6% global market share.\"\n        ],\n        \"semantic_type\": \"\",\n        \"description\": \"\"\n      }\n    },\n    {\n      \"column\": \"source\",\n      \"properties\": {\n        \"dtype\": \"category\",\n        \"num_unique_values\": 2949,\n        \"samples\": [\n          \"https://www.nbclosangeles.com/\",\n          \"https://www.upi.com/\",\n          \"https://www.cleveland19.com/\"\n        ],\n        \"semantic_type\": \"\",\n        \"description\": \"\"\n      }\n    },\n    {\n      \"column\": \"title\",\n      \"properties\": {\n        \"dtype\": \"string\",\n        \"num_unique_values\": 32227,\n        \"samples\": [\n          \"AUS vs PAK Test: Warner's powerful 164 takes Australia to 346-5 on Day 1\",\n          \"COP28 Summit and India | Is climate fatigue setting in?\",\n          \"Biden convinced Netanyahu not to strike Hezbollah after Hamas attacks, says report\"\n        ],\n        \"semantic_type\": \"\",\n        \"description\": \"\"\n      }\n    },\n    {\n      \"column\": \"dateModified.$date\",\n      \"properties\": {\n        \"dtype\": \"object\",\n        \"num_unique_values\": 14985,\n        \"samples\": [\n          \"2023-12-18T15:04:55.000Z\",\n          \"2023-12-17T20:07:31.000Z\",\n          \"2023-12-15T21:55:00.000Z\"\n        ],\n        \"semantic_type\": \"\",\n        \"description\": \"\"\n      }\n    },\n    {\n      \"column\": \"scrapedDate.$date\",\n      \"properties\": {\n        \"dtype\": \"object\",\n        \"num_unique_values\": 26458,\n        \"samples\": [\n          \"2023-12-18T22:06:40.142Z\",\n          \"2024-03-30T02:04:06.473Z\",\n          \"2023-12-19T00:07:15.123Z\"\n        ],\n        \"semantic_type\": \"\",\n        \"description\": \"\"\n      }\n    },\n    {\n      \"column\": \"dateModified\",\n      \"properties\": {\n        \"dtype\": \"number\",\n        \"std\": null,\n        \"min\": null,\n        \"max\": null,\n        \"num_unique_values\": 0,\n        \"samples\": [],\n        \"semantic_type\": \"\",\n        \"description\": \"\"\n      }\n    }\n  ]\n}",
              "type": "dataframe"
            },
            "text/html": [
              "\n",
              "  <div id=\"df-4a6e4b08-70b1-4437-8e7e-31d0545d1481\" class=\"colab-df-container\">\n",
              "    <div>\n",
              "<style scoped>\n",
              "    .dataframe tbody tr th:only-of-type {\n",
              "        vertical-align: middle;\n",
              "    }\n",
              "\n",
              "    .dataframe tbody tr th {\n",
              "        vertical-align: top;\n",
              "    }\n",
              "\n",
              "    .dataframe thead th {\n",
              "        text-align: right;\n",
              "    }\n",
              "</style>\n",
              "<table border=\"1\" class=\"dataframe\">\n",
              "  <thead>\n",
              "    <tr style=\"text-align: right;\">\n",
              "      <th></th>\n",
              "      <th>articleBody</th>\n",
              "      <th>source</th>\n",
              "      <th>title</th>\n",
              "      <th>dateModified.$date</th>\n",
              "      <th>scrapedDate.$date</th>\n",
              "      <th>dateModified</th>\n",
              "    </tr>\n",
              "  </thead>\n",
              "  <tbody>\n",
              "    <tr>\n",
              "      <th>0</th>\n",
              "      <td>Sanjay Raut, a member of the Shiv Sena (UBT) p...</td>\n",
              "      <td>https://www.thehansindia.com/</td>\n",
              "      <td>Shiv Sena MP Sanjay Raut Responds To 'Hamas' R...</td>\n",
              "      <td>2023-10-25T06:35:50.000Z</td>\n",
              "      <td>2023-10-27T13:12:18.339Z</td>\n",
              "      <td>NaN</td>\n",
              "    </tr>\n",
              "    <tr>\n",
              "      <th>1</th>\n",
              "      <td>Kozhikode (Kerala) [India], October 27 (ANI): ...</td>\n",
              "      <td>https://www.aninews.in/</td>\n",
              "      <td>At IUML's pro-Palestine rally in Kerala Tharoo...</td>\n",
              "      <td>NaN</td>\n",
              "      <td>2023-10-27T13:12:45.595Z</td>\n",
              "      <td>NaN</td>\n",
              "    </tr>\n",
              "    <tr>\n",
              "      <th>2</th>\n",
              "      <td>Mumbai, Oct 24 (PTI) Maharashtra Chief Ministe...</td>\n",
              "      <td>https://thefederal.com/</td>\n",
              "      <td>Uddhav buried Bal Thackeray's 'Hindutva' for p...</td>\n",
              "      <td>2023-10-25T02:14:27.000Z</td>\n",
              "      <td>2023-10-27T13:12:18.339Z</td>\n",
              "      <td>NaN</td>\n",
              "    </tr>\n",
              "    <tr>\n",
              "      <th>3</th>\n",
              "      <td>Sensex, Nifty rebound over 1 pc after six sess...</td>\n",
              "      <td>https://english.varthabharati.in/</td>\n",
              "      <td>New Bills replacing IPC, CrPC, Evidence Act wi...</td>\n",
              "      <td>NaN</td>\n",
              "      <td>2023-10-27T13:12:41.618Z</td>\n",
              "      <td>NaN</td>\n",
              "    </tr>\n",
              "    <tr>\n",
              "      <th>4</th>\n",
              "      <td>October 26, 2023 08:15 pm | Updated 08:38 pm I...</td>\n",
              "      <td>https://www.thehindu.com/</td>\n",
              "      <td>Israel biggest terrorist nation in the world, ...</td>\n",
              "      <td>2023-10-26T14:45:24.000Z</td>\n",
              "      <td>2023-10-27T13:12:45.595Z</td>\n",
              "      <td>NaN</td>\n",
              "    </tr>\n",
              "    <tr>\n",
              "      <th>...</th>\n",
              "      <td>...</td>\n",
              "      <td>...</td>\n",
              "      <td>...</td>\n",
              "      <td>...</td>\n",
              "      <td>...</td>\n",
              "      <td>...</td>\n",
              "    </tr>\n",
              "    <tr>\n",
              "      <th>37416</th>\n",
              "      <td>Lebanese media are reporting renewed IDF strik...</td>\n",
              "      <td>https://www.timesofisrael.com/</td>\n",
              "      <td>Lebanese media reports renewed IDF strikes in ...</td>\n",
              "      <td>NaN</td>\n",
              "      <td>2024-03-31T03:10:17.646Z</td>\n",
              "      <td>NaN</td>\n",
              "    </tr>\n",
              "    <tr>\n",
              "      <th>37417</th>\n",
              "      <td>Amid escalating tensions and concerns over pot...</td>\n",
              "      <td>https://www.deccanchronicle.com/</td>\n",
              "      <td>US approves additional bombs, warplanes sales ...</td>\n",
              "      <td>2024-03-31T03:03:52.000Z</td>\n",
              "      <td>2024-03-31T03:09:38.331Z</td>\n",
              "      <td>NaN</td>\n",
              "    </tr>\n",
              "    <tr>\n",
              "      <th>37418</th>\n",
              "      <td>Haaretz.com, the online English edition of Haa...</td>\n",
              "      <td>https://www.haaretz.com/</td>\n",
              "      <td>Israel Publishes Video of Islamic Jihad Terror...</td>\n",
              "      <td>2024-03-28T00:00:00.000Z</td>\n",
              "      <td>2024-03-31T03:09:46.683Z</td>\n",
              "      <td>NaN</td>\n",
              "    </tr>\n",
              "    <tr>\n",
              "      <th>37419</th>\n",
              "      <td>The UN secretary general, António Guterres, ha...</td>\n",
              "      <td>https://www.theguardian.com/</td>\n",
              "      <td>United Nations secretary general condemns expl...</td>\n",
              "      <td>2024-03-31T00:00:00.000Z</td>\n",
              "      <td>2024-03-31T03:09:50.586Z</td>\n",
              "      <td>NaN</td>\n",
              "    </tr>\n",
              "    <tr>\n",
              "      <th>37420</th>\n",
              "      <td>Aam Aadmi Party (AAP) leader Raghav Chadha rec...</td>\n",
              "      <td>https://indianexpress.com/</td>\n",
              "      <td>Raghav Chadha stirs a row as he meets this UK ...</td>\n",
              "      <td>2024-03-26T16:01:17.000Z</td>\n",
              "      <td>2024-03-31T03:13:43.646Z</td>\n",
              "      <td>NaN</td>\n",
              "    </tr>\n",
              "  </tbody>\n",
              "</table>\n",
              "<p>37421 rows × 6 columns</p>\n",
              "</div>\n",
              "    <div class=\"colab-df-buttons\">\n",
              "\n",
              "  <div class=\"colab-df-container\">\n",
              "    <button class=\"colab-df-convert\" onclick=\"convertToInteractive('df-4a6e4b08-70b1-4437-8e7e-31d0545d1481')\"\n",
              "            title=\"Convert this dataframe to an interactive table.\"\n",
              "            style=\"display:none;\">\n",
              "\n",
              "  <svg xmlns=\"http://www.w3.org/2000/svg\" height=\"24px\" viewBox=\"0 -960 960 960\">\n",
              "    <path d=\"M120-120v-720h720v720H120Zm60-500h600v-160H180v160Zm220 220h160v-160H400v160Zm0 220h160v-160H400v160ZM180-400h160v-160H180v160Zm440 0h160v-160H620v160ZM180-180h160v-160H180v160Zm440 0h160v-160H620v160Z\"/>\n",
              "  </svg>\n",
              "    </button>\n",
              "\n",
              "  <style>\n",
              "    .colab-df-container {\n",
              "      display:flex;\n",
              "      gap: 12px;\n",
              "    }\n",
              "\n",
              "    .colab-df-convert {\n",
              "      background-color: #E8F0FE;\n",
              "      border: none;\n",
              "      border-radius: 50%;\n",
              "      cursor: pointer;\n",
              "      display: none;\n",
              "      fill: #1967D2;\n",
              "      height: 32px;\n",
              "      padding: 0 0 0 0;\n",
              "      width: 32px;\n",
              "    }\n",
              "\n",
              "    .colab-df-convert:hover {\n",
              "      background-color: #E2EBFA;\n",
              "      box-shadow: 0px 1px 2px rgba(60, 64, 67, 0.3), 0px 1px 3px 1px rgba(60, 64, 67, 0.15);\n",
              "      fill: #174EA6;\n",
              "    }\n",
              "\n",
              "    .colab-df-buttons div {\n",
              "      margin-bottom: 4px;\n",
              "    }\n",
              "\n",
              "    [theme=dark] .colab-df-convert {\n",
              "      background-color: #3B4455;\n",
              "      fill: #D2E3FC;\n",
              "    }\n",
              "\n",
              "    [theme=dark] .colab-df-convert:hover {\n",
              "      background-color: #434B5C;\n",
              "      box-shadow: 0px 1px 3px 1px rgba(0, 0, 0, 0.15);\n",
              "      filter: drop-shadow(0px 1px 2px rgba(0, 0, 0, 0.3));\n",
              "      fill: #FFFFFF;\n",
              "    }\n",
              "  </style>\n",
              "\n",
              "    <script>\n",
              "      const buttonEl =\n",
              "        document.querySelector('#df-4a6e4b08-70b1-4437-8e7e-31d0545d1481 button.colab-df-convert');\n",
              "      buttonEl.style.display =\n",
              "        google.colab.kernel.accessAllowed ? 'block' : 'none';\n",
              "\n",
              "      async function convertToInteractive(key) {\n",
              "        const element = document.querySelector('#df-4a6e4b08-70b1-4437-8e7e-31d0545d1481');\n",
              "        const dataTable =\n",
              "          await google.colab.kernel.invokeFunction('convertToInteractive',\n",
              "                                                    [key], {});\n",
              "        if (!dataTable) return;\n",
              "\n",
              "        const docLinkHtml = 'Like what you see? Visit the ' +\n",
              "          '<a target=\"_blank\" href=https://colab.research.google.com/notebooks/data_table.ipynb>data table notebook</a>'\n",
              "          + ' to learn more about interactive tables.';\n",
              "        element.innerHTML = '';\n",
              "        dataTable['output_type'] = 'display_data';\n",
              "        await google.colab.output.renderOutput(dataTable, element);\n",
              "        const docLink = document.createElement('div');\n",
              "        docLink.innerHTML = docLinkHtml;\n",
              "        element.appendChild(docLink);\n",
              "      }\n",
              "    </script>\n",
              "  </div>\n",
              "\n",
              "\n",
              "<div id=\"df-14e3bd1b-ef5b-4d81-8538-2335d72e35e5\">\n",
              "  <button class=\"colab-df-quickchart\" onclick=\"quickchart('df-14e3bd1b-ef5b-4d81-8538-2335d72e35e5')\"\n",
              "            title=\"Suggest charts\"\n",
              "            style=\"display:none;\">\n",
              "\n",
              "<svg xmlns=\"http://www.w3.org/2000/svg\" height=\"24px\"viewBox=\"0 0 24 24\"\n",
              "     width=\"24px\">\n",
              "    <g>\n",
              "        <path d=\"M19 3H5c-1.1 0-2 .9-2 2v14c0 1.1.9 2 2 2h14c1.1 0 2-.9 2-2V5c0-1.1-.9-2-2-2zM9 17H7v-7h2v7zm4 0h-2V7h2v10zm4 0h-2v-4h2v4z\"/>\n",
              "    </g>\n",
              "</svg>\n",
              "  </button>\n",
              "\n",
              "<style>\n",
              "  .colab-df-quickchart {\n",
              "      --bg-color: #E8F0FE;\n",
              "      --fill-color: #1967D2;\n",
              "      --hover-bg-color: #E2EBFA;\n",
              "      --hover-fill-color: #174EA6;\n",
              "      --disabled-fill-color: #AAA;\n",
              "      --disabled-bg-color: #DDD;\n",
              "  }\n",
              "\n",
              "  [theme=dark] .colab-df-quickchart {\n",
              "      --bg-color: #3B4455;\n",
              "      --fill-color: #D2E3FC;\n",
              "      --hover-bg-color: #434B5C;\n",
              "      --hover-fill-color: #FFFFFF;\n",
              "      --disabled-bg-color: #3B4455;\n",
              "      --disabled-fill-color: #666;\n",
              "  }\n",
              "\n",
              "  .colab-df-quickchart {\n",
              "    background-color: var(--bg-color);\n",
              "    border: none;\n",
              "    border-radius: 50%;\n",
              "    cursor: pointer;\n",
              "    display: none;\n",
              "    fill: var(--fill-color);\n",
              "    height: 32px;\n",
              "    padding: 0;\n",
              "    width: 32px;\n",
              "  }\n",
              "\n",
              "  .colab-df-quickchart:hover {\n",
              "    background-color: var(--hover-bg-color);\n",
              "    box-shadow: 0 1px 2px rgba(60, 64, 67, 0.3), 0 1px 3px 1px rgba(60, 64, 67, 0.15);\n",
              "    fill: var(--button-hover-fill-color);\n",
              "  }\n",
              "\n",
              "  .colab-df-quickchart-complete:disabled,\n",
              "  .colab-df-quickchart-complete:disabled:hover {\n",
              "    background-color: var(--disabled-bg-color);\n",
              "    fill: var(--disabled-fill-color);\n",
              "    box-shadow: none;\n",
              "  }\n",
              "\n",
              "  .colab-df-spinner {\n",
              "    border: 2px solid var(--fill-color);\n",
              "    border-color: transparent;\n",
              "    border-bottom-color: var(--fill-color);\n",
              "    animation:\n",
              "      spin 1s steps(1) infinite;\n",
              "  }\n",
              "\n",
              "  @keyframes spin {\n",
              "    0% {\n",
              "      border-color: transparent;\n",
              "      border-bottom-color: var(--fill-color);\n",
              "      border-left-color: var(--fill-color);\n",
              "    }\n",
              "    20% {\n",
              "      border-color: transparent;\n",
              "      border-left-color: var(--fill-color);\n",
              "      border-top-color: var(--fill-color);\n",
              "    }\n",
              "    30% {\n",
              "      border-color: transparent;\n",
              "      border-left-color: var(--fill-color);\n",
              "      border-top-color: var(--fill-color);\n",
              "      border-right-color: var(--fill-color);\n",
              "    }\n",
              "    40% {\n",
              "      border-color: transparent;\n",
              "      border-right-color: var(--fill-color);\n",
              "      border-top-color: var(--fill-color);\n",
              "    }\n",
              "    60% {\n",
              "      border-color: transparent;\n",
              "      border-right-color: var(--fill-color);\n",
              "    }\n",
              "    80% {\n",
              "      border-color: transparent;\n",
              "      border-right-color: var(--fill-color);\n",
              "      border-bottom-color: var(--fill-color);\n",
              "    }\n",
              "    90% {\n",
              "      border-color: transparent;\n",
              "      border-bottom-color: var(--fill-color);\n",
              "    }\n",
              "  }\n",
              "</style>\n",
              "\n",
              "  <script>\n",
              "    async function quickchart(key) {\n",
              "      const quickchartButtonEl =\n",
              "        document.querySelector('#' + key + ' button');\n",
              "      quickchartButtonEl.disabled = true;  // To prevent multiple clicks.\n",
              "      quickchartButtonEl.classList.add('colab-df-spinner');\n",
              "      try {\n",
              "        const charts = await google.colab.kernel.invokeFunction(\n",
              "            'suggestCharts', [key], {});\n",
              "      } catch (error) {\n",
              "        console.error('Error during call to suggestCharts:', error);\n",
              "      }\n",
              "      quickchartButtonEl.classList.remove('colab-df-spinner');\n",
              "      quickchartButtonEl.classList.add('colab-df-quickchart-complete');\n",
              "    }\n",
              "    (() => {\n",
              "      let quickchartButtonEl =\n",
              "        document.querySelector('#df-14e3bd1b-ef5b-4d81-8538-2335d72e35e5 button');\n",
              "      quickchartButtonEl.style.display =\n",
              "        google.colab.kernel.accessAllowed ? 'block' : 'none';\n",
              "    })();\n",
              "  </script>\n",
              "</div>\n",
              "\n",
              "    </div>\n",
              "  </div>\n"
            ],
            "text/plain": [
              "                                             articleBody  \\\n",
              "0      Sanjay Raut, a member of the Shiv Sena (UBT) p...   \n",
              "1      Kozhikode (Kerala) [India], October 27 (ANI): ...   \n",
              "2      Mumbai, Oct 24 (PTI) Maharashtra Chief Ministe...   \n",
              "3      Sensex, Nifty rebound over 1 pc after six sess...   \n",
              "4      October 26, 2023 08:15 pm | Updated 08:38 pm I...   \n",
              "...                                                  ...   \n",
              "37416  Lebanese media are reporting renewed IDF strik...   \n",
              "37417  Amid escalating tensions and concerns over pot...   \n",
              "37418  Haaretz.com, the online English edition of Haa...   \n",
              "37419  The UN secretary general, António Guterres, ha...   \n",
              "37420  Aam Aadmi Party (AAP) leader Raghav Chadha rec...   \n",
              "\n",
              "                                  source  \\\n",
              "0          https://www.thehansindia.com/   \n",
              "1                https://www.aninews.in/   \n",
              "2                https://thefederal.com/   \n",
              "3      https://english.varthabharati.in/   \n",
              "4              https://www.thehindu.com/   \n",
              "...                                  ...   \n",
              "37416     https://www.timesofisrael.com/   \n",
              "37417   https://www.deccanchronicle.com/   \n",
              "37418           https://www.haaretz.com/   \n",
              "37419       https://www.theguardian.com/   \n",
              "37420         https://indianexpress.com/   \n",
              "\n",
              "                                                   title  \\\n",
              "0      Shiv Sena MP Sanjay Raut Responds To 'Hamas' R...   \n",
              "1      At IUML's pro-Palestine rally in Kerala Tharoo...   \n",
              "2      Uddhav buried Bal Thackeray's 'Hindutva' for p...   \n",
              "3      New Bills replacing IPC, CrPC, Evidence Act wi...   \n",
              "4      Israel biggest terrorist nation in the world, ...   \n",
              "...                                                  ...   \n",
              "37416  Lebanese media reports renewed IDF strikes in ...   \n",
              "37417  US approves additional bombs, warplanes sales ...   \n",
              "37418  Israel Publishes Video of Islamic Jihad Terror...   \n",
              "37419  United Nations secretary general condemns expl...   \n",
              "37420  Raghav Chadha stirs a row as he meets this UK ...   \n",
              "\n",
              "             dateModified.$date         scrapedDate.$date  dateModified  \n",
              "0      2023-10-25T06:35:50.000Z  2023-10-27T13:12:18.339Z           NaN  \n",
              "1                           NaN  2023-10-27T13:12:45.595Z           NaN  \n",
              "2      2023-10-25T02:14:27.000Z  2023-10-27T13:12:18.339Z           NaN  \n",
              "3                           NaN  2023-10-27T13:12:41.618Z           NaN  \n",
              "4      2023-10-26T14:45:24.000Z  2023-10-27T13:12:45.595Z           NaN  \n",
              "...                         ...                       ...           ...  \n",
              "37416                       NaN  2024-03-31T03:10:17.646Z           NaN  \n",
              "37417  2024-03-31T03:03:52.000Z  2024-03-31T03:09:38.331Z           NaN  \n",
              "37418  2024-03-28T00:00:00.000Z  2024-03-31T03:09:46.683Z           NaN  \n",
              "37419  2024-03-31T00:00:00.000Z  2024-03-31T03:09:50.586Z           NaN  \n",
              "37420  2024-03-26T16:01:17.000Z  2024-03-31T03:13:43.646Z           NaN  \n",
              "\n",
              "[37421 rows x 6 columns]"
            ]
          },
          "execution_count": 4,
          "metadata": {},
          "output_type": "execute_result"
        }
      ],
      "source": [
        "pd.json_normalize(json_data)\n"
      ]
    },
    {
      "cell_type": "code",
      "execution_count": 5,
      "metadata": {
        "colab": {
          "base_uri": "https://localhost:8080/"
        },
        "id": "lMLmIpFEPCPE",
        "outputId": "42a4966c-1f70-4b24-fb19-ba5e93e33f80"
      },
      "outputs": [
        {
          "data": {
            "text/plain": [
              "0        Shiv Sena MP Sanjay Raut Responds To 'Hamas' R...\n",
              "1        At IUML's pro-Palestine rally in Kerala Tharoo...\n",
              "2        Uddhav buried Bal Thackeray's 'Hindutva' for p...\n",
              "3        New Bills replacing IPC, CrPC, Evidence Act wi...\n",
              "4        Israel biggest terrorist nation in the world, ...\n",
              "                               ...                        \n",
              "37416    Lebanese media reports renewed IDF strikes in ...\n",
              "37417    US approves additional bombs, warplanes sales ...\n",
              "37418    Israel Publishes Video of Islamic Jihad Terror...\n",
              "37419    United Nations secretary general condemns expl...\n",
              "37420    Raghav Chadha stirs a row as he meets this UK ...\n",
              "Name: title, Length: 37421, dtype: object"
            ]
          },
          "execution_count": 5,
          "metadata": {},
          "output_type": "execute_result"
        }
      ],
      "source": [
        " df['title']"
      ]
    },
    {
      "cell_type": "code",
      "execution_count": 6,
      "metadata": {
        "colab": {
          "base_uri": "https://localhost:8080/"
        },
        "id": "8ve-oNB6QxND",
        "outputId": "5dcbeec4-5b1a-4caf-98dd-db652b4d62c2"
      },
      "outputs": [
        {
          "data": {
            "text/plain": [
              "0        Sanjay Raut, a member of the Shiv Sena (UBT) p...\n",
              "1        Kozhikode (Kerala) [India], October 27 (ANI): ...\n",
              "2        Mumbai, Oct 24 (PTI) Maharashtra Chief Ministe...\n",
              "3        Sensex, Nifty rebound over 1 pc after six sess...\n",
              "4        October 26, 2023 08:15 pm | Updated 08:38 pm I...\n",
              "                               ...                        \n",
              "37416    Lebanese media are reporting renewed IDF strik...\n",
              "37417    Amid escalating tensions and concerns over pot...\n",
              "37418    Haaretz.com, the online English edition of Haa...\n",
              "37419    The UN secretary general, António Guterres, ha...\n",
              "37420    Aam Aadmi Party (AAP) leader Raghav Chadha rec...\n",
              "Name: articleBody, Length: 37421, dtype: object"
            ]
          },
          "execution_count": 6,
          "metadata": {},
          "output_type": "execute_result"
        }
      ],
      "source": [
        " df['articleBody']"
      ]
    },
    {
      "cell_type": "code",
      "execution_count": 7,
      "metadata": {
        "id": "Sd2_JzPBQxQm"
      },
      "outputs": [],
      "source": [
        "# Combine headline and description for context\n",
        "df['context'] = df['title'] + '. ' + df['articleBody']\n"
      ]
    },
    {
      "cell_type": "code",
      "execution_count": 8,
      "metadata": {
        "colab": {
          "base_uri": "https://localhost:8080/"
        },
        "id": "Zt1ItJoaQ7DQ",
        "outputId": "b52a1aa6-9ea3-42f0-dede-f1410cba13d0"
      },
      "outputs": [
        {
          "data": {
            "text/plain": [
              "0        Shiv Sena MP Sanjay Raut Responds To 'Hamas' R...\n",
              "1        At IUML's pro-Palestine rally in Kerala Tharoo...\n",
              "2        Uddhav buried Bal Thackeray's 'Hindutva' for p...\n",
              "3        New Bills replacing IPC, CrPC, Evidence Act wi...\n",
              "4        Israel biggest terrorist nation in the world, ...\n",
              "                               ...                        \n",
              "37416    Lebanese media reports renewed IDF strikes in ...\n",
              "37417    US approves additional bombs, warplanes sales ...\n",
              "37418    Israel Publishes Video of Islamic Jihad Terror...\n",
              "37419    United Nations secretary general condemns expl...\n",
              "37420    Raghav Chadha stirs a row as he meets this UK ...\n",
              "Name: context, Length: 37421, dtype: object"
            ]
          },
          "execution_count": 8,
          "metadata": {},
          "output_type": "execute_result"
        }
      ],
      "source": [
        "df['context']"
      ]
    },
    {
      "cell_type": "code",
      "execution_count": 9,
      "metadata": {
        "id": "wRdQnNaLQ_pi"
      },
      "outputs": [],
      "source": [
        "keywords = [\"Israel\", \"Hamas\", \"Gaza\", \"conflict\", \"war\", \"ceasefire\", \"rocket\", \"air strike\", \"military\", \"Palestinian\"]"
      ]
    },
    {
      "cell_type": "code",
      "execution_count": 17,
      "metadata": {
        "id": "iweFdmZ5SPk7"
      },
      "outputs": [],
      "source": [
        "df = df[df['context'].apply(lambda x: any(keyword.lower() in x.lower() for keyword in keywords))]\n"
      ]
    },
    {
      "cell_type": "code",
      "execution_count": 18,
      "metadata": {
        "colab": {
          "base_uri": "https://localhost:8080/"
        },
        "id": "SOkNbQC1SQ9K",
        "outputId": "2cba936b-abd8-4f0b-98f7-d831aa05d123"
      },
      "outputs": [
        {
          "name": "stdout",
          "output_type": "stream",
          "text": [
            "                                             articleBody  \\\n",
            "0      Sanjay Raut, a member of the Shiv Sena (UBT) p...   \n",
            "1      Kozhikode (Kerala) [India], October 27 (ANI): ...   \n",
            "2      Mumbai, Oct 24 (PTI) Maharashtra Chief Ministe...   \n",
            "3      Sensex, Nifty rebound over 1 pc after six sess...   \n",
            "4      October 26, 2023 08:15 pm | Updated 08:38 pm I...   \n",
            "...                                                  ...   \n",
            "37416  Lebanese media are reporting renewed IDF strik...   \n",
            "37417  Amid escalating tensions and concerns over pot...   \n",
            "37418  Haaretz.com, the online English edition of Haa...   \n",
            "37419  The UN secretary general, António Guterres, ha...   \n",
            "37420  Aam Aadmi Party (AAP) leader Raghav Chadha rec...   \n",
            "\n",
            "                                dateModified  \\\n",
            "0      {'$date': '2023-10-25T06:35:50.000Z'}   \n",
            "1                                        NaN   \n",
            "2      {'$date': '2023-10-25T02:14:27.000Z'}   \n",
            "3                                        NaN   \n",
            "4      {'$date': '2023-10-26T14:45:24.000Z'}   \n",
            "...                                      ...   \n",
            "37416                                    NaN   \n",
            "37417  {'$date': '2024-03-31T03:03:52.000Z'}   \n",
            "37418  {'$date': '2024-03-28T00:00:00.000Z'}   \n",
            "37419  {'$date': '2024-03-31T00:00:00.000Z'}   \n",
            "37420  {'$date': '2024-03-26T16:01:17.000Z'}   \n",
            "\n",
            "                                 scrapedDate  \\\n",
            "0      {'$date': '2023-10-27T13:12:18.339Z'}   \n",
            "1      {'$date': '2023-10-27T13:12:45.595Z'}   \n",
            "2      {'$date': '2023-10-27T13:12:18.339Z'}   \n",
            "3      {'$date': '2023-10-27T13:12:41.618Z'}   \n",
            "4      {'$date': '2023-10-27T13:12:45.595Z'}   \n",
            "...                                      ...   \n",
            "37416  {'$date': '2024-03-31T03:10:17.646Z'}   \n",
            "37417  {'$date': '2024-03-31T03:09:38.331Z'}   \n",
            "37418  {'$date': '2024-03-31T03:09:46.683Z'}   \n",
            "37419  {'$date': '2024-03-31T03:09:50.586Z'}   \n",
            "37420  {'$date': '2024-03-31T03:13:43.646Z'}   \n",
            "\n",
            "                                  source  \\\n",
            "0          https://www.thehansindia.com/   \n",
            "1                https://www.aninews.in/   \n",
            "2                https://thefederal.com/   \n",
            "3      https://english.varthabharati.in/   \n",
            "4              https://www.thehindu.com/   \n",
            "...                                  ...   \n",
            "37416     https://www.timesofisrael.com/   \n",
            "37417   https://www.deccanchronicle.com/   \n",
            "37418           https://www.haaretz.com/   \n",
            "37419       https://www.theguardian.com/   \n",
            "37420         https://indianexpress.com/   \n",
            "\n",
            "                                                   title  \\\n",
            "0      Shiv Sena MP Sanjay Raut Responds To 'Hamas' R...   \n",
            "1      At IUML's pro-Palestine rally in Kerala Tharoo...   \n",
            "2      Uddhav buried Bal Thackeray's 'Hindutva' for p...   \n",
            "3      New Bills replacing IPC, CrPC, Evidence Act wi...   \n",
            "4      Israel biggest terrorist nation in the world, ...   \n",
            "...                                                  ...   \n",
            "37416  Lebanese media reports renewed IDF strikes in ...   \n",
            "37417  US approves additional bombs, warplanes sales ...   \n",
            "37418  Israel Publishes Video of Islamic Jihad Terror...   \n",
            "37419  United Nations secretary general condemns expl...   \n",
            "37420  Raghav Chadha stirs a row as he meets this UK ...   \n",
            "\n",
            "                                                 context  \n",
            "0      Shiv Sena MP Sanjay Raut Responds To 'Hamas' R...  \n",
            "1      At IUML's pro-Palestine rally in Kerala Tharoo...  \n",
            "2      Uddhav buried Bal Thackeray's 'Hindutva' for p...  \n",
            "3      New Bills replacing IPC, CrPC, Evidence Act wi...  \n",
            "4      Israel biggest terrorist nation in the world, ...  \n",
            "...                                                  ...  \n",
            "37416  Lebanese media reports renewed IDF strikes in ...  \n",
            "37417  US approves additional bombs, warplanes sales ...  \n",
            "37418  Israel Publishes Video of Islamic Jihad Terror...  \n",
            "37419  United Nations secretary general condemns expl...  \n",
            "37420  Raghav Chadha stirs a row as he meets this UK ...  \n",
            "\n",
            "[37289 rows x 6 columns]\n"
          ]
        }
      ],
      "source": [
        "print(df)\n"
      ]
    },
    {
      "cell_type": "code",
      "execution_count": 22,
      "metadata": {
        "id": "sRYc4b2OSWrG"
      },
      "outputs": [],
      "source": [
        "def clean_text(text):\n",
        "    cleaned_text = re.sub(r'\\s+', ' ', text)  # Remove extra whitespace\n",
        "    cleaned_text = re.sub(r'[^\\w\\s]', '', cleaned_text)  # Remove special symbols\n",
        "    return cleaned_text.strip()"
      ]
    },
    {
      "cell_type": "code",
      "execution_count": 24,
      "metadata": {
        "id": "4doQYdy1cppE"
      },
      "outputs": [],
      "source": [
        "for entry in json_data:\n",
        "    for key in entry:\n",
        "        if isinstance(entry[key], str):\n",
        "            entry[key] = clean_text(entry[key])"
      ]
    },
    {
      "cell_type": "code",
      "execution_count": 26,
      "metadata": {
        "id": "txO4k7TtefIk"
      },
      "outputs": [],
      "source": [
        "with open('cleaned_data.json', 'w') as file:\n",
        "    json.dump(json_data, file, indent=4)"
      ]
    },
    {
      "cell_type": "code",
      "execution_count": 28,
      "metadata": {
        "colab": {
          "base_uri": "https://localhost:8080/"
        },
        "id": "Jw-BAURVivWb",
        "outputId": "c3096915-f529-4739-b043-3ed9489b85d0"
      },
      "outputs": [
        {
          "name": "stdout",
          "output_type": "stream",
          "text": [
            "                                         articleBody  \\\n",
            "0  Sanjay Raut, a member of the Shiv Sena (UBT) p...   \n",
            "1  Kozhikode (Kerala) [India], October 27 (ANI): ...   \n",
            "2  Mumbai, Oct 24 (PTI) Maharashtra Chief Ministe...   \n",
            "3  Sensex, Nifty rebound over 1 pc after six sess...   \n",
            "4  October 26, 2023 08:15 pm | Updated 08:38 pm I...   \n",
            "\n",
            "                            dateModified  \\\n",
            "0  {'$date': '2023-10-25T06:35:50.000Z'}   \n",
            "1                                    NaN   \n",
            "2  {'$date': '2023-10-25T02:14:27.000Z'}   \n",
            "3                                    NaN   \n",
            "4  {'$date': '2023-10-26T14:45:24.000Z'}   \n",
            "\n",
            "                             scrapedDate                             source  \\\n",
            "0  {'$date': '2023-10-27T13:12:18.339Z'}      https://www.thehansindia.com/   \n",
            "1  {'$date': '2023-10-27T13:12:45.595Z'}            https://www.aninews.in/   \n",
            "2  {'$date': '2023-10-27T13:12:18.339Z'}            https://thefederal.com/   \n",
            "3  {'$date': '2023-10-27T13:12:41.618Z'}  https://english.varthabharati.in/   \n",
            "4  {'$date': '2023-10-27T13:12:45.595Z'}          https://www.thehindu.com/   \n",
            "\n",
            "                                               title  \\\n",
            "0  Shiv Sena MP Sanjay Raut Responds To 'Hamas' R...   \n",
            "1  At IUML's pro-Palestine rally in Kerala Tharoo...   \n",
            "2  Uddhav buried Bal Thackeray's 'Hindutva' for p...   \n",
            "3  New Bills replacing IPC, CrPC, Evidence Act wi...   \n",
            "4  Israel biggest terrorist nation in the world, ...   \n",
            "\n",
            "                                             context  \n",
            "0  Shiv Sena MP Sanjay Raut Responds To Hamas Rem...  \n",
            "1  At IUMLs proPalestine rally in Kerala Tharoor ...  \n",
            "2  Uddhav buried Bal Thackerays Hindutva for powe...  \n",
            "3  New Bills replacing IPC CrPC Evidence Act will...  \n",
            "4  Israel biggest terrorist nation in the world s...  \n"
          ]
        }
      ],
      "source": [
        "filtered_df['context'] = filtered_df['context'].apply(clean_text)\n",
        "print(filtered_df.head())\n"
      ]
    },
    {
      "cell_type": "code",
      "execution_count": 29,
      "metadata": {
        "colab": {
          "base_uri": "https://localhost:8080/"
        },
        "id": "3pb7wanhj04h",
        "outputId": "6eb57c90-4304-40b8-ed05-53bd5a102a0f"
      },
      "outputs": [
        {
          "name": "stdout",
          "output_type": "stream",
          "text": [
            "['Shiv Sena MP Sanjay Raut Responds To Hamas Remark In Fiery Exchange Sanjay Raut a member of the Shiv Sena UBT party responded to the Maharashtra chief ministers statement that Eknath Shinde himself is Hamas and that the Shiv Sena group led by Uddhav Thackeray is capable of collaborating with Hamas and LashkareTaiba for their own selfishness on Wednesday by claiming that Eknath Shinde is Hamas Raut made fun of Shinde by claiming He himself is Hamas Hamas and LashkareTaiba two terrorist groups are completely irrelevant in Maharashtra But the BJP is to blame for sowing the worms in their the Shinde factions thoughts said Raut When Shinde made a statement at the Tuesday Dussehra rally in Mumbais Azad Maidan Raut reacted to it As part of the opposition alliance INDIA Uddhav Thackerays Shiv Sena UBT has formed an alliance with Congress and the Samajwadi Party Shinde remarked of this alliance For their own selfishness they will tie the knot with Hamas and LashkareTaiba Raut highlighted that Shindes address differed from the customary Dussehra rallies conducted by the Shiv Sena each year Raut expressed that he could make various remarks but we adhere to the principles and values of Balasaheb Thackeray Balasaheb Thackeray used to focus on the nation and its citizens However Shindes entire speech was centered on bolstering the BJP reinforcing the position of Modi ji and fortifying JP Nadda ji In response to the provided statement Raut expressed his view that the occasion was Dussehra a day traditionally associated with auspiciousness However he criticized Shinde for focusing on contentious matters and likened him to Hamas and Al Qaeda of Maharashtra Raut also mentioned that Shinde had in his Dussehra speech questioned the alliance between Shiv Sena UBT and Akhilesh Yadavs Samajwadi Party citing an incident from 1990 when Samajwadi Party founder Mulayam Singh Yadav had reportedly ordered the use of force against karsevaks in Ayodhya This event marked the first time that Thackeray and Shinde leaders of the divergent factions of the Shiv Sena organized separate Dussehra rallies in Mumbai marking a departure from the partys historical practices', 'At IUMLs proPalestine rally in Kerala Tharoor calls Hamas terror group urges Israel to end war Kozhikode Kerala India October 27 ANI Pointing out that the world was witnessing its worst tragedy Congress MP Shashi Tharoor alleged that Israels response to the October 7 Hamas terrorist attack was disproportionate as a greater number of Palestinian people were killed in the past 19 days compared to those who lost their lives in the region since the year 2008 Addressing an event organised to express solidarity with the Palestine people by the Indian United Muslim League IUML in Keralas Kozhikode on Thursday Tharoor urged Israel to end air strikes in Gaza adding that India has always stood for peace since Mahatama Gandhi Since 19 days the world is seeing the worst humanrights tragedies We are seeing the worst tragedy Terrorists attacked Israel Hamas is a terror group Israel stopped providing food water and electricity to Gaza We are condemning the bombing of Israel Tharoor said at the event held at Kozhikode beach Tharoor who had previoulsy served as an UN diplomat said the ongoing air strikes in Gaza by Israel in response to the Hamas attack was disproportionate Reiterating Bapus words Tharoor said An eye for an eye will make the whole world blind India has always stood for peace since Gandhi He also highlighted that the ongoing crisis is not a Muslim issue but a human rights issue and said war knows no religion Israel calls their operation Swords of Iron but now those swords are dipped in the blood of children The bombing has caused a lot of injuries and innocent people are suffering and they are dying Many are living under suffocating occupation Tharoor said He said that over 6000 Palestinians and 300 Isrealis were killed in clashes in the area between 2008 and September this year and the number of those who died since October 7 however was much more While 1400 Israelis died in the Hamas terrorist attack many more were killed in Gaza when Israel responded to itInnocent civilians are dying Tharoor said Tharoor urged Israel to end the war and further appealed to the world to unite to end the human rights violations inflicted on the Palestinian people Now it is more than time to announce a ceasefire the Congress MP from Thiruvananthapuram said While addressing the rally IUML national general secretary PK Kunhalikutty said that the biggest weapon in the world is public opinion and that showing solidarity will bring results Children are dying We all are here to shed tears for the brutality in Gaza We have no weapons to send there or save them This rally will yield fruit because the biggest weapon in the world is public opinion Global leaders are joining in solidarity Thats how we also joined this Solidarity has made results here Killings should stop in Palestine he said IUML Party workers gathered in strength for Thursdays rally which was presided over by Kunhalikutty with Shashi Tharoor as Chief Guest IUML state president Panakkad Sayyid Sadiq Ali Shihab Thangal inaugurated the rally In his speech Thangal said Israels occupation has created Palestine conflict They are trying to survive They are trying the defend their land Stop genocide killings This conflict has started since 1947 Gandhi criticised Israeli occupation Nehru Manmohan Singh even Vajpayee also took a stand against the Israeli occupation of Palestine They all stood with justice The current government is trying to dilute that stand and make Israel look holy They are trying to whitewash Israel We should stand with marginalised Indias policy is to support the vulnerable people Israel is the biggest terrorist country Whoever is supporting Israel they are supporting terror Justice will rise over there thats why we are having this rally With our prayers let their wounds be healed the IUML leader said On attending the IUMLs solidarity rally Tharoor said India is one of the handful of countries that maintains ambassadors in both Israel and Palestine and enjoys good relations with both We should be a voice for peace amid the carnage After the October 7 attack on Israel from the Gaza Strip by Hamas Israeli Prime Minister Benjamin Netanyahu set up a war cabinet and the Israeli defence minister Yoav Gallant said they will launch a ground offensive on Gaza seeking to wipe off from the face of earth the Palestineterror group ANI', 'Uddhav buried Bal Thackerays Hindutva for power may hug Hamas one day Shinde Mumbai Oct 24 PTI Maharashtra Chief Minister Eknath Shinde on Tuesday launched a blistering attack on Shiv Sena UBT leader Uddhav Thackeray saying he buried the Hindutva ideology of Bal Thackeray for power and joined hands with Congress and socialist parties Addressing a massive gathering at the Dussehra rally of Shiv Sena in Azad Maidan Shinde without naming Thackeray said he backstabbed Bal Thackeray by committing dishonesty with his ideological legacy Shinde also said he wont be surprised if they Shiv SenaUBT ally with Asaduddin Owaisiled AIMIM and even hug terrorist organisations such as Hamas Hizbul Mujahideen LashkareToiba for their selfish motives and chair power He also reiterated that the state government is committed to granting quota to Maraths which will stand the legal scrutiny and appealed to youths not to take extreme steps like committing suicide You have buried the Hindutva ideology of Balasaheb Thackeray by going with Congress and Samajwadis for power Balasaheb had given Garv se kaho hum Hindu hai slogan from Shivtirth Shivaji Park ground but slogans like Garv se kaho hum Congressi and Samajwadi hai are being given from that venue Shinde said The Shiv Sena faction led by Uddhav Thackeray organised a conventional annual Dussehra rally on Shivaji Park ground in Dadar which the party terms Shivtirth He said the parties who used to target the BJP by questioning the timeline for the construction of Ram temple in Ayodhya are feeling embarrassed now They have lost their face How will they go to Ayodhya now he asked Shinde claimed Uddhav Thackeray nurtured the ambition to become the CM since 2004 but things didnt work out It was his Uddhavs wish to become the CM since 2004 but the jugaad didnt work out He pretended that he was never interested in the post It was said publicly that he accepted the responsibility after the 2019 assembly elections on the advice of Sharad Pawar But the fact is that two persons were sent to Pawar to recommend his Uddhavs name for the post he said Targeting the INDIA bloc of opposition parties Shinde said the people will bury the tenheaded INDIA alliance Ravan in 2024 polls He said PM Modi will come to power for the third consecutive term next year and We will send 45 MPs out of 48 from Maharashtra to strengthen his hand Shinde said it was Modi who had fulfilled the dreams of Bal Thackeray by removing Article 370 and facilitating the construction of Ram temple Once Balasaheb had said that if he became PM for a day he would build Ram Mandir and repeal Article 370 Now under Modis guidance Ram Mandir is being constructed in Ayodhya and Article 370 is scrapped he added Shinde said those who used to taunt regarding the timeline for the construction of the Ram temple have lost their face as Modi has given the schedule of its construction We all will go to Ayodhya for the inauguration of the temple He said the massive crowd at Azad Maidan shows a saffron wave is prevailing in Maharashtra This is the azad Shiv Senas azad rally at Azad Maidan which is associated with the freedom struggle he said Against the backdrop of the acrimony between two factions of Shiv Sena over the venue of the annual Dussehra rally Shinde said he considers any place as Shivtirth where Bal Thackerays thoughts can be shared openly In a jibe at Uddhav he said Those who claim to have blood relations with Balasaheb have suppressed his thoughts Terming Uddhav Thackray and his son Aaditya as one full one half Shinde said he wont be surprised if they merge their faction with Congress Speaking on the Maratha quota issue Shinde said since he is from an ordinary Maratha family he understands their pain and sorrow I am aware of their pain and sorrow The Justice Shinde retd committee is working 24 hours and a curative petition has been filed in the Supreme Court which had struck down the Maratha quota and it has been admitted Hence a window has been opened the chief minister said Midway in his speech Shinde bowed before the bust of Chhatrapati Shivaji Maharaj on the dais and vowed to grant the reservation to the Maratha community Without doing injustice to anyone and without withdrawing reservation of anyone this government will provide a quota to the Maratha community that will last permanently Shinde said Appealing to youths to not take extreme steps like committing suicide for quota Shinde said they should think of their families and children before taking any extreme step He said Bal Thackeray had castigated Mani Shankar Aiyar and Congress for insulting VD Savarkar but they Uddhav are now serving the same Congress PTI KK NSK Except for the headline this story has not been edited by The Federal staff and is autopublished from a syndicated feed', 'New Bills replacing IPC CrPC Evidence Act will be passed soon Union Home Minister Amit Shah Sensex Nifty rebound over 1 pc after six sessions of losses 27102023 27102023 IST 27102023 27102023 IST Photo PTI Mumbai PTI Equity benchmark indices Sensex and Nifty on Friday reversed their sixsession losing streak and rebounded more than 1 per cent on valuebuying in auto IT financial and energy stocks Betterthanexpected quarterly financial results of corporates also boosted investor sentiments even as uncertainties persisted over the escalating tensions in the Middle East according to analysts In a largely rangebound trade the 30share BSE Sensex rose 63465 points or 101 per cent to settle at 6378280 points During the session it swung between a high of 6391313 points and a low of 6339337 points Likewise the wider gauge Nifty surged 20245 points or 107 per cent to 1905970 points Domestic equities ended higher following positive global cues The US Q3 GDP data came in at a twoyear high of 49 per cent which was better than the expectation of 42 per cent and shows strong US economy resilience Even on the domestic front heavyweights like Maruti Cipla and Dr Reddy came out with robust results during the session which boosted investor sentiments Siddhartha Khemka Head Retail Research Motilal Oswal Financial Services Ltd said Axis Bank was the biggest gainer in the Sensex pack rising 307 per cent followed by HCL Tech SBI NTPC Tata Motors Nestle India and Infosys Shares of index heavyweight Reliance Industries witnessed heavy buying as it surged 175 per cent to close at Rs 226525 apiece The company will announce its quarterly financial numbers after market hours Maruti Suzuki India on Friday reported a whopping 803 per cent increase in net profit at Rs 37165 crore in the JulySeptember quarter driven by better sales softening commodity prices cost reduction efforts and higher nonoperating income On the other hand Asian Paints Ultratech Cement and ITC were the laggards The domestic market recovered well compared to yesterdays sharp corrections due to restrained FII selling along with moderation in currency and global bond yield volatility To date the Q2 results outcome is decent which is in line with the buoyant estimate Yet the market is not enthusiastic as we are at the cusp of earnings downgrade in anticipation of a further slowdown in the world economy due to elevated interest rates and geopolitical risk Vinod Nair Head of Research at Geojit Financial Services said In the broader market the BSE midcap gauge gained 170 per cent and the smallcap index rose 189 per cent All the sectoral indices ended in the green utility gained 222 per cent power jumped 204 per cent services 179 per cent industrial 163 per cent realty 163 per cent and IT 136 per cent In six trading sessions till October 26 Sensex had declined 327994 points Asian markets mostly rose after data showed the US economy was growing robustly and as robust forecasts from Amazoncom and Intel along with a pullback in Treasury yields lifted megacaps European stocks were mixed on Friday as weak corporate earnings offset robust US economic data released overnight Energy stocks outperformed as oil prices surged on concerns over a widening of the IsraelHamas conflict Deepak Jasani Head of Retail Research HDFC Securities said In Asian markets Seoul Shanghai Tokyo and Hong Kong ended with significant gains on Friday European markets were trading on a mixed note The US equity indices ended in negative territory on Thursday Global oil benchmark Brent crude rose 250 per cent to USD 9013 a barrel Foreign Institutional Investors FIIs offloaded equities worth Rs 150013 crore on Friday according to exchange data', 'Israel biggest terrorist nation in the world says Sadikali Thangal October 26 2023 0815 pm Updated 0838 pm IST Kozhikode Panakkad Syed Sadikali Shihab Thangal Indian Union Muslim League IUML State president has called Israel a terrorist nation for its massacre of the hapless Palestinian people in Gaza in the wake of the Hamas attack on October 7 He was opening an event organised by the IUML on the Kozhikode beach on Thursday to extend support to Palestine The Thangal said the Palestinian people had been resisting the invasion attempts by Israel since 1947 Their land properties everything is being taken over and they are displaced from their land Resistance has been their oxygen for long A wellknown Palestinian poet has described his people as dead bodies that breathe he said The IUML leader pointed out that India had been supporting them after realising Israels hidden agenda of invasion People like Mahatma Gandhi father of our nation have criticised the invasion Prime Ministers from Nehru to Manmohan Singh continued that line Even Atal Bihari Vajpayee was supporting Palestine The current dispensation at the Centre however has diluted our position and is seen whitewashing Israel It is condemnable he said Terming Israel the biggest terrorist nation in the world the Thangal said countries such as the United States and the United Kingdom were found to be supporting it These Western nations which always talk about human rights were turning a blind eye towards what was happening in Gaza A free Palestine is the only solution for which political talks should be held Israel should stop its terrorist activities and fall in line he added Thousands of people including a large number of women from across northern Kerala districts gathered on the beach to attend the event which also proved to be a show of strength of the IUML ahead of the Lok Sabha polls The partys elected representatives including MPs and MLAs were present']\n"
          ]
        }
      ],
      "source": [
        "# Apply the cleaning function to the 'context' column\n",
        "filtered_df['context'] = filtered_df['context'].apply(clean_text)\n",
        "\n",
        "# Collect all the rows of the \"Context\" column\n",
        "cleaned_context_data = filtered_df['context'].tolist()\n",
        "\n",
        "# Display the first few cleaned context entries\n",
        "print(cleaned_context_data[:5])  # Display the first 5 entries as an example\n"
      ]
    },
    {
      "cell_type": "code",
      "execution_count": 30,
      "metadata": {
        "colab": {
          "base_uri": "https://localhost:8080/"
        },
        "id": "GSx8YVahliH0",
        "outputId": "262d1fd4-0a5c-4547-9ce1-ae4521212a11"
      },
      "outputs": [
        {
          "name": "stdout",
          "output_type": "stream",
          "text": [
            "['This is a long document that needs to be segmented into smaller chunks to fit into the token limit of BERT.']\n"
          ]
        }
      ],
      "source": [
        "def segment_document(document, max_tokens=512):\n",
        "\n",
        "    segments = []\n",
        "    words = document.split()\n",
        "    current_segment = ''\n",
        "    current_length = 0\n",
        "\n",
        "    for word in words:\n",
        "        # Check if adding the next word exceeds the token limit\n",
        "        if current_length + len(word) + 1 <= max_tokens:\n",
        "            current_segment += ' ' + word\n",
        "            current_length += len(word) + 1\n",
        "        else:\n",
        "            # Add the current segment to the list of segments\n",
        "            segments.append(current_segment.strip())\n",
        "            # Start a new segment with the current word\n",
        "            current_segment = word\n",
        "            current_length = len(word)\n",
        "\n",
        "    # Add the last segment to the list of segments\n",
        "    segments.append(current_segment.strip())\n",
        "\n",
        "    return segments\n",
        "\n",
        "# Example usage\n",
        "document = \"This is a long document that needs to be segmented into smaller chunks to fit into the token limit of BERT.\"\n",
        "segments = segment_document(document)\n",
        "print(segments)\n"
      ]
    },
    {
      "cell_type": "code",
      "execution_count": 34,
      "metadata": {
        "colab": {
          "base_uri": "https://localhost:8080/"
        },
        "id": "m3RVvBrZlzQS",
        "outputId": "88bc26f8-6d84-4826-fa22-a1328ab0db6c"
      },
      "outputs": [
        {
          "name": "stdout",
          "output_type": "stream",
          "text": [
            "Top Relevant Documents:\n",
            "Document 1: Document 3 text\n",
            "Document 2: Document 2 text\n",
            "Document 3: Document 1 text\n"
          ]
        }
      ],
      "source": [
        "from sklearn.feature_extraction.text import TfidfVectorizer\n",
        "from sklearn.metrics.pairwise import cosine_similarity\n",
        "\n",
        "def find_relevant_documents(docs, question):\n",
        "    # Convert documents and question into TF-IDF vectors\n",
        "    vectorizer = TfidfVectorizer()\n",
        "    tfidf_matrix = vectorizer.fit_transform(docs + [question])\n",
        "\n",
        "    # Calculate cosine similarity between question and documents\n",
        "    similarity_scores = cosine_similarity(tfidf_matrix[-1], tfidf_matrix[:-1])\n",
        "\n",
        "    # Get indices of top candidate documents based on cosine similarity\n",
        "    top_candidates_indices = similarity_scores.argsort()[0][-3:][::-1]  # Get top 3 candidates\n",
        "\n",
        "    # Get top candidate documents\n",
        "    top_candidates = [docs[i] for i in top_candidates_indices]\n",
        "\n",
        "    return top_candidates\n",
        "\n",
        "# Example usage\n",
        "docs = [\"Document 1 text\", \"Document 2 text\", \"Document 3 text\"]\n",
        "question = \"Input question text\"\n",
        "\n",
        "relevant_documents = find_relevant_documents(docs, question)\n",
        "print(\"Top Relevant Documents:\")\n",
        "for i, doc in enumerate(relevant_documents, start=1):\n",
        "    print(f\"Document {i}: {doc}\")\n"
      ]
    },
    {
      "cell_type": "code",
      "execution_count": 39,
      "metadata": {
        "colab": {
          "base_uri": "https://localhost:8080/"
        },
        "id": "to7L1AQzotEo",
        "outputId": "ae3f6857-1fe9-4162-9db8-7f82de10a34f"
      },
      "outputs": [
        {
          "name": "stderr",
          "output_type": "stream",
          "text": [
            "Some weights of the model checkpoint at bert-large-uncased-whole-word-masking-finetuned-squad were not used when initializing BertForQuestionAnswering: ['bert.pooler.dense.bias', 'bert.pooler.dense.weight']\n",
            "- This IS expected if you are initializing BertForQuestionAnswering from the checkpoint of a model trained on another task or with another architecture (e.g. initializing a BertForSequenceClassification model from a BertForPreTraining model).\n",
            "- This IS NOT expected if you are initializing BertForQuestionAnswering from the checkpoint of a model that you expect to be exactly identical (initializing a BertForSequenceClassification model from a BertForSequenceClassification model).\n"
          ]
        },
        {
          "name": "stdout",
          "output_type": "stream",
          "text": [
            "Answer: paris\n"
          ]
        }
      ],
      "source": [
        "from transformers import BertTokenizer, BertForQuestionAnswering\n",
        "import torch\n",
        "\n",
        "def answer_question(question, answer_text):\n",
        "    # Tokenization\n",
        "    tokenizer = BertTokenizer.from_pretrained('bert-large-uncased-whole-word-masking-finetuned-squad')\n",
        "    inputs = tokenizer.encode_plus(question, answer_text, max_length=512, truncation=True, return_tensors=\"pt\")\n",
        "    input_ids = inputs['input_ids']\n",
        "    token_type_ids = inputs['token_type_ids']\n",
        "\n",
        "    # Segment ID Generation\n",
        "    sep_index = input_ids[0].tolist().index(tokenizer.sep_token_id)\n",
        "    num_seg_a = sep_index + 1\n",
        "    num_seg_b = len(input_ids[0]) - num_seg_a\n",
        "    segment_ids = [0] * num_seg_a + [1] * num_seg_b\n",
        "\n",
        "    # Model Inference\n",
        "    model = BertForQuestionAnswering.from_pretrained('bert-large-uncased-whole-word-masking-finetuned-squad')\n",
        "    outputs = model(input_ids, token_type_ids=token_type_ids)\n",
        "\n",
        "    # Retrieve start and end logits\n",
        "    start_logits = outputs.start_logits\n",
        "    end_logits = outputs.end_logits\n",
        "\n",
        "    # Answer Reconstruction\n",
        "    answer_start = torch.argmax(start_logits)\n",
        "    answer_end = torch.argmax(end_logits)\n",
        "    tokens = tokenizer.convert_ids_to_tokens(input_ids[0])\n",
        "    answer = tokens[answer_start]\n",
        "    for i in range(answer_start + 1, answer_end + 1):\n",
        "        if tokens[i][0:2] == '##':\n",
        "            answer += tokens[i][2:]\n",
        "        else:\n",
        "            answer += ' ' + tokens[i]\n",
        "\n",
        "    return answer\n",
        "\n",
        "# Example usage\n",
        "question = \"What is the capital of France?\"\n",
        "answer_text = \"Paris is the capital and largest city of France.\"\n",
        "answer = answer_question(question, answer_text)\n",
        "print(\"Answer:\", answer)\n"
      ]
    }
  ],
  "metadata": {
    "colab": {
      "provenance": []
    },
    "kernelspec": {
      "display_name": "Python 3",
      "name": "python3"
    },
    "language_info": {
      "name": "python"
    }
  },
  "nbformat": 4,
  "nbformat_minor": 0
}
