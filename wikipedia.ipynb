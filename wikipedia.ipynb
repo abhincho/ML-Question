{
 "cells": [
  {
   "cell_type": "code",
   "execution_count": 3,
   "metadata": {},
   "outputs": [],
   "source": [
    "from langchain.utilities import WikipediaAPIWrapper"
   ]
  },
  {
   "cell_type": "code",
   "execution_count": 4,
   "metadata": {},
   "outputs": [],
   "source": [
    "wikipedia = WikipediaAPIWrapper()"
   ]
  },
  {
   "cell_type": "code",
   "execution_count": 5,
   "metadata": {},
   "outputs": [
    {
     "data": {
      "text/plain": [
       "'Page: 1948 Palestine war\\nSummary: The 1948 Palestine war  was fought in the territory of what had been, at the start of the war, British-ruled Mandatory Palestine. During the war, the British withdrew from Palestine, Zionist forces conquered territory and established the State of Israel, and over 700,000 Palestinians fled or were expelled. It was the first war of the Israeli–Palestinian conflict and the broader Arab–Israeli conflict.\\nThe war had two main phases, the first being the 1947–1948 civil war, which began on 30 November 1947, a day after the United Nations voted to adopt the Partition Plan for Palestine, which planned for the division of the territory into Jewish and Arab sovereign states. During this period the British still maintained a declining rule over Palestine and occasionally intervened in the violence. Towards the end of the civil war phase, Zionist forces executed Plan Dalet, an offensive operation conquering territory for the planned establishment of a Jewish state.\\nThe second phase of the war began on 14 May 1948, with the termination of the British Mandate and the declaration of the establishment of the State of Israel. The following morning, the surrounding Arab armies invaded Palestine, beginning the 1948 Arab–Israeli War. The Egyptians advanced in the south-east while the Jordanian Arab Legion and Iraqi forces captured the central highlands. Syria and Lebanon fought with the Israeli forces in the north. The newly formed Israel Defense Forces managed to halt the Arab forces and in the following months began pushing them back and capturing territory. By the end of the war, the State of Israel had captured about 78% of former territory of the mandate, the Kingdom of Jordan had captured and later annexed the area that became the West Bank, and Egypt had captured the Gaza Strip. The war formally ended with the 1949 Armistice Agreements, which established the Green Line demarcating these territories.\\nDuring the war, massacres and acts of terror were conducted by and against both sides.\\nA campaign of massacres and violence against the Arab population, such as occurred at Lydda and Ramle and the Battle of Haifa, led to the expulsion and flight of over 700,000 Palestinians, with most of their urban areas being depopulated and destroyed. This violence and dispossession of the Palestinians is known today as the Nakba (Arabic for \"the disaster\") and resulted in the beginning of the Palestinian refugee problem.\\n\\nPage: Israeli–Palestinian conflict\\nSummary: The Israeli–Palestinian conflict is an ongoing military and political conflict about land and self-determination within the territory of the former Mandatory Palestine. Key aspects of the conflict include the Israeli occupation of the West Bank and Gaza Strip, the status of Jerusalem, Israeli settlements, borders, security, water rights, the permit regime, Palestinian freedom of movement, and the Palestinian right of return.\\nThe conflict has its origins in the rise of Zionism in Europe and the arrival of Jewish settlers to Ottoman Palestine in the late 19th and early 20th centuries. The local Arab population opposed Zionism, primarily out of fear of territorial displacement and dispossession. The Zionist movement garnered the support of an imperial power in the 1917 Balfour Declaration issued by Britain, which promised to support the creation of a \"Jewish homeland in Palestine\". Following the British occupation of the formerly Ottoman region during World War I, Mandatory Palestine was established as a British mandate. Increasing Jewish immigration led to tensions between Jews and Arabs which grew into intercommunal conflict. In 1936, an Arab revolt erupted demanding independence, which the British suppressed.\\nThe 1947 United Nations Partition Plan for Palestine triggered the 1948 Palestine war, which saw the expulsion and flight of most Palestinian Arabs, the establishment of Israel on most of the Mandate\\'s territory, and the control of the Gaza Strip and the Wes'"
      ]
     },
     "execution_count": 5,
     "metadata": {},
     "output_type": "execute_result"
    }
   ],
   "source": [
    "wikipedia.run('Palestine War')"
   ]
  },
  {
   "cell_type": "code",
   "execution_count": 6,
   "metadata": {},
   "outputs": [],
   "source": [
    "#REPL \n",
    "from langchain.utilities import PythonREPL"
   ]
  },
  {
   "cell_type": "code",
   "execution_count": 7,
   "metadata": {},
   "outputs": [],
   "source": [
    "python_repl = PythonREPL()"
   ]
  },
  {
   "cell_type": "code",
   "execution_count": 8,
   "metadata": {},
   "outputs": [
    {
     "name": "stderr",
     "output_type": "stream",
     "text": [
      "Python REPL can execute arbitrary code. Use with caution.\n"
     ]
    },
    {
     "data": {
      "text/plain": [
       "'4\\n'"
      ]
     },
     "execution_count": 8,
     "metadata": {},
     "output_type": "execute_result"
    }
   ],
   "source": [
    "python_repl.run(\"print(2+2)\")"
   ]
  },
  {
   "cell_type": "code",
   "execution_count": 9,
   "metadata": {},
   "outputs": [],
   "source": [
    "from langchain_community.tools import DuckDuckGoSearchRun"
   ]
  },
  {
   "cell_type": "code",
   "execution_count": 10,
   "metadata": {},
   "outputs": [],
   "source": [
    "search = DuckDuckGoSearchRun()"
   ]
  },
  {
   "cell_type": "code",
   "execution_count": 11,
   "metadata": {},
   "outputs": [
    {
     "data": {
      "text/plain": [
       "\"Barack Obama—with his wife, Michelle—being sworn in as the 44th president of the United States, January 20, 2009. Key events in the life of Barack Obama. Barack Obama (born August 4, 1961, Honolulu, Hawaii, U.S.) is the 44th president of the United States (2009-17) and the first African American to hold the office. The White House, official residence of the president of the United States, in July 2008. The president of the United States is the head of state and head of government of the United States, indirectly elected to a four-year term via the Electoral College. The officeholder leads the executive branch of the federal government and is the commander-in-chief of the United States Armed Forces. Most common names of U.S. presidents 1789-2021. Published by. Aaron O'Neill , Feb 2, 2024. The most common first name for a U.S. president is James, followed by John and then William. Six U.S ... Michelle and Barack Obama's daughter Malia Obama debuted a new name as her Hollywood career heats up, helping distance herself from the former president and first lady. By Sabba Rahbar Feb 21 ... Barack and Michelle Obama's daughters, Malia and Sasha, grew up in the White House from 2009 to 2017. To most of the world, Barack and Michelle Obama are the former president and first lady of ...\""
      ]
     },
     "execution_count": 11,
     "metadata": {},
     "output_type": "execute_result"
    }
   ],
   "source": [
    "search.run(\"Obama's first name?\")"
   ]
  },
  {
   "cell_type": "code",
   "execution_count": 17,
   "metadata": {},
   "outputs": [],
   "source": [
    "from langchain_community.tools import DuckDuckGoSearchResults\n",
    "search = DuckDuckGoSearchResults()"
   ]
  },
  {
   "cell_type": "code",
   "execution_count": 18,
   "metadata": {},
   "outputs": [
    {
     "data": {
      "text/plain": [
       "'[snippet: Presenting the Official Trailer of #CaptainMiller. Grand worldwide Release on January 12th, 2024. #CaptainMillerTrailer #Dhanush #shivarajkumar #sundeepkisha..., title: CAPTAIN MILLER - Trailer | Dhanush | Shivarajkumar, Sundeep Kishan ..., link: https://www.youtube.com/watch?v=ujhWbKP1rKA], [snippet: Dhanush had also shared the first-look poster on X with a caption that read, \"Honoured @ilaiyaraaja sir (sic).\" The biopic for Ilaiyaraaja will be produced by Connekkt Media, PK Prime Production ..., title: Dhanush unveils new poster from Ilaiyaraaja biopic; Kamal Haasan wishes ..., link: https://www.hindustantimes.com/entertainment/tamil-cinema/dhanush-ilaiyaraaja-biopic-new-poster-kamal-haasan-birthday-post-mani-ratnam-101717309734005.html], [snippet: Dhanush made his Hindi-language debut as an obsessive one-sided lover in the tragic romance Ranjhanaa. Dhanush\\'s other Hindi movies include Shamitabh, a comedy-drama that found him playing a mute actor paired alongside Bollywood superstar Amitabh Bachchan, along with the romantic comedy Atrangi Re that reunited him with Ranjhanaa director ..., title: 30 Best Dhanush Movies And Where To Watch Them - JustWatch, link: https://www.justwatch.com/in/guide/best-dhanush-movies-where-to-watch], [snippet: Dhanush\\'s portrayal of the multifaceted character Prabhu Shankar demonstrated his capability to transcend monotonous roles. While it bore resemblances to his characters in Selvaraghavan\\'s films, the intricate fusion of romantic and action genres in Polladhavan enabled Dhanush to display his diverse facets within a single film., title: The anatomy of Dhanush\\'s superlative performances in Vetrimaaran\\'s ..., link: https://indianexpress.com/article/entertainment/tamil/anatomy-of-dhanush-superlative-performances-vetrimaaran-movies-polladhavan-aadukalam-vada-chennai-asuran-8913300/]'"
      ]
     },
     "execution_count": 18,
     "metadata": {},
     "output_type": "execute_result"
    }
   ],
   "source": [
    "search.run(\"Dhanush\")"
   ]
  },
  {
   "cell_type": "code",
   "execution_count": 14,
   "metadata": {},
   "outputs": [],
   "source": [
    "from langchain_community.utilities import DuckDuckGoSearchAPIWrapper\n",
    "\n",
    "wrapper = DuckDuckGoSearchAPIWrapper(region=\"de-de\", time=\"d\", max_results=2)"
   ]
  },
  {
   "cell_type": "code",
   "execution_count": 15,
   "metadata": {},
   "outputs": [],
   "source": [
    "search = DuckDuckGoSearchResults(api_wrapper=wrapper, source=\"news\")"
   ]
  },
  {
   "cell_type": "code",
   "execution_count": 16,
   "metadata": {},
   "outputs": [
    {
     "data": {
      "text/plain": [
       "\"[snippet: Speculations reached a fever pitch when Kim Soo Hyun's bodyguard was seen accompanying Kim Ji Won at the airport, sparking rumors about a possible romance between the two stars. However, on June 8 ..., title: Kim Soo Hyun spotted with Lim Nayoung at a party, raising eyebrows ..., link: https://timesofindia.indiatimes.com/web-series/news/korean/kim-soo-hyun-spotted-with-lim-nayoung-at-a-party-raising-eyebrows-among-fans/articleshow/110832232.cms], [snippet: Although there are many heroines in South Indian cinema, Trisha and Nayanthara have been given a special place by the audience. Both of them have been in the film industry for two decades and achieved star status by acting in many superhit films. These people have witnessed the changes in the world of cinema. Fans […], title: There is a fierce rivalry between Nayanthara and Trisha - B4blaze, link: https://b4blaze.com/film-news/there-is-a-fierce-rivalry-between-nayanthara-and-trisha-130111/], [snippet: Video of a young man performing dangerous stunts on a KTM bike at the Ganga barrage goes viral on social media. Police issue an e-challan worth Rs 12000. Case registered against the youth at ..., title: Video of bike stunt goes viral, police issue challan to man, link: https://timesofindia.indiatimes.com/city/kanpur/police-issue-challan-to-man-for-viral-bike-stunt/articleshow/110829450.cms], [snippet: 4:46. [MP4 720p] Chhattisgarhi Comedy Clip 64 - छत्तीसगढ़ी कोमेडी विडियो - Best Comedy Seen - Anuj Sharma & Nishant. Celeb&Entertainment. 7:00. [MP4 720p] Chhattisgarhi Comedy Clip 17 - छत्तीसगढ़ी कोमेडी विडियो - Best Comedy Seen - Duje Nishad - Dholdhol. Celeb ..., title: Dance comedy video seen - video Dailymotion, link: https://www.dailymotion.com/video/x8zzepk]\""
      ]
     },
     "execution_count": 16,
     "metadata": {},
     "output_type": "execute_result"
    }
   ],
   "source": [
    "search.run(\"Dhanushkumar\")"
   ]
  },
  {
   "cell_type": "code",
   "execution_count": 19,
   "metadata": {},
   "outputs": [],
   "source": [
    "from langchain.agents import Tool\n",
    "\n",
    "tools = [\n",
    "    Tool(\n",
    "        name = \"python repl\",\n",
    "        func=python_repl.run,\n",
    "        description=\"useful for when you need to use python to answer a question. You should input python code\"\n",
    "    )\n",
    "]"
   ]
  },
  {
   "cell_type": "code",
   "execution_count": 20,
   "metadata": {},
   "outputs": [],
   "source": [
    "\n",
    "wikipedia_tool = Tool(\n",
    "    name='wikipedia',\n",
    "    func= wikipedia.run,\n",
    "    description=\"Useful for when you need to look up a topic, country or person on wikipedia\"\n",
    ")\n",
    "\n",
    "duckduckgo_tool = Tool(\n",
    "    name='DuckDuckGo Search',\n",
    "    func= search.run,\n",
    "    description=\"Useful for when you need to do a search on the internet to find information that another tool can't find. be specific with your input.\"\n",
    ")\n"
   ]
  },
  {
   "cell_type": "code",
   "execution_count": 21,
   "metadata": {},
   "outputs": [],
   "source": [
    "tools.append(duckduckgo_tool)\n",
    "tools.append(wikipedia_tool)"
   ]
  },
  {
   "cell_type": "code",
   "execution_count": 22,
   "metadata": {},
   "outputs": [
    {
     "data": {
      "text/plain": [
       "[Tool(name='python repl', description='useful for when you need to use python to answer a question. You should input python code', func=<bound method PythonREPL.run of PythonREPL(globals={'__builtins__': {'__name__': 'builtins', '__doc__': \"Built-in functions, exceptions, and other objects.\\n\\nNoteworthy: None is the `nil' object; Ellipsis represents `...' in slices.\", '__package__': '', '__loader__': <class '_frozen_importlib.BuiltinImporter'>, '__spec__': ModuleSpec(name='builtins', loader=<class '_frozen_importlib.BuiltinImporter'>, origin='built-in'), '__build_class__': <built-in function __build_class__>, '__import__': <built-in function __import__>, 'abs': <built-in function abs>, 'all': <built-in function all>, 'any': <built-in function any>, 'ascii': <built-in function ascii>, 'bin': <built-in function bin>, 'breakpoint': <built-in function breakpoint>, 'callable': <built-in function callable>, 'chr': <built-in function chr>, 'compile': <built-in function compile>, 'delattr': <built-in function delattr>, 'dir': <built-in function dir>, 'divmod': <built-in function divmod>, 'eval': <built-in function eval>, 'exec': <built-in function exec>, 'format': <built-in function format>, 'getattr': <built-in function getattr>, 'globals': <built-in function globals>, 'hasattr': <built-in function hasattr>, 'hash': <built-in function hash>, 'hex': <built-in function hex>, 'id': <built-in function id>, 'input': <bound method Kernel.raw_input of <ipykernel.ipkernel.IPythonKernel object at 0x0000022128F8DA50>>, 'isinstance': <built-in function isinstance>, 'issubclass': <built-in function issubclass>, 'iter': <built-in function iter>, 'aiter': <built-in function aiter>, 'len': <built-in function len>, 'locals': <built-in function locals>, 'max': <built-in function max>, 'min': <built-in function min>, 'next': <built-in function next>, 'anext': <built-in function anext>, 'oct': <built-in function oct>, 'ord': <built-in function ord>, 'pow': <built-in function pow>, 'print': <built-in function print>, 'repr': <built-in function repr>, 'round': <built-in function round>, 'setattr': <built-in function setattr>, 'sorted': <built-in function sorted>, 'sum': <built-in function sum>, 'vars': <built-in function vars>, 'None': None, 'Ellipsis': Ellipsis, 'NotImplemented': NotImplemented, 'False': False, 'True': True, 'bool': <class 'bool'>, 'memoryview': <class 'memoryview'>, 'bytearray': <class 'bytearray'>, 'bytes': <class 'bytes'>, 'classmethod': <class 'classmethod'>, 'complex': <class 'complex'>, 'dict': <class 'dict'>, 'enumerate': <class 'enumerate'>, 'filter': <class 'filter'>, 'float': <class 'float'>, 'frozenset': <class 'frozenset'>, 'property': <class 'property'>, 'int': <class 'int'>, 'list': <class 'list'>, 'map': <class 'map'>, 'object': <class 'object'>, 'range': <class 'range'>, 'reversed': <class 'reversed'>, 'set': <class 'set'>, 'slice': <class 'slice'>, 'staticmethod': <class 'staticmethod'>, 'str': <class 'str'>, 'super': <class 'super'>, 'tuple': <class 'tuple'>, 'type': <class 'type'>, 'zip': <class 'zip'>, '__debug__': True, 'BaseException': <class 'BaseException'>, 'Exception': <class 'Exception'>, 'TypeError': <class 'TypeError'>, 'StopAsyncIteration': <class 'StopAsyncIteration'>, 'StopIteration': <class 'StopIteration'>, 'GeneratorExit': <class 'GeneratorExit'>, 'SystemExit': <class 'SystemExit'>, 'KeyboardInterrupt': <class 'KeyboardInterrupt'>, 'ImportError': <class 'ImportError'>, 'ModuleNotFoundError': <class 'ModuleNotFoundError'>, 'OSError': <class 'OSError'>, 'EnvironmentError': <class 'OSError'>, 'IOError': <class 'OSError'>, 'WindowsError': <class 'OSError'>, 'EOFError': <class 'EOFError'>, 'RuntimeError': <class 'RuntimeError'>, 'RecursionError': <class 'RecursionError'>, 'NotImplementedError': <class 'NotImplementedError'>, 'NameError': <class 'NameError'>, 'UnboundLocalError': <class 'UnboundLocalError'>, 'AttributeError': <class 'AttributeError'>, 'SyntaxError': <class 'SyntaxError'>, 'IndentationError': <class 'IndentationError'>, 'TabError': <class 'TabError'>, 'LookupError': <class 'LookupError'>, 'IndexError': <class 'IndexError'>, 'KeyError': <class 'KeyError'>, 'ValueError': <class 'ValueError'>, 'UnicodeError': <class 'UnicodeError'>, 'UnicodeEncodeError': <class 'UnicodeEncodeError'>, 'UnicodeDecodeError': <class 'UnicodeDecodeError'>, 'UnicodeTranslateError': <class 'UnicodeTranslateError'>, 'AssertionError': <class 'AssertionError'>, 'ArithmeticError': <class 'ArithmeticError'>, 'FloatingPointError': <class 'FloatingPointError'>, 'OverflowError': <class 'OverflowError'>, 'ZeroDivisionError': <class 'ZeroDivisionError'>, 'SystemError': <class 'SystemError'>, 'ReferenceError': <class 'ReferenceError'>, 'MemoryError': <class 'MemoryError'>, 'BufferError': <class 'BufferError'>, 'Warning': <class 'Warning'>, 'UserWarning': <class 'UserWarning'>, 'EncodingWarning': <class 'EncodingWarning'>, 'DeprecationWarning': <class 'DeprecationWarning'>, 'PendingDeprecationWarning': <class 'PendingDeprecationWarning'>, 'SyntaxWarning': <class 'SyntaxWarning'>, 'RuntimeWarning': <class 'RuntimeWarning'>, 'FutureWarning': <class 'FutureWarning'>, 'ImportWarning': <class 'ImportWarning'>, 'UnicodeWarning': <class 'UnicodeWarning'>, 'BytesWarning': <class 'BytesWarning'>, 'ResourceWarning': <class 'ResourceWarning'>, 'ConnectionError': <class 'ConnectionError'>, 'BlockingIOError': <class 'BlockingIOError'>, 'BrokenPipeError': <class 'BrokenPipeError'>, 'ChildProcessError': <class 'ChildProcessError'>, 'ConnectionAbortedError': <class 'ConnectionAbortedError'>, 'ConnectionRefusedError': <class 'ConnectionRefusedError'>, 'ConnectionResetError': <class 'ConnectionResetError'>, 'FileExistsError': <class 'FileExistsError'>, 'FileNotFoundError': <class 'FileNotFoundError'>, 'IsADirectoryError': <class 'IsADirectoryError'>, 'NotADirectoryError': <class 'NotADirectoryError'>, 'InterruptedError': <class 'InterruptedError'>, 'PermissionError': <class 'PermissionError'>, 'ProcessLookupError': <class 'ProcessLookupError'>, 'TimeoutError': <class 'TimeoutError'>, 'open': <built-in function open>, 'copyright': Copyright (c) 2001-2023 Python Software Foundation.\n",
       " All Rights Reserved.\n",
       " \n",
       " Copyright (c) 2000 BeOpen.com.\n",
       " All Rights Reserved.\n",
       " \n",
       " Copyright (c) 1995-2001 Corporation for National Research Initiatives.\n",
       " All Rights Reserved.\n",
       " \n",
       " Copyright (c) 1991-1995 Stichting Mathematisch Centrum, Amsterdam.\n",
       " All Rights Reserved., 'credits':     Thanks to CWI, CNRI, BeOpen.com, Zope Corporation and a cast of thousands\n",
       "     for supporting Python development.  See www.python.org for more information., 'license': See https://www.python.org/psf/license/, 'help': Type help() for interactive help, or help(object) for help about object., 'execfile': <function execfile at 0x0000022128B81630>, 'runfile': <function runfile at 0x0000022128CE4940>, '__IPYTHON__': True, 'display': <function display at 0x0000022127624CA0>, 'get_ipython': <bound method InteractiveShell.get_ipython of <ipykernel.zmqshell.ZMQInteractiveShell object at 0x0000022128F8DF30>>}}, locals={})>),\n",
       " Tool(name='DuckDuckGo Search', description=\"Useful for when you need to do a search on the internet to find information that another tool can't find. be specific with your input.\", func=<bound method BaseTool.run of DuckDuckGoSearchResults()>),\n",
       " Tool(name='wikipedia', description='Useful for when you need to look up a topic, country or person on wikipedia', func=<bound method WikipediaAPIWrapper.run of WikipediaAPIWrapper(wiki_client=<module 'wikipedia' from 'c:\\\\Users\\\\dhanu\\\\.conda\\\\envs\\\\llm\\\\lib\\\\site-packages\\\\wikipedia\\\\__init__.py'>, top_k_results=3, lang='en', load_all_available_meta=False, doc_content_chars_max=4000)>)]"
      ]
     },
     "execution_count": 22,
     "metadata": {},
     "output_type": "execute_result"
    }
   ],
   "source": [
    "tools"
   ]
  },
  {
   "cell_type": "code",
   "execution_count": null,
   "metadata": {},
   "outputs": [],
   "source": [
    "from langchain.agents import initialize_agent\n",
    "\n",
    "zero_shot_agent = initialize_agent(\n",
    "    agent=\"zero-shot-react-description\",\n",
    "    tools=tools,\n",
    "    llm=llm,\n",
    "    verbose=True,\n",
    "    max_iterations=3,\n",
    ")\n",
    "\n",
    "zero_shot_agent.run(\"When was Barak Obama born?\")\n",
    "\n",
    "print(zero_shot_agent.agent.llm_chain.prompt.template)\n"
   ]
  }
 ],
 "metadata": {
  "kernelspec": {
   "display_name": "llm",
   "language": "python",
   "name": "python3"
  },
  "language_info": {
   "codemirror_mode": {
    "name": "ipython",
    "version": 3
   },
   "file_extension": ".py",
   "mimetype": "text/x-python",
   "name": "python",
   "nbconvert_exporter": "python",
   "pygments_lexer": "ipython3",
   "version": "3.10.14"
  }
 },
 "nbformat": 4,
 "nbformat_minor": 2
}
