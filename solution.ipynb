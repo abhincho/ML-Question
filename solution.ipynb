{
 "cells": [
  {
   "cell_type": "markdown",
   "metadata": {},
   "source": [
    "Before starting this cell, create a virtual environment and install the requiremnts.txt file and choose the evironment's python as kernel for this notebook. Also download and add news_article.json file in the folder."
   ]
  },
  {
   "cell_type": "markdown",
   "metadata": {},
   "source": [
    "First of all, I am sorting the articles based on the relatibility of topic with Hamas and israel. \n",
    "This below cell is executing a script which saves 'relevant_articles.json' file (it contains 24k articles now)"
   ]
  },
  {
   "cell_type": "code",
   "execution_count": null,
   "metadata": {},
   "outputs": [],
   "source": [
    "import json\n",
    "import re\n",
    "\n",
    "# Load the JSON file\n",
    "with open('news_article.json', 'r', encoding='utf-8') as f:\n",
    "    data = json.load(f)\n",
    "\n",
    "def clean_text(text):\n",
    "    # Remove special characters, punctuation, and extra whitespace\n",
    "    cleaned_text = re.sub(r'[^\\w\\s]', '', text)\n",
    "    cleaned_text = re.sub(r'\\s+', ' ', cleaned_text)\n",
    "    return cleaned_text.lower() \n",
    "\n",
    "relevant_articles = []\n",
    "for article in data:\n",
    "    if 'Israel' in article['articleBody'] and 'Hamas' in article['articleBody']:\n",
    "        relevant_articles.append({\n",
    "            'title': article['title'],\n",
    "            'source': article['source'],\n",
    "            'articleBody': clean_text(article['articleBody'])\n",
    "        })  \n",
    "\n",
    "file_path = 'relevant_articles.json'\n",
    "\n",
    "# Write the list to a JSON file\n",
    "with open(file_path, 'w') as json_file:\n",
    "    json.dump(relevant_articles, json_file, indent=4)\n",
    "\n",
    "print(f\"Relevant articles have been saved to {file_path}\")        \n"
   ]
  },
  {
   "cell_type": "markdown",
   "metadata": {},
   "source": [
    "The below cell defines a function which picks keywords from the question asked."
   ]
  },
  {
   "cell_type": "code",
   "execution_count": 1,
   "metadata": {},
   "outputs": [],
   "source": [
    "#Key word extraction programm\n",
    "\n",
    "stopwords = {\n",
    "    'the', 'is', 'are', 'and', 'in', 'on', 'at', 'to', 'for', 'of', 'with', 'a', 'an',\n",
    "    'what', 'happened', 'who', 'they', 'did', 'has', 'have', 'had', 'where', 'why',\n",
    "    'which', 'when', 'it', 'its', 'his', 'her', 'their', 'there', 'here', 'that', \n",
    "    'this', 'these', 'those', 'be', 'been', 'being', 'was', 'were', 'would', \n",
    "    'should', 'could', 'may', 'might', 'can', 'will', 'shall', 'must', 'do', \n",
    "    'does', 'doing', 'done', 'get', 'gets', 'getting', 'got', 'use', 'uses', \n",
    "    'using', 'used', 'go', 'goes', 'going', 'gone', 'went', 'take', 'takes', \n",
    "    'taking', 'took', 'come', 'comes', 'coming', 'came', 'say', 'says', \n",
    "    'saying', 'think', 'thinks', 'thinking', 'thought', 'know', 'knows', \n",
    "    'knowing', 'known', 'want', 'wants', 'wanting', 'wanted', 'like', 'likes', \n",
    "    'liking', 'liked', 'love', 'loves', 'loving', 'loved', 'need', 'needs', \n",
    "    'needing', 'needed', 'try', 'tries', 'trying', 'tried', 'look', 'looks', \n",
    "    'looking', 'looked', 'work', 'works', 'working', 'worked', 'help', 'helps', \n",
    "    'helping', 'helped', 'ask', 'asks', 'asking', 'asked', 'give', 'gives', \n",
    "    'giving', 'given', 'find', 'finds', 'finding', 'found', 'mean', 'means', \n",
    "    'meaning', 'meant', 'include', 'includes', 'including', 'included', \n",
    "    'become', 'becomes', 'becoming', 'became', 'seem', 'seems', 'seeming', \n",
    "    'seemed', 'appear', 'appears', 'appearing', 'appeared', 'contain', \n",
    "    'contains', 'containing', 'contained', 'believe', 'believes', 'believing', \n",
    "    'believed', 'represent', 'represents', 'representing', 'represented', \n",
    "    'understand', 'understands', 'understanding', 'understood', 'ensure', \n",
    "    'ensures', 'ensuring', 'ensured', 'require', 'requires', 'requiring', \n",
    "    'required', 'consider', 'considers', 'considering', 'considered', 'over', 'major', 'main', 'primarily', 'fought', 'fight', \n",
    "    'fighting', 'result', 'war', 'conflict', 'sought', 'lead', \n",
    "}\n",
    "\n",
    "\n",
    "\n",
    "def extract_keywords(text):\n",
    "    # Define a regular expression pattern to match words\n",
    "    pattern = r'\\b\\w+\\b'\n",
    "    # Find all words in the text using the regular expression\n",
    "    words = re.findall(pattern, text.lower())\n",
    "    # Define a set of stopwords to filter out common words\n",
    "    \n",
    "    # Filter out stopwords and return the remaining words as keywords\n",
    "    keywords = [word for word in words if word not in stopwords]\n",
    "    return keywords\n",
    "\n"
   ]
  },
  {
   "cell_type": "markdown",
   "metadata": {},
   "source": [
    "Below cell takes question as input and extract keywords from it and filter out articles which has all these keywords in it and saves in 'key_extr_articles' variable"
   ]
  },
  {
   "cell_type": "code",
   "execution_count": 3,
   "metadata": {},
   "outputs": [
    {
     "name": "stdout",
     "output_type": "stream",
     "text": [
      "['israeli', 'military', 'hitting', 'gaza', 'airstrikes']\n"
     ]
    }
   ],
   "source": [
    "#cutting down articles via finding keywords\n",
    "\n",
    "question = \"Why israeli military has been hitting gaza with airstrikes?\"\n",
    "# question = 'When Hamas attacked on Israel?'\n",
    "keywords = extract_keywords(question)\n",
    "print(keywords)\n",
    "\n",
    "key_extr_articles = []\n",
    "for article in relevant_articles:\n",
    "    all_keywords_present = all(keyword in article['articleBody'] for keyword in keywords)\n",
    "    if all_keywords_present:\n",
    "        key_extr_articles.append({\n",
    "            'title': article['title'],\n",
    "            'source': article['source'],\n",
    "            'articleBody': clean_text(article['articleBody'])\n",
    "        })"
   ]
  },
  {
   "cell_type": "code",
   "execution_count": null,
   "metadata": {},
   "outputs": [
    {
     "data": {
      "text/plain": [
       "85"
      ]
     },
     "execution_count": 4,
     "metadata": {},
     "output_type": "execute_result"
    }
   ],
   "source": [
    "\n",
    "print('We can see the number of useful articles has already been reduced to ')\n",
    "print((key_extr_articles))"
   ]
  },
  {
   "cell_type": "markdown",
   "metadata": {},
   "source": [
    "Below cell defines a mmr(Maximal Marginal Relevance) function whcih is useful for discriminating articles further."
   ]
  },
  {
   "cell_type": "code",
   "execution_count": 5,
   "metadata": {},
   "outputs": [
    {
     "name": "stderr",
     "output_type": "stream",
     "text": [
      "e:\\Assignment\\myenv\\Lib\\site-packages\\sentence_transformers\\cross_encoder\\CrossEncoder.py:11: TqdmWarning: IProgress not found. Please update jupyter and ipywidgets. See https://ipywidgets.readthedocs.io/en/stable/user_install.html\n",
      "  from tqdm.autonotebook import tqdm, trange\n",
      "e:\\Assignment\\myenv\\Lib\\site-packages\\huggingface_hub\\file_download.py:1132: FutureWarning: `resume_download` is deprecated and will be removed in version 1.0.0. Downloads always resume when possible. If you want to force a new download, use `force_download=True`.\n",
      "  warnings.warn(\n"
     ]
    }
   ],
   "source": [
    "#mmr program\n",
    "\n",
    "\n",
    "import json\n",
    "import numpy as np\n",
    "from sentence_transformers import SentenceTransformer\n",
    "from sklearn.metrics.pairwise import cosine_similarity\n",
    "\n",
    "# Load articles from JSON file\n",
    "def load_articles(key_articles):\n",
    "    \n",
    "    return [article['articleBody'] for article in key_articles]\n",
    "\n",
    "# Initialize the model\n",
    "model = SentenceTransformer('all-MiniLM-L6-v2')\n",
    "\n",
    "# Function to get embeddings\n",
    "def get_embeddings(texts):\n",
    "    return model.encode(texts, convert_to_tensor=True)\n",
    "\n",
    "# MMR Algorithm\n",
    "def mmr(query_embedding, document_embeddings, documents, top_k=3, lambda_param=0.5):\n",
    "    query_embedding = query_embedding.cpu().detach().numpy()\n",
    "    document_embeddings = document_embeddings.cpu().detach().numpy()\n",
    "    \n",
    "    # Calculate cosine similarity between query and documents\n",
    "    query_doc_similarity = cosine_similarity(query_embedding, document_embeddings).flatten()\n",
    "    \n",
    "    # Initialize the selected documents list and remaining documents set\n",
    "    selected_documents = []\n",
    "    remaining_documents = list(range(len(documents)))\n",
    "    \n",
    "    # Select the most relevant document first\n",
    "    selected_documents.append(np.argmax(query_doc_similarity))\n",
    "    remaining_documents.remove(selected_documents[-1])\n",
    "    \n",
    "    # Select the remaining top_k - 1 documents\n",
    "    for _ in range(top_k - 1):\n",
    "        mmr_score = []\n",
    "        \n",
    "        for doc_index in remaining_documents:\n",
    "            # Calculate the diversity term (minimum similarity to already selected documents)\n",
    "            diversity = min(cosine_similarity(document_embeddings[doc_index].reshape(1, -1), \n",
    "                                              document_embeddings[selected].reshape(1, -1)).flatten()[0] \n",
    "                            for selected in selected_documents)\n",
    "            \n",
    "            # Calculate the MMR score\n",
    "            score = (lambda_param * query_doc_similarity[doc_index]) - ((1 - lambda_param) * diversity)\n",
    "            mmr_score.append((doc_index, score))\n",
    "        \n",
    "        # Select the document with the highest MMR score\n",
    "        selected_doc = max(mmr_score, key=lambda x: x[1])[0]\n",
    "        selected_documents.append(selected_doc)\n",
    "        remaining_documents.remove(selected_doc)\n",
    "    \n",
    "    return [documents[i] for i in selected_documents]"
   ]
  },
  {
   "cell_type": "markdown",
   "metadata": {},
   "source": [
    "In the below cell, I have defined a threshold limit of 3 articles in the mmr function, means we will get top 3 relevant articles related to question. "
   ]
  },
  {
   "cell_type": "code",
   "execution_count": 7,
   "metadata": {},
   "outputs": [
    {
     "name": "stdout",
     "output_type": "stream",
     "text": [
      "Article 1:\n",
      "israel launching a ground offensive in the gaza strip is a certainty but what remains to be seen is how the israeli military goes about it according to a russian analyst there are different ways that any force could employ a ground military operation taking into consideration various aspects boris dolgov a researcher at the russian centre for arab and islamic studies at the institute of oriental studies in moscow told anadolu over the past two weeks israeli officials have repeatedly hinted at launching a ground offensive in gaza all while heavily bombarding the besieged palestinian territory the relentless israeli attacks have now killed more than 5000 palestinians among them over 2000 children and 1100 women the number of people injured in gaza is now over 15200 according to official figures read israel think tank linked to netanyahu promotes unique opportunity to ethnically cleanse gaza israel has targeted all areas of the gaza strip hitting densely populated residential areas hospitals and other civilian sites it has also cut off basic supplies such as water electricity and humanitarian aid to more than 22 million people in the gaza strip israel maintains that all of this is a response to the 7 october military operation by hamas and its subsequent rocket attacks on israeli areas which have now claimed more than 1400 lives one of the options is a ground operation with the use of powerful bombs which is something that the israeli leadership has spoken about said dolgov he said this would be aimed at destroying the underground structures of hamas before a ground offensive which will lead to significant casualties the alternative according to dolgov is to limit the operation to airstrikes and a local offensive in some areas where there are positions of hamas militants with this method the israeli forces will not completely destroy the gaza strip not level it to the ground he added other analysts and experts around the world have also been talking about two main scenarios for an israeli ground attack on gaza the first is called the fallujah model after the iraqi city of that name where us forces launched a largescale ground attack in 2014 while the second is the mosul model of 2017 when the international coalition against the daesh terror group focused more on an air assault engaging ground forces at minimum extent however experts have warned that both versions resulted in significant casualties red line for arab muslim parties dolgov believes that any form of israeli ground attack on gaza runs the risk of expanding the conflict many arab and muslim sides have stated that such a ground operation is a red line this was said by iran hezbollah shia iraqi militia units that are allies of hezbollah representatives of the ansar allah houthi movement in yemen he said arab countries have also warned that they consider a ground operation an unacceptable option he added dolgov urged israel to analyze the consequences of its actions warning that they could spark another global wave of antiisraeli protests we are seeing a wave of antiisraeli protests almost all over the world im not even talking about arab countries we see it in european countries in the us as well as in the countries of the islamic world he said how will israel like to live in a situation where the entire arab and muslim world is united against it and theres the economic political and the constant military threat to israel from arab neighbours what will this give israel even with the us support position of arab countries in the 1973 arabisraeli war when several arab countries fought against israel the persian gulf states helped them by halting oil supplies to western countries dolgov said now there is no oil embargo to israeli supporters because the situation is different there is no direct military confrontation between arab countries and israel he said hamas is a movement that has authority in the gaza strip but it is still not an arab state although it enjoys the support of some countries and regional forces he added at this stage arab countries along with other states are trying to resolve this military situation to stop hostilities through diplomatic means he said another important development in the current escalation is iran a shia country which has become one of the main supporters of hamas a sunni movement according to dolgov hamas is a sunni movement iran is a shia country but they are united by the goals since both iran and the hamas movement oppose as they say the us hegemony they oppose what they put as israels aggressive actions israels creeping occupation of palestinian lands he said he said the escalation in the gaza strip has also narrowed the divide between hamas and the palestinian authority the intrapalestinian split is related to ideological factors for example disputes about whether a palestinian state would be an islamic or secular one he said these differences exist and prevent the creation of a unified palestinian movement recently the two sides have managed to find closer positions and the current situation is also contributing to this said dolgov however the differences have not completely disappeared yet read iran will strike haifa if israel invades gaza strip the views expressed in this article belong to the author and do not necessarily reflect the editorial policy of middle east monitor\n",
      "\n",
      "Article 2:\n",
      "last weekend when iranianbacked houthi rebels in yemen launched missiles hitting three commercial ships in the southern red sea the united states refrained from striking back since then the houthis have sharply escalated their attacks against ships as they sail toward the narrow bab elmandeb strait yet the us remains silent though us navy ships have shot down an array of drones headed their way believed to have been launched by the militant group from territory it controls in yemen the question remains why the us military is not striking back these actions mark a stark difference from its multiple strikes against iranbacked militias in iraq and syria which have fired rockets missiles and drones at bases housing american forces in both countries so far the us has avoided military retaliation a marked departure from its previous responses to attacks in iraq and syria no one has been reported hurt in the houthi incidents although the commercial ships suffered some damage and us officials argue that the houthis havent technically targeted us vessels or forces a subtlety that navy ship captains watching the incoming drones may question heres a look at the houthis and their increasing attacks and why the us believes it is more acceptable to bomb some iranianlinked targets than others who are the houthis and whats going on in yemen houthi rebels swept down from their northern stronghold in yemen and seized the capital sanaa in 2014 launching a grinding war a saudiled coalition intervened in 2015 to try to restore yemens exiled internationally recognised government to power years of bloody inconclusive fighting against the saudiled coalition settled into a stalemated proxy war between saudi arabia and iran causing widespread hunger and misery in yemen the arab worlds poorest country the war has killed more than 150000 people including fighters and civilians and created one of the worlds worst humanitarian disasters killing tens of thousands more a ceasefire that technically ended more than a year ago is still largely being honoured saudi arabia and the rebels have done some prisoner swaps and a houthi delegation was invited to highlevel peace talks in riyadh in september as part of a wider détente the kingdom has reached with iran while they reported positive results there is still no permanent peace why are houthis attacking ships the houthis have sporadically targeted ships in the region over time but the attacks have increased since the start of the war between israel and hamas and spiked after an explosion on 17 october at a hospital in gaza killed and injured many houthi leaders have insisted israel is their target after the weekend attacks houthi military spokesman brigadier general yahya saree said the group wants to prevent israeli ships from navigating the red sea and gulf of aden until the israeli aggression against our steadfast brothers in the gaza strip stops also read yemen civil war who are the houthis that saudi arabia is holding talks with will this end the conflict one of the commercial ships hit on sunday the unity explorer has a tenuous israeli link it is owned by a british firm that includes dan david ungar who lives in israel as one of its officers israeli media identified ungar as being the son of israeli shipping billionaire abraham rami ungar but any israel connections to other ships are unclear sundays flurry of attacks included missiles that hit the unity explorer the number 9 and the sophie ii all bulk carriers throughout that day the uss carney a navy destroyer shot down three drones that were headed toward the ship and also went to the aid of the commercial vessels on wednesday the uss mason shot down a drone heading in its direction in a statement us central command said we cannot assess at this time whether the carney was a target of the drones why has the us not retaliated while the us has carried out airstrikes on iranianback militias in iraq and syria that have targeted american troops in 77 different attacks since 17 october the military has not yet retaliated against the houthis that reluctance reflects political sensitivities and stems largely from broader biden administration concerns about upending the shaky truce in yemen and triggering a wider conflict in the region the white house wants to preserve the truce and is wary of taking action that could open up another war front us officials warn that military action is an option and they havent taken it off the table but both publicly and privately officials stress that there is a difference between the iraq and syria bombings and the houthi attacks iranbacked militia have launched oneway attack drones rockets or closerange ballistic missiles at bases in iraq 37 times and in syria 40 times dozens of troops have suffered minor injuries in most cases traumatic brain injuries in all instances so far the personnel have returned to work also read why have yemens houthis hijacked an indiabound ship hows this linked to the war in response the us has retaliated with airstrikes three times in syria since 17 october targeting weapons depots and other facilities linked directly to irans revolutionary guard corps and the militias it struck multiple sites in iraq late last month after a militia group for the first time fired shortrange ballistic missiles at us forces at the al asad air base the houthis meanwhile have fired missiles at vessels in the red sea launched drones and missiles targeting israel and sent drones in the direction of navy ships also last month houthis seized a vehicle transport ship linked to israel in the red sea off yemen and still hold the vessel houthi missiles landed near another us warship after it assisted a vessel linked to israel that had briefly been seized by gunmen defending the lack of retaliation for those attacks has forced us officials to dance on the head of a pin in one breath the pentagon officials say the navy ships shot down the houthi drones heading toward them because they were deemed a threat but in the next breath officials say the us assesses that the ships were not the target that determination often comes later after intelligence assessments review telemetry and other data that however is certainly no comfort to sailors on the ships who watch the radar track of incoming drones and must make rapid decisions about whether it represents a threat to the ship at the same time the us has consistently said it wants to protect free navigation of the seas however the houthi actions have prompted the international maritime security construct to issue a warning for ships transiting the red sea and bab elmandeb it says ships should choose routes as far from yemeni waters as possible travel at night and not stop because that makes them an easier target this week the us said it was talking with allies about using a naval task force to escort commercial ships in the red sea about 38 countries participate in a similar task force in the region largely to battle piracy off the coast of somalia officials have to discuss the issue with allies to see who wants to be involved in a new effort can the us stop wider conflict in west asia the biden administration has talked persistently about the need to avoid escalating the israelhamas war into a broader regional conflict so far strikes on the iranianbacked groups in iraq and syria have not broadened the conflict said major general pat ryder pentagon press secretary so its not clear if targeted strikes against houthi weapons depots or similar sites which also have iranian support would cross a line and trigger a wider war we will continue to consult with international allies and partners on an appropriate way to protect commercial shipping going through that region and at the same time ensure we do what we need to do to protect our forces said ryder with inputs from ap\n",
      "\n",
      "Article 3:\n",
      "from 54m ago 0825 est paltel all telecom services cut in gaza city and the north gaza strip there are reports that communications have been cut in northern gaza telecomms company paltel posted to its facebook page we regret to announce that all telecom services landline cellular and internet in gaza city and north gaza strip have been lost due to the disconnection of main elements of our network in light of the ongoing aggression our technical teams are working relentlessly by all available means to restore the services 13m ago 0906 est israels military has issued a statement to say it is fighting in closequarters with hamas terrorists inside the gaza strip it said its kfir brigade was operating inside the palestinian territory for the first time and quoted its brigade commander col yaniv barot saying the kfir brigade has been training for this moment i am proud to lead the brigade in its firstever operation i am confident that we will accomplish every task as to date in the war the brigade has located and destroyed more than 30 shafts until now in cooperation with other units the cooperation with the air force is close and is very significant for operational success updated at 0917 est 53m ago 0826 est gaza health ministry 15899 killed by israeli attacks since 7 october gazas health ministry has issued new casualty figures saying that 15899 palestinians have been killed by israels military campaign in the gaza strip since 7 october the ministry which is part of the hamasled government in the gaza strip says that 70 of those who have been killed are women and children it does not distinguish in the figures between civilians and combatants the number of deaths is likely undercounted as the collapse of the health system in gaza has made it difficult for statistics to be gathered and there are more than 6000 palestinians considered missing within the territory israel launched the attacks after the 7 october surprise attack by hamas inside israel which killed at least 1200 people and left more than 5000 injured israel believes that hamas is still holding over 130 people hostage inside gaza who were seized from israel on 7 october it has not been possible for journalists to independently verify the casualty figures being issued during the conflict updated at 0848 est 54m ago 0825 est paltel all telecom services cut in gaza city and the north gaza strip there are reports that communications have been cut in northern gaza telecomms company paltel posted to its facebook page we regret to announce that all telecom services landline cellular and internet in gaza city and north gaza strip have been lost due to the disconnection of main elements of our network in light of the ongoing aggression our technical teams are working relentlessly by all available means to restore the services 1h ago 0808 est in rafah reuters reports that a bombing at one site overnight had torn a crater the size of a basketball court out of the earth a dead toddlers bare feet and black trousers poked out from under a pile of rubble men struggled with their bare hands to move a chunk of the concrete that had crushed the child later they wept as they marched through the ruins carrying the body in a bundle and that of another small child body wrapped in a blanket we were asleep and safe they told us it was a safe area rafah and all said salah alarja owner of one of the houses destroyed at the site there were children women and martyrs he said they tell you it is a safe area but there is no safe area in all of the gaza strip it is all lies and manipulations palestinians inspect a house destroyed in an israeli strike in khan younis photograph ibraheem abu mustafareuters in khan younis many of those taking flight on monday were already displaced from other areas abu mohammed told reuters it was now the third time he had been forced to flee since abandoning his home in gaza city in the north why did they eject us from our homes if they planned to kill us here he said at a home in khan younis that was struck overnight flames licked the collapsed masonry and grey smoke billowed out from the rubble next door nesrine abdelmoty stood amid damaged furniture in the rented room where she lives with her divorced daughter and twoyearold baby we were sleeping at 5am when we felt things collapse everything went upside down she told reuters they told people to move from the north to khan younis since the south is safer and now theyve bombed khan younis even khan younis is not safe now and even if we move to rafah rafah is not safe as well where do they want us to go a member of palestine red crescent society carries a palestinian child as the wounded are rushed into nasser hospital following israeli strikes in khan younis photograph ibraheem abu mustafareuters updated at 0818 est 1h ago 0759 est here are some of the latest images sent to us over the news wires from gaza and israel palestinians wait to fill containers with water in khan younis in the southern gaza strip on 4 december 2023 photograph ibraheem abu mustafareuters a man sheltering at a unrun school in khan younis 4 december photograph ibraheem abu mustafareuters friends and family in tel aviv mourn israeli soldier col asaf hamami who was killed defending kibbutz nirim during the 7 october hamas attack according to the israeli army his body was taken to gaza by hamas but enough findings were gathered to allow for his burial photograph shir toremreuters an israeli soldier inside the gaza strip in a screen grab taken from a handout video released on 4 december by the israel defense forces photograph israel defense forcesreuters a child sits in a tent as palestinians shelter at a unrun school in khan younis photograph ibraheem abu mustafareuters 1h ago 0751 est the palestinian ambassador to the un in geneva ibrahim khraishi has said that an emergency world health organization who board meeting would focus mostly on gaza but also cover attacks on the health sector in the west bank we want to empower the who and call for the israeli side not to target the medical sector we want to allow for fresh medical supplies he told reuters saying that his diplomatic mission was drafting a motion to be reviewed by the 34member board who directorgeneral tedros adhanom ghebreyesus has convened the extraordinary session of its executive board for 10 december after receiving a request from 14 members of the board earlier health ministry spokesperson in gaza ashraf alqudra told al jazeera that the israeli occupation is deliberately bombing hospitals in gaza to put them out of service he accused israel of creating a circle of death for medical workers and said that only nine of gazas 35 hospitals are still operational the palestine red crescent society has announced the overnight death of one of its workers killed by an israeli strike 2h ago 0746 est head of icrc level of human suffering in gaza is intolerable the head of the international committee of the red cross has described the suffering in gaza as intolerable while visiting the territory mirjana spoljaric egger said the level of human suffering is intolerable it is unacceptable that civilians have no safe place to go in gaza and with a military siege in place there is also no adequate humanitarian response currently possible the last week provided a small degree of humanitarian respite a positive glimpse of humanity that raised hopes around the world that a path to reduced suffering could now be found as a neutral actor the icrc stands ready to support further humanitarian agreements that reduce suffering and heartbreak 2h ago 0736 est hamas has claimed that it has carried out a missile barrage aimed at the israeli city of ashkelon there are no reports of any casualties 2h ago 0700 est summary of the day so far it is 2pm in gaza city and in tel aviv here are the latest headlines israels military has issued a situational update in which it claims that ground troops are continuing to operate in the gaza strip in parallel to israeli air force strikes on approximately 200 hamas terror targets local reporters have described a very deadly and bloody night for the palestinians with many believed killed in videos posted on x unicef spokesman james elder reported another intense evening of attacks here in khan younis late sunday it was the worst bombardment of the war right now in southern gaza he said i feel like i am running out of ways to describe the horrors hitting children here he said i feel like im almost failing in my ability to convey the endless killing of children here dozens of israeli tanks have entered the southern part of the gaza strip near khan younis on monday witnesses have told afp armoured personnel carriers and bulldozers were also seen moaz mohammed 34 said israeli tanks were on the southern part of salah aldin road they are holding salah aldin road on both sides and are now cutting it between deir albalah and khan younis firing bullets and tank shells at cars and people trying to move through the area he said israels military has denied claims that it is attempting to permanently remove palestinians from the gaza strip spokesperson jonathan conricus said we are not trying to displace anyone we are not trying to move anybody from anywhere permanently israels military has issued a grid map of gaza and is insisting residents evacuate to areas it specifies rohan talbot advocacy director at the charity medical aid for palestinians has described the israeli move as akin to a macabre game of battleships in which terrified civilians will be left guessing which square will save their life in its latest estimate the uns ocha said about 18 million people in gaza roughly 75 of the population had been displaced many to overcrowded and unsanitary shelters the hamasrun health ministry in gaza has said that more than 15000 palestinians have been killed since 7 october with more than 6000 people missing israel s military has again said it has fired into lebanon at the site of launches it claimed were directed into israel it said a number of launches from lebanon had occurred and that they had fallen in open areas with no casualties as a result earlier on monday it said that three soldiers had been slightly injured by fire from lebanon at an israeli military site six hostages from thailand kidnapped and held for weeks in the gaza strip by hamas will arrive back in the kingdom on monday israel believes that hamas still holds 137 people hostage in gaza haaretz is reporting that a meeting between families of those being held hostage in gaza and israels war cabinet is being scheduled as a result of the families threat to escalate their protests earlier on monday at a press conference some of the families of those held in gaza threatened to stage a permanent sitin at israels army headquarters telling the government your indifference towards us is a disgrace at least 60 palestinians were arrested in the occupied west bank overnight al jazeera reported with israeli forces carrying out raids in the cities of qalqilya jericho jenin and tulkarem at least 30 armoured vehicles were deployed in jenin following a dawn raid the broadcaster reported turkeys president recep tayyip erdoğan has said that benjamin netanyahu will eventually be tried as a war criminal over israels ongoing offensive in the gaza strip a court hearing in the netherlands challenging the export of fighter jet parts to israel that could be used in attacks on gaza has begun hundreds of thousands of palestinians in the west bank have lost their jobs or had their salaries frozen after the israeli authorities cancelled their work permits and imposed severe restrictions on crossings after the 7 october attacks approximately 182000 gaza residents who work in israel and the settlements had their employment terminated initial estimates by the international labour organization ilo suggest updated at 0724 est 3h ago 0615 est israel must not only instruct gazans to move to safety but also make this possible a spokesperson for the german foreign ministry said on monday amid concerns that israels ground camapaign against hamas could expand into gazas refugeecrowded south which israel has been repeatedly bombarding from the air it is important that israel avoids civilian casualties and adheres to humanitarian law reuters reports the spokesperson telling the media in berlin adding that the german government was conveying this message in its talks with israeli partners the israel defense forces released a map on friday dividing gaza up into hundreds of numbered small districts it has begun to ask civilians to evacuate from specific areas before it says military operations start the map of gaza issued by israels military it has been sharply condemned by humanitarian organisations for the piecemeal evacuation plan which they say leaves palestinians with fewer and fewer places to flee to while gazas infrastructure is at breaking point updated at 0623 est 3h ago 0608 est dozens of israeli tanks enter southern part of gaza strip witnesses say dozens of israeli tanks have entered the southern part of the gaza strip near khan younis on monday witnesses have told afp armoured personnel carriers and bulldozers were also seen amin abu hawli 59 said the israeli vehicles were two kilometres 12 miles inside the palestinian territory in the village of alqarara near khan younis moaz mohammed 34 said israeli tanks were on the southern part of salah aldin road which runs from the north to the south of the strip they are holding salah aldin road on both sides and are now cutting it between deir albalah and khan younis firing bullets and tank shells at cars and people trying to move through the area he said there have been reports of airstrikes on khan younis this morning about 18 million people in gaza roughly 75 of the population have been displaced from their homes by israels military action in the gaza strip creating a humanitarian crisis the hamasrun health ministry says that more than 15000 palestinians have been killed in gaza since 7 october smoke rises above gaza as seen from southern israel photograph athit perawongmethareuters updated at 0657 est 3h ago 0558 est haaretz is reporting that a meeting between families of those being held hostage in gaza and israels war cabinet is being scheduled as a result of the families threat to escalate their protests earlier today at a press conference daniel lifshitz whose grandmother has been released but whose grandfather is still believed to be in gaza told the war cabinet we urge you to immediately return to the negotiating table without delay and at any cost your indifference towards us is a disgrace if you have no interest in representing us we will turn to an international entity that agrees to do so we will not beg you if this does not happen we will sit from 8pm this evening near the kirya army headquarters and will not move from there 3h ago 0552 est a court hearing in the netherlands challenging the export of fighter jet parts to israel that could be used in attacks on gaza has begun the state must immediately stop its delivery of f35 parts to israel lawyer liesbeth zegveld told the court she said dutch customs officials asked the government if it wanted to continue exports after the 7 october attacks by hamas that triggered the israelhamas war the warning that the fighter jets can contribute to serious breaches of the laws of war does not for the state outweigh its economic interests and diplomatic reputation associated press reports she said government lawyer reimer veldhuis urged the courts single judge to reject the injunction saying that even if it were to uphold the rights lawyers legal arguments and ban exports the us would deliver these parts to israel from another place a decision is expected within two weeks updated at 0619 est 4h ago 0522 est israels military has again said it has fired into lebanon at the site of launches it claimed were directed into israel it said a number of launches from lebanon had occurred and that they had fallen in open areas with no casualties as a result earlier it said that three soldiers had been slightly injured by fire from lebanon at an israeli military site 5h ago 0443 est recep tayyip erdoğan has said that benjamin netanyahu will eventually be tried as a war criminal over israels ongoing offensive in the gaza strip reuters reports that in a speech to a meeting of an organisation of islamic cooperation oic committee in istanbul the turkish president said that gaza is palestinian land and will always belong to the palestinians and again referred to israels prime minister as the butcher of gaza quds news networks quotes erdoğan saying the butcher of gaza netanyahu admitted in front of the cameras that his expansionist goals are not limited to ramallah and gaza only therefore defending gaza and palestine today means at the same time defending jerusalem mecca medina damascus istanbul and other islamic cities 5h ago 0425 est hoda abdelhamid reports from hebron for al jazeera saying that it was raided overnight by israeli forces adding that two palestinians were killed in qalqilya she writes for the network there are questions about the whereabouts of those palestinians bodies which authorities in qalqilya said they could not recover it is assumed that israel is withholding the bodies israeli authorities are holding the bodies of 25 palestinians killed in raids since 7 october during these raids israeli authorities have detained more than 3500 people bringing the total palestinians in israeli jails to more than 7000 bear in mind that majority of these people are held without charges \n",
      "\n"
     ]
    }
   ],
   "source": [
    "articles = load_articles(key_extr_articles)\n",
    "    \n",
    "    # Get embeddings\n",
    "question_embedding = get_embeddings([question])\n",
    "article_embeddings = get_embeddings(articles)\n",
    "    \n",
    "    # Apply MMR\n",
    "top_k = 3\n",
    "selected_articles = mmr(question_embedding, article_embeddings, articles, top_k=top_k)\n"
   ]
  },
  {
   "cell_type": "markdown",
   "metadata": {},
   "source": [
    "Below, defining BERT model to answer the question from choosen top 3 articles"
   ]
  },
  {
   "cell_type": "markdown",
   "metadata": {},
   "source": []
  },
  {
   "cell_type": "code",
   "execution_count": 8,
   "metadata": {},
   "outputs": [
    {
     "data": {
      "text/plain": [
       "'israel launching a ground offensive in the gaza strip is a certainty but what remains to be seen is how the israeli military goes about it according to a russian analyst there are different ways that any force could employ a ground military operation taking into consideration various aspects boris dolgov a researcher at the russian centre for arab and islamic studies at the institute of oriental studies in moscow told anadolu over the past two weeks israeli officials have repeatedly hinted at launching a ground offensive in gaza all while heavily bombarding the besieged palestinian territory the relentless israeli attacks have now killed more than 5000 palestinians among them over 2000 children and 1100 women the number of people injured in gaza is now over 15200 according to official figures read israel think tank linked to netanyahu promotes unique opportunity to ethnically cleanse gaza israel has targeted all areas of the gaza strip hitting densely populated residential areas hospitals and other civilian sites it has also cut off basic supplies such as water electricity and humanitarian aid to more than 22 million people in the gaza strip israel maintains that all of this is a response to the 7 october military operation by hamas and its subsequent rocket attacks on israeli areas which have now claimed more than 1400 lives one of the options is a ground operation with the use of powerful bombs which is something that the israeli leadership has spoken about said dolgov he said this would be aimed at destroying the underground structures of hamas before a ground offensive which will lead to significant casualties the alternative according to dolgov is to limit the operation to airstrikes and a local offensive in some areas where there are positions of hamas militants with this method the israeli forces will not completely destroy the gaza strip not level it to the ground he added other analysts and experts around the world have also been talking about two main scenarios for an israeli ground attack on gaza the first is called the fallujah model after the iraqi city of that name where us forces launched a largescale ground attack in 2014 while the second is the mosul model of 2017 when the international coalition against the daesh terror group focused more on an air assault engaging ground forces at minimum extent however experts have warned that both versions resulted in significant casualties red line for arab muslim parties dolgov believes that any form of israeli ground attack on gaza runs the risk of expanding the conflict many arab and muslim sides have stated that such a ground operation is a red line this was said by iran hezbollah shia iraqi militia units that are allies of hezbollah representatives of the ansar allah houthi movement in yemen he said arab countries have also warned that they consider a ground operation an unacceptable option he added dolgov urged israel to analyze the consequences of its actions warning that they could spark another global wave of antiisraeli protests we are seeing a wave of antiisraeli protests almost all over the world im not even talking about arab countries we see it in european countries in the us as well as in the countries of the islamic world he said how will israel like to live in a situation where the entire arab and muslim world is united against it and theres the economic political and the constant military threat to israel from arab neighbours what will this give israel even with the us support position of arab countries in the 1973 arabisraeli war when several arab countries fought against israel the persian gulf states helped them by halting oil supplies to western countries dolgov said now there is no oil embargo to israeli supporters because the situation is different there is no direct military confrontation between arab countries and israel he said hamas is a movement that has authority in the gaza strip but it is still not an arab state although it enjoys the support of some countries and regional forces he added at this stage arab countries along with other states are trying to resolve this military situation to stop hostilities through diplomatic means he said another important development in the current escalation is iran a shia country which has become one of the main supporters of hamas a sunni movement according to dolgov hamas is a sunni movement iran is a shia country but they are united by the goals since both iran and the hamas movement oppose as they say the us hegemony they oppose what they put as israels aggressive actions israels creeping occupation of palestinian lands he said he said the escalation in the gaza strip has also narrowed the divide between hamas and the palestinian authority the intrapalestinian split is related to ideological factors for example disputes about whether a palestinian state would be an islamic or secular one he said these differences exist and prevent the creation of a unified palestinian movement recently the two sides have managed to find closer positions and the current situation is also contributing to this said dolgov however the differences have not completely disappeared yet read iran will strike haifa if israel invades gaza strip the views expressed in this article belong to the author and do not necessarily reflect the editorial policy of middle east monitor'"
      ]
     },
     "execution_count": 8,
     "metadata": {},
     "output_type": "execute_result"
    }
   ],
   "source": [
    "#model\n",
    "\n",
    "from transformers import BertTokenizer, BertForQuestionAnswering\n",
    "import torch\n",
    "import json\n",
    "\n",
    "# Load the pre-trained BERT model and tokenizer\n",
    "model_name = 'bert-base-uncased'\n",
    "tokenizer = BertTokenizer.from_pretrained(model_name)\n",
    "model = BertForQuestionAnswering.from_pretrained(model_name)\n",
    "\n",
    "# Load the JSON file containing the articles\n",
    "\n",
    "# Define a function to get answers to questions\n",
    "def get_answer1(question, context, max_length=512):\n",
    "    answers = []\n",
    "    for i in range(0, len(context), max_length):\n",
    "        inputs = tokenizer(question, context[i:i+max_length], return_tensors='pt', truncation=True)\n",
    "        outputs = model(**inputs)\n",
    "        start_positions = torch.argmax(outputs.start_logits)\n",
    "        end_positions = torch.argmax(outputs.end_logits)\n",
    "        answer = tokenizer.convert_tokens_to_string(tokenizer.convert_ids_to_tokens(inputs['input_ids'][0][start_positions:end_positions+1]))\n",
    "        answers.append(answer)\n",
    "    return ' '.join(answers)"
   ]
  },
  {
   "cell_type": "markdown",
   "metadata": {},
   "source": [
    "Grammar may seems odd in the answer, thats why we have a grammar correction function defined below"
   ]
  },
  {
   "cell_type": "code",
   "execution_count": 9,
   "metadata": {},
   "outputs": [],
   "source": [
    "#grammar correct \n",
    "\n",
    "from transformers import T5Tokenizer, T5ForConditionalGeneration\n",
    "import torch\n",
    "\n",
    "# Load the pre-trained T5 model and tokenizer for grammar correction\n",
    "def load_t5_model():\n",
    "    model_name = 'vennify/t5-base-grammar-correction'\n",
    "    tokenizer = T5Tokenizer.from_pretrained(model_name)\n",
    "    model = T5ForConditionalGeneration.from_pretrained(model_name)\n",
    "    return model, tokenizer\n",
    "\n",
    "# Define a function for grammar correction using T5\n",
    "def correct_grammar(text, model, tokenizer):\n",
    "    input_text = f\"fix: {text}\"\n",
    "    input_ids = tokenizer.encode(input_text, return_tensors='pt')\n",
    "    outputs = model.generate(input_ids, max_length=512, num_beams=4, early_stopping=True)\n",
    "    corrected_text = tokenizer.decode(outputs[0], skip_special_tokens=True)\n",
    "    return corrected_text\n"
   ]
  },
  {
   "cell_type": "markdown",
   "metadata": {},
   "source": [
    "Finally, we are getting top three answers from the 37k articles, below. "
   ]
  },
  {
   "cell_type": "code",
   "execution_count": 10,
   "metadata": {},
   "outputs": [
    {
     "name": "stderr",
     "output_type": "stream",
     "text": [
      "e:\\Assignment\\myenv\\Lib\\site-packages\\huggingface_hub\\file_download.py:157: UserWarning: `huggingface_hub` cache-system uses symlinks by default to efficiently store duplicated files but your machine does not support them in C:\\Users\\91786\\.cache\\huggingface\\hub\\models--vennify--t5-base-grammar-correction. Caching files will still work but in a degraded version that might require more space on your disk. This warning can be disabled by setting the `HF_HUB_DISABLE_SYMLINKS_WARNING` environment variable. For more details, see https://huggingface.co/docs/huggingface_hub/how-to-cache#limitations.\n",
      "To support symlinks on Windows, you either need to activate Developer Mode or to run Python as an administrator. In order to see activate developer mode, see this article: https://docs.microsoft.com/en-us/windows/apps/get-started/enable-your-device-for-development\n",
      "  warnings.warn(message)\n",
      "You are using the default legacy behaviour of the <class 'transformers.models.t5.tokenization_t5.T5Tokenizer'>. This is expected, and simply means that the `legacy` (previous) behavior will be used so nothing changes for you. If you want to use the new behaviour, set `legacy=False`. This should only be set if you understand what it means, and thoroughly read the reason why this was added as explained in https://github.com/huggingface/transformers/pull/24565\n",
      "Special tokens have been added in the vocabulary, make sure the associated word embeddings are fine-tuned or trained.\n"
     ]
    }
   ],
   "source": [
    "mod, tok = load_t5_model()\n",
    "c = 1\n",
    "for blog in selected_articles:\n",
    "    print('Answer ', c)\n",
    "    ans = get_answer1(question=question,context=blog)\n",
    "    print(correct_grammar(ans, mod, tok))\n",
    "    c = c+1"
   ]
  }
 ],
 "metadata": {
  "kernelspec": {
   "display_name": "myenv",
   "language": "python",
   "name": "python3"
  },
  "language_info": {
   "codemirror_mode": {
    "name": "ipython",
    "version": 3
   },
   "file_extension": ".py",
   "mimetype": "text/x-python",
   "name": "python",
   "nbconvert_exporter": "python",
   "pygments_lexer": "ipython3",
   "version": "3.12.2"
  }
 },
 "nbformat": 4,
 "nbformat_minor": 2
}
