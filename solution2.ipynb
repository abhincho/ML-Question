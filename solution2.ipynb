{
 "cells": [
  {
   "cell_type": "code",
   "execution_count": 1,
   "id": "8b3594cd",
   "metadata": {},
   "outputs": [],
   "source": [
    "import json\n",
    "import re\n",
    "from rank_bm25 import BM25Okapi\n",
    "from transformers import pipeline\n",
    "import torch"
   ]
  },
  {
   "cell_type": "code",
   "execution_count": 2,
   "id": "a6a6759b",
   "metadata": {},
   "outputs": [
    {
     "name": "stdout",
     "output_type": "stream",
     "text": [
      "Number of articles related to Israel-Hamas conflict: 36347\n"
     ]
    }
   ],
   "source": [
    "with open('news.article.json', 'r', encoding='utf-8') as file:\n",
    "    data = json.load(file)\n",
    "\n",
    "def clean_text(text):\n",
    "    text = re.sub(r'\\s+', ' ', text)\n",
    "    text = re.sub(r'[^\\w\\s]', '', text)\n",
    "    return text\n",
    "\n",
    "for article in data:\n",
    "    if 'articleBody' in article:\n",
    "        article['content'] = clean_text(article['articleBody']).lower()\n",
    "\n",
    "keywords = [\n",
    "    'israel', 'hamas', 'gaza', 'palestine', 'terrorist', 'attack', 'air strikes', \n",
    "    'war', 'conflict', 'casualties', 'ceasefire', 'netanyahu', 'idf', 'rockets', \n",
    "    'iron dome', 'hezbollah', 'west bank', 'blockade', 'humanitarian', 'tragedy', \n",
    "    'disproportionate', 'occupation', 'militants', 'bombing']\n",
    "\n",
    "israel_hamas_articles = [article for article in data if any(keyword in article.get('content', '') for keyword in keywords)]\n",
    "print(f\"Number of articles related to Israel-Hamas conflict: {len(israel_hamas_articles)}\")"
   ]
  },
  {
   "cell_type": "code",
   "execution_count": 3,
   "id": "c87fe6f4",
   "metadata": {},
   "outputs": [],
   "source": [
    "tokenized_corpus = [doc['content'].split() for doc in israel_hamas_articles]\n",
    "bm25 = BM25Okapi(tokenized_corpus)"
   ]
  },
  {
   "cell_type": "code",
   "execution_count": 4,
   "id": "27301db7",
   "metadata": {
    "scrolled": true
   },
   "outputs": [
    {
     "data": {
      "application/vnd.jupyter.widget-view+json": {
       "model_id": "36db73de6051480a984abad056ac9b2f",
       "version_major": 2,
       "version_minor": 0
      },
      "text/plain": [
       "Downloading config.json:   0%|          | 0.00/570 [00:00<?, ?B/s]"
      ]
     },
     "metadata": {},
     "output_type": "display_data"
    },
    {
     "name": "stderr",
     "output_type": "stream",
     "text": [
      "C:\\Users\\jb pavi\\AppData\\Local\\Programs\\Python\\Python310\\lib\\site-packages\\huggingface_hub\\file_download.py:133: UserWarning: `huggingface_hub` cache-system uses symlinks by default to efficiently store duplicated files but your machine does not support them in C:\\Users\\jb pavi\\.cache\\huggingface\\hub. Caching files will still work but in a degraded version that might require more space on your disk. This warning can be disabled by setting the `HF_HUB_DISABLE_SYMLINKS_WARNING` environment variable. For more details, see https://huggingface.co/docs/huggingface_hub/how-to-cache#limitations.\n",
      "To support symlinks on Windows, you either need to activate Developer Mode or to run Python as an administrator. In order to see activate developer mode, see this article: https://docs.microsoft.com/en-us/windows/apps/get-started/enable-your-device-for-development\n",
      "  warnings.warn(message)\n"
     ]
    },
    {
     "data": {
      "application/vnd.jupyter.widget-view+json": {
       "model_id": "aaa5d589431e4604865a49885d6552fc",
       "version_major": 2,
       "version_minor": 0
      },
      "text/plain": [
       "Downloading model.safetensors:   0%|          | 0.00/440M [00:00<?, ?B/s]"
      ]
     },
     "metadata": {},
     "output_type": "display_data"
    },
    {
     "name": "stderr",
     "output_type": "stream",
     "text": [
      "Some weights of the model checkpoint at bert-base-uncased were not used when initializing BertForQuestionAnswering: ['cls.seq_relationship.weight', 'cls.predictions.transform.LayerNorm.bias', 'cls.predictions.transform.LayerNorm.weight', 'cls.predictions.transform.dense.weight', 'cls.predictions.bias', 'cls.seq_relationship.bias', 'cls.predictions.transform.dense.bias']\n",
      "- This IS expected if you are initializing BertForQuestionAnswering from the checkpoint of a model trained on another task or with another architecture (e.g. initializing a BertForSequenceClassification model from a BertForPreTraining model).\n",
      "- This IS NOT expected if you are initializing BertForQuestionAnswering from the checkpoint of a model that you expect to be exactly identical (initializing a BertForSequenceClassification model from a BertForSequenceClassification model).\n",
      "Some weights of BertForQuestionAnswering were not initialized from the model checkpoint at bert-base-uncased and are newly initialized: ['qa_outputs.bias', 'qa_outputs.weight']\n",
      "You should probably TRAIN this model on a down-stream task to be able to use it for predictions and inference.\n"
     ]
    },
    {
     "data": {
      "application/vnd.jupyter.widget-view+json": {
       "model_id": "26bc6cc60171441f97fd06634d5892ea",
       "version_major": 2,
       "version_minor": 0
      },
      "text/plain": [
       "Downloading vocab.txt:   0%|          | 0.00/232k [00:00<?, ?B/s]"
      ]
     },
     "metadata": {},
     "output_type": "display_data"
    },
    {
     "data": {
      "application/vnd.jupyter.widget-view+json": {
       "model_id": "15225c3ff3694512a9366ccffc8ffcae",
       "version_major": 2,
       "version_minor": 0
      },
      "text/plain": [
       "Downloading tokenizer_config.json:   0%|          | 0.00/48.0 [00:00<?, ?B/s]"
      ]
     },
     "metadata": {},
     "output_type": "display_data"
    }
   ],
   "source": [
    "from transformers import BertForQuestionAnswering, BertTokenizer\n",
    "model_name = \"bert-base-uncased\"\n",
    "model = BertForQuestionAnswering.from_pretrained(model_name)\n",
    "tokenizer = BertTokenizer.from_pretrained(model_name)"
   ]
  },
  {
   "cell_type": "code",
   "execution_count": 5,
   "id": "174d366d",
   "metadata": {},
   "outputs": [],
   "source": [
    "def answer_question(question, documents, tokenizer, model):\n",
    "    max_len = tokenizer.model_max_length  # usually 512 for DistilBERT\n",
    "    best_answer = \"\"\n",
    "    best_score = float('-inf')\n",
    "    \n",
    "    for doc in documents:\n",
    "        context = doc['content']\n",
    "        # Split the context into smaller chunks\n",
    "        inputs = tokenizer(question, context, return_tensors=\"pt\", truncation=\"only_second\", max_length=max_len, stride=50, return_overflowing_tokens=True)\n",
    "        \n",
    "        for i in range(inputs.input_ids.shape[0]):\n",
    "            input_ids = inputs.input_ids[i]\n",
    "            attention_mask = inputs.attention_mask[i]\n",
    "            \n",
    "            # Run the model on each chunk\n",
    "            outputs = model(input_ids=input_ids.unsqueeze(0), attention_mask=attention_mask.unsqueeze(0))\n",
    "            start_logits = outputs.start_logits\n",
    "            end_logits = outputs.end_logits\n",
    "\n",
    "            answer_start = torch.argmax(start_logits)\n",
    "            answer_end = torch.argmax(end_logits) + 1\n",
    "            score = start_logits[0, answer_start].item() + end_logits[0, answer_end-1].item()\n",
    "            answer = tokenizer.convert_tokens_to_string(tokenizer.convert_ids_to_tokens(input_ids[answer_start:answer_end]))\n",
    "            \n",
    "            if score > best_score:\n",
    "                best_score = score\n",
    "                best_answer = answer\n",
    "                \n",
    "    return best_answer"
   ]
  },
  {
   "cell_type": "code",
   "execution_count": 6,
   "id": "f957efab",
   "metadata": {},
   "outputs": [],
   "source": [
    "def retrieve_documents(query, bm25, documents, k=5):\n",
    "    tokenized_query = query.lower().split()\n",
    "    doc_scores = bm25.get_scores(tokenized_query)\n",
    "    top_k_indices = doc_scores.argsort()[-k:][::-1]\n",
    "    return [documents[i] for i in top_k_indices]"
   ]
  },
  {
   "cell_type": "markdown",
   "id": "87993a5f",
   "metadata": {},
   "source": [
    "## Test Case 1"
   ]
  },
  {
   "cell_type": "code",
   "execution_count": 7,
   "id": "12f87952",
   "metadata": {},
   "outputs": [
    {
     "name": "stdout",
     "output_type": "stream",
     "text": [
      "Please enter your question: What happened at the Al-Shifa Hospital?\n",
      "Answer: confirm if it was wrapped around the person when they ignited themselves the protester is in critical condition at a nearby hospital and the atlanta\n"
     ]
    }
   ],
   "source": [
    "# Retrieve documents using BM25\n",
    "user_query = input(\"Please enter your question: \")\n",
    "relevant_docs = retrieve_documents(user_query, bm25, israel_hamas_articles)\n",
    "\n",
    "# Answer the question using the retrieved documents\n",
    "answer = answer_question(user_query, relevant_docs, tokenizer, model)\n",
    "print(f\"Answer: {answer}\")"
   ]
  },
  {
   "cell_type": "markdown",
   "id": "b9da81f2",
   "metadata": {},
   "source": [
    "## Test Case 2"
   ]
  },
  {
   "cell_type": "code",
   "execution_count": 8,
   "id": "e431a968",
   "metadata": {
    "scrolled": true
   },
   "outputs": [
    {
     "name": "stdout",
     "output_type": "stream",
     "text": [
      "Please enter your question: How many people have been killed and wounded in the recent conflict according to Gaza's health ministry?\n",
      "Answer: 15000 israel hamas war the ceasefire has ended and israel has now launched airstrikes on gaza killing several people the death toll in palestine has risen above fifteen thousand by ananya srivastava advertisement israel hamas war representative image new delhi israel and palestine are two nations that have been against each other in terms of diplomatic relations and the israel palestine conflict has been going on for years now on october 6 2023 the palestinian islamist organisation hamas fired 5000 rockets from the gaza strip on israel and since then the conflict turned into a fullfledged war the israel hamas war has now being going on for almost two months killing thousands of people on both sides and so many have been kidnapped held hostages a truce between the two nations was declared recently and this temporary ceasefire lasted for close to a week the truce has ended and firings and attacks have been resumed the hamasrun health ministry said that israel has launched new airstrikes on various areas in the wartorn gaza strip resulting in dozens killed and wounded israeli airstrikes on gaza rescue workers and medics said that israeli airstrikes on sunday targeted a populated residential building belonging to the abu aita family in the jabalia camp in the northern strip thirtyseven people were killed and were transferred to the hospital over the past few hours xinhua news agency reported meanwhile at least three people were killed and 20 others wounded in an israeli\n"
     ]
    }
   ],
   "source": [
    "# Retrieve documents using BM25\n",
    "user_query = input(\"Please enter your question: \")\n",
    "relevant_docs = retrieve_documents(user_query, bm25, israel_hamas_articles)\n",
    "\n",
    "# Answer the question using the retrieved documents\n",
    "answer = answer_question(user_query, relevant_docs, tokenizer, model)\n",
    "print(f\"Answer: {answer}\")"
   ]
  },
  {
   "cell_type": "markdown",
   "id": "0b3360aa",
   "metadata": {},
   "source": [
    "## Test Case 3"
   ]
  },
  {
   "cell_type": "code",
   "execution_count": 9,
   "id": "949b67ba",
   "metadata": {},
   "outputs": [
    {
     "name": "stdout",
     "output_type": "stream",
     "text": [
      "Please enter your question: What did President Biden suggest might have motivated Hamas to conduct attacks on Israel?\n",
      "Answer: motivated hamas to conduct those attacks white house national security council nsc spokesman john kirby was responding to a question on president biden hinting that one of the reasons behind hamas october 7 attack on israel was the recent announcement of the indiamiddle easteurope economic corridor that integrates the entire region with a network of rail road and ports kirby\n"
     ]
    }
   ],
   "source": [
    "# Retrieve documents using BM25\n",
    "user_query = input(\"Please enter your question: \")\n",
    "relevant_docs = retrieve_documents(user_query, bm25, israel_hamas_articles)\n",
    "\n",
    "# Answer the question using the retrieved documents\n",
    "answer = answer_question(user_query, relevant_docs, tokenizer, model)\n",
    "print(f\"Answer: {answer}\")"
   ]
  },
  {
   "cell_type": "markdown",
   "id": "0a470aa0",
   "metadata": {},
   "source": [
    "## Test Case 4"
   ]
  },
  {
   "cell_type": "code",
   "execution_count": 10,
   "id": "9209fe7d",
   "metadata": {},
   "outputs": [
    {
     "name": "stdout",
     "output_type": "stream",
     "text": [
      "Please enter your question: Who was Adam Samer al-Ghoul, and what happened to him in Jenin?\n",
      "Answer: believe he was a doctor so they kept him away from his son but suleiman knew instantly from the first sight of basil i knew that he was a martyr praise be to god basil and adam young boys playing in jenin were shot dead by israeli soldiers during the jenin raid in which two adults were also killed a video that captures the boys being shot has since gone viral the israeli army arrested 15 others from the refugee camp which has been a central focus of battles between them and palestinian resistance fighters the boys were among more than 260 palestinians in the occupied west bank who have been killed by israeli forces or settlers since the hamas attack on southern israel on october 7 israeli\n"
     ]
    }
   ],
   "source": [
    "# Retrieve documents using BM25\n",
    "user_query = input(\"Please enter your question: \")\n",
    "relevant_docs = retrieve_documents(user_query, bm25, israel_hamas_articles)\n",
    "\n",
    "# Answer the question using the retrieved documents\n",
    "answer = answer_question(user_query, relevant_docs, tokenizer, model)\n",
    "print(f\"Answer: {answer}\")"
   ]
  },
  {
   "cell_type": "markdown",
   "id": "75a991b6",
   "metadata": {},
   "source": [
    "## Test Case 4"
   ]
  },
  {
   "cell_type": "code",
   "execution_count": 11,
   "id": "c14ff1b0",
   "metadata": {},
   "outputs": [
    {
     "name": "stdout",
     "output_type": "stream",
     "text": [
      "Please enter your question: How many trucks were in the aid convoy to northern Gaza?\n",
      "Answer: 150 according to the gaza strips health ministry which is managed by hamas the investigation discovered that while civilians were waiting for the relief vehicles armed palestinians opened fire one hour before the convoy reached an idfestablished corridor image courtesy afp the israeli army denied accusations by the health ministry of the hamasruled enclave that israeli soldiers were to blame saying on friday that armed palestinians opened fire on people in northern gaza who were waiting for humanitarian relief armed palestinians opened fire while gazan civilians were awaiting the arrival of the aid convoy in gaza city on thursday and then continued to shoot as the crowd of gazans began looting the\n"
     ]
    }
   ],
   "source": [
    "# Retrieve documents using BM25\n",
    "user_query = input(\"Please enter your question: \")\n",
    "relevant_docs = retrieve_documents(user_query, bm25, israel_hamas_articles)\n",
    "\n",
    "# Answer the question using the retrieved documents\n",
    "answer = answer_question(user_query, relevant_docs, tokenizer, model)\n",
    "print(f\"Answer: {answer}\")"
   ]
  },
  {
   "cell_type": "markdown",
   "id": "d126f3c4",
   "metadata": {},
   "source": [
    "## Questions"
   ]
  },
  {
   "cell_type": "markdown",
   "id": "81155104",
   "metadata": {},
   "source": [
    "1. What happened at the Al-Shifa Hospital?\n",
    "2. How many people have been killed and wounded in the recent conflict according to Gaza's health ministry?\n",
    "3. What did President Biden suggest might have motivated Hamas to conduct attacks on Israel?\n",
    "4. Who was Adam Samer al-Ghoul, and what happened to him in Jenin?\n",
    "5. How many trucks were in the aid convoy to northern Gaza?"
   ]
  }
 ],
 "metadata": {
  "kernelspec": {
   "display_name": "Python 3 (ipykernel)",
   "language": "python",
   "name": "python3"
  },
  "language_info": {
   "codemirror_mode": {
    "name": "ipython",
    "version": 3
   },
   "file_extension": ".py",
   "mimetype": "text/x-python",
   "name": "python",
   "nbconvert_exporter": "python",
   "pygments_lexer": "ipython3",
   "version": "3.10.4"
  }
 },
 "nbformat": 4,
 "nbformat_minor": 5
}
