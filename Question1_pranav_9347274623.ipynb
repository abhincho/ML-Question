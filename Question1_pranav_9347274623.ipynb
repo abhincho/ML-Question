{
 "cells": [
  {
   "cell_type": "code",
   "execution_count": 1,
   "metadata": {},
   "outputs": [
    {
     "name": "stderr",
     "output_type": "stream",
     "text": [
      "C:\\Users\\Pranav\\AppData\\Roaming\\Python\\Python312\\site-packages\\tqdm\\auto.py:21: TqdmWarning: IProgress not found. Please update jupyter and ipywidgets. See https://ipywidgets.readthedocs.io/en/stable/user_install.html\n",
      "  from .autonotebook import tqdm as notebook_tqdm\n"
     ]
    }
   ],
   "source": [
    "import json\n",
    "import torch\n",
    "from transformers import AutoTokenizer, AutoModel\n",
    "from langchain.docstore.document import Document\n",
    "from langchain_community.llms import Ollama\n",
    "from langchain.chains import RetrievalQA\n",
    "from langchain.indexes.vectorstore import VectorstoreIndexCreator\n",
    "from langchain_community.embeddings import HuggingFaceBgeEmbeddings\n",
    "from langchain_community.vectorstores import FAISS  # Using FAISS for vector storage\n",
    "from langchain_groq import ChatGroq"
   ]
  },
  {
   "cell_type": "code",
   "execution_count": 2,
   "metadata": {},
   "outputs": [
    {
     "name": "stderr",
     "output_type": "stream",
     "text": [
      "C:\\Users\\Pranav\\AppData\\Roaming\\Python\\Python312\\site-packages\\huggingface_hub\\file_download.py:1132: FutureWarning: `resume_download` is deprecated and will be removed in version 1.0.0. Downloads always resume when possible. If you want to force a new download, use `force_download=True`.\n",
      "  warnings.warn(\n"
     ]
    }
   ],
   "source": [
    "# Load the JSON file\n",
    "with open('news_article.json', 'r', encoding='utf-8') as f:\n",
    "    data = json.load(f)\n",
    "\n",
    "# Helper function to chunk text\n",
    "def chunk_text(text, max_length=512):\n",
    "    words = text.split()\n",
    "    for i in range(0, len(words), max_length):\n",
    "        yield ' '.join(words[i:i + max_length])\n",
    "\n",
    "# Manually extract relevant parts from the JSON data\n",
    "documents = []\n",
    "for article in data:\n",
    "    title = article.get('title', 'No Title')\n",
    "    content = article.get('articleBody', 'No Content')\n",
    "    document = Document(page_content=content, metadata={'title': title})\n",
    "    documents.append(document)\n",
    "\n",
    "huggingface_embeddings=HuggingFaceBgeEmbeddings(\n",
    "    model_name=\"BAAI/bge-small-en-v1.5\",      #sentence-transformers/all-MiniLM-l6-v2\n",
    "    model_kwargs={'device':'cpu'},\n",
    "    encode_kwargs={'normalize_embeddings':True}\n",
    ")"
   ]
  },
  {
   "cell_type": "code",
   "execution_count": 3,
   "metadata": {},
   "outputs": [],
   "source": [
    "# Create a vector store (using FAISS for persistence)\n",
    "vector_store = FAISS.from_documents(documents, huggingface_embeddings)"
   ]
  },
  {
   "cell_type": "code",
   "execution_count": 4,
   "metadata": {},
   "outputs": [],
   "source": [
    "# Initialize the language model\n",
    "# llm = Ollama(model='llama3')\n",
    "llm=ChatGroq(groq_api_key='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',\n",
    "             model_name=\"Llama3-8b-8192\")"
   ]
  },
  {
   "cell_type": "code",
   "execution_count": 5,
   "metadata": {},
   "outputs": [],
   "source": [
    "# Create the question-answering chain\n",
    "qa = RetrievalQA.from_chain_type(llm=llm, chain_type=\"stuff\", retriever=vector_store.as_retriever())"
   ]
  },
  {
   "cell_type": "code",
   "execution_count": 6,
   "metadata": {},
   "outputs": [
    {
     "name": "stderr",
     "output_type": "stream",
     "text": [
      "C:\\Users\\Pranav\\AppData\\Roaming\\Python\\Python312\\site-packages\\langchain_core\\_api\\deprecation.py:119: LangChainDeprecationWarning: The method `Chain.run` was deprecated in langchain 0.1.0 and will be removed in 0.3.0. Use invoke instead.\n",
      "  warn_deprecated(\n"
     ]
    },
    {
     "name": "stdout",
     "output_type": "stream",
     "text": [
      "According to the provided context, the Al-Shifa Hospital in Gaza City was raided by Israeli forces on March 18, 2024. The raid was part of a larger military operation aimed at dismantling Hamas' command structure in northern Gaza.\n",
      "\n",
      "According to reports, the Israeli military said they were conducting \"precise operational activities against terrorists\" located at Al-Shifa. The hospital was heavily damaged, and thousands of people were sheltering inside the complex at the time of the raid.\n",
      "\n",
      "Eyewitnesses reported heavy firing in the vicinity, and some residents claimed that their homes were shelled, with children buried under the rubble. The hospital's medical staff and patients were trapped inside, with limited access to food, water, and medical supplies.\n",
      "\n",
      "Some patients and medical personnel were detained by Israeli troops, and some reported being beaten and mistreated. A Palestinian paramedic who was detained for three days alleged that he was stripped naked, beaten, and left outside in the cold.\n",
      "\n",
      "The hospital's emergency department was described by the World Health Organisation (WHO) as a \"bloodbath\", with hundreds of wounded patients being treated on the floor with little or no pain relief. The WHO also reported severe shortages of food and water among the tens of thousands of people sheltering in the hospital.\n",
      "\n",
      "The Israeli military claimed that they had eliminated hundreds of Hamas and Islamic Jihad militants in and around the hospital, but the exact numbers were disputed. The raid and subsequent siege have led to widespread humanitarian concerns, with the WHO and other humanitarian groups warning of a potential famine in northern Gaza.\n"
     ]
    }
   ],
   "source": [
    "# Ask a question\n",
    "query = \"What happened at the Al-Shifa Hospital?\"\n",
    "result = qa.run(query)\n",
    "print(result)"
   ]
  },
  {
   "cell_type": "code",
   "execution_count": 8,
   "metadata": {},
   "outputs": [
    {
     "name": "stdout",
     "output_type": "stream",
     "text": [
      "Based on the provided text, here are some key points about Yemen air strikes in 2024:\n",
      "\n",
      "1. **US-British aggression**: The US and UK launched airstrikes in Yemen, targeting the provinces of Hodeidah and Saada.\n",
      "2. **Multiple airstrikes**: The airstrikes were carried out in multiple locations, including the coastal province of Hodeidah and the Saada Province.\n",
      "3. **Red Sea strikes**: The US-British aggression aircraft targeted the al-Irj area in the Bajil District and the Ras Issa area in the al-Salif District, both northwest of Hodeidah, with 13 airstrikes.\n",
      "4. **Saada Province strikes**: The airstrikes also hit the Takhya area in the Majz District in the Saada Province, north of the country, with 5 airstrikes.\n",
      "5. **Yemeni Armed Forces response**: The Yemeni Armed Forces responded to the US-British aggression with naval missiles, targeting the American ship \"Pinocchio\" in the Red Sea, according to Brigadier General Yahya Saree, the spokesperson for the Yemeni Armed Forces.\n",
      "6. **Escalation**: Brigadier General Saree announced that the military operations of the Yemeni Armed Forces will escalate during the holy month of Ramadan in support of the oppressed Palestinian people and Resistance fighters in the besieged Gaza Strip.\n",
      "\n",
      "Please note that this is based on the provided text and may not be a comprehensive or up-to-date account of the situation.\n"
     ]
    }
   ],
   "source": [
    "# Ask a question\n",
    "query = \"Tell me something about Yemen air strikes in 2024\"\n",
    "result = qa.run(query)\n",
    "print(result)"
   ]
  }
 ],
 "metadata": {
  "kernelspec": {
   "display_name": "Python 3",
   "language": "python",
   "name": "python3"
  },
  "language_info": {
   "codemirror_mode": {
    "name": "ipython",
    "version": 3
   },
   "file_extension": ".py",
   "mimetype": "text/x-python",
   "name": "python",
   "nbconvert_exporter": "python",
   "pygments_lexer": "ipython3",
   "version": "3.12.3"
  }
 },
 "nbformat": 4,
 "nbformat_minor": 2
}
