{
 "cells": [
  {
   "cell_type": "code",
   "execution_count": 2,
   "id": "dfd99925-d324-40b6-8b79-48c51abe284a",
   "metadata": {},
   "outputs": [
    {
     "name": "stdout",
     "output_type": "stream",
     "text": [
      "Collecting transformers\n",
      "  Downloading transformers-4.41.2-py3-none-any.whl.metadata (43 kB)\n",
      "\u001b[2K     \u001b[90m━━━━━━━━━━━━━━━━━━━━━━━━━━━━━━━━━━━━━━━\u001b[0m \u001b[32m43.8/43.8 kB\u001b[0m \u001b[31m752.5 kB/s\u001b[0m eta \u001b[36m0:00:00\u001b[0ma \u001b[36m0:00:01\u001b[0m\n",
      "\u001b[?25hRequirement already satisfied: filelock in /Library/Frameworks/Python.framework/Versions/3.11/lib/python3.11/site-packages (from transformers) (3.12.2)\n",
      "Collecting huggingface-hub<1.0,>=0.23.0 (from transformers)\n",
      "  Downloading huggingface_hub-0.23.3-py3-none-any.whl.metadata (12 kB)\n",
      "Requirement already satisfied: numpy>=1.17 in /Library/Frameworks/Python.framework/Versions/3.11/lib/python3.11/site-packages (from transformers) (1.24.3)\n",
      "Requirement already satisfied: packaging>=20.0 in /Library/Frameworks/Python.framework/Versions/3.11/lib/python3.11/site-packages (from transformers) (23.1)\n",
      "Requirement already satisfied: pyyaml>=5.1 in /Library/Frameworks/Python.framework/Versions/3.11/lib/python3.11/site-packages (from transformers) (6.0.1)\n",
      "Collecting regex!=2019.12.17 (from transformers)\n",
      "  Downloading regex-2024.5.15-cp311-cp311-macosx_11_0_arm64.whl.metadata (40 kB)\n",
      "\u001b[2K     \u001b[90m━━━━━━━━━━━━━━━━━━━━━━━━━━━━━━━━━━━━━━━━\u001b[0m \u001b[32m40.9/40.9 kB\u001b[0m \u001b[31m2.5 MB/s\u001b[0m eta \u001b[36m0:00:00\u001b[0m\n",
      "\u001b[?25hRequirement already satisfied: requests in /Library/Frameworks/Python.framework/Versions/3.11/lib/python3.11/site-packages (from transformers) (2.31.0)\n",
      "Collecting tokenizers<0.20,>=0.19 (from transformers)\n",
      "  Downloading tokenizers-0.19.1-cp311-cp311-macosx_11_0_arm64.whl.metadata (6.7 kB)\n",
      "Collecting safetensors>=0.4.1 (from transformers)\n",
      "  Downloading safetensors-0.4.3-cp311-cp311-macosx_11_0_arm64.whl.metadata (3.8 kB)\n",
      "Requirement already satisfied: tqdm>=4.27 in /Library/Frameworks/Python.framework/Versions/3.11/lib/python3.11/site-packages (from transformers) (4.65.0)\n",
      "Requirement already satisfied: fsspec>=2023.5.0 in /Library/Frameworks/Python.framework/Versions/3.11/lib/python3.11/site-packages (from huggingface-hub<1.0,>=0.23.0->transformers) (2023.12.2)\n",
      "Requirement already satisfied: typing-extensions>=3.7.4.3 in /Library/Frameworks/Python.framework/Versions/3.11/lib/python3.11/site-packages (from huggingface-hub<1.0,>=0.23.0->transformers) (4.11.0)\n",
      "Requirement already satisfied: charset-normalizer<4,>=2 in /Library/Frameworks/Python.framework/Versions/3.11/lib/python3.11/site-packages (from requests->transformers) (3.2.0)\n",
      "Requirement already satisfied: idna<4,>=2.5 in /Library/Frameworks/Python.framework/Versions/3.11/lib/python3.11/site-packages (from requests->transformers) (3.4)\n",
      "Requirement already satisfied: urllib3<3,>=1.21.1 in /Library/Frameworks/Python.framework/Versions/3.11/lib/python3.11/site-packages (from requests->transformers) (1.26.16)\n",
      "Requirement already satisfied: certifi>=2017.4.17 in /Library/Frameworks/Python.framework/Versions/3.11/lib/python3.11/site-packages (from requests->transformers) (2023.5.7)\n",
      "Downloading transformers-4.41.2-py3-none-any.whl (9.1 MB)\n",
      "\u001b[2K   \u001b[90m━━━━━━━━━━━━━━━━━━━━━━━━━━━━━━━━━━━━━━━━\u001b[0m \u001b[32m9.1/9.1 MB\u001b[0m \u001b[31m11.6 MB/s\u001b[0m eta \u001b[36m0:00:00\u001b[0m00:01\u001b[0m00:01\u001b[0m\n",
      "\u001b[?25hDownloading huggingface_hub-0.23.3-py3-none-any.whl (401 kB)\n",
      "\u001b[2K   \u001b[90m━━━━━━━━━━━━━━━━━━━━━━━━━━━━━━━━━━━━━━━━\u001b[0m \u001b[32m401.7/401.7 kB\u001b[0m \u001b[31m15.8 MB/s\u001b[0m eta \u001b[36m0:00:00\u001b[0m\n",
      "\u001b[?25hDownloading regex-2024.5.15-cp311-cp311-macosx_11_0_arm64.whl (278 kB)\n",
      "\u001b[2K   \u001b[90m━━━━━━━━━━━━━━━━━━━━━━━━━━━━━━━━━━━━━━━━\u001b[0m \u001b[32m278.3/278.3 kB\u001b[0m \u001b[31m20.0 MB/s\u001b[0m eta \u001b[36m0:00:00\u001b[0m\n",
      "\u001b[?25hDownloading safetensors-0.4.3-cp311-cp311-macosx_11_0_arm64.whl (410 kB)\n",
      "\u001b[2K   \u001b[90m━━━━━━━━━━━━━━━━━━━━━━━━━━━━━━━━━━━━━━━━\u001b[0m \u001b[32m410.3/410.3 kB\u001b[0m \u001b[31m23.9 MB/s\u001b[0m eta \u001b[36m0:00:00\u001b[0m\n",
      "\u001b[?25hDownloading tokenizers-0.19.1-cp311-cp311-macosx_11_0_arm64.whl (2.4 MB)\n",
      "\u001b[2K   \u001b[90m━━━━━━━━━━━━━━━━━━━━━━━━━━━━━━━━━━━━━━━━\u001b[0m \u001b[32m2.4/2.4 MB\u001b[0m \u001b[31m13.8 MB/s\u001b[0m eta \u001b[36m0:00:00\u001b[0m00:01\u001b[0m00:01\u001b[0m\n",
      "\u001b[?25hInstalling collected packages: safetensors, regex, huggingface-hub, tokenizers, transformers\n",
      "  Attempting uninstall: huggingface-hub\n",
      "    Found existing installation: huggingface-hub 0.20.3\n",
      "    Uninstalling huggingface-hub-0.20.3:\n",
      "      Successfully uninstalled huggingface-hub-0.20.3\n",
      "Successfully installed huggingface-hub-0.23.3 regex-2024.5.15 safetensors-0.4.3 tokenizers-0.19.1 transformers-4.41.2\n"
     ]
    }
   ],
   "source": [
    "!pip install transformers"
   ]
  },
  {
   "cell_type": "code",
   "execution_count": 6,
   "id": "84dd045e-5857-4d66-907e-8123d6ef0fa4",
   "metadata": {},
   "outputs": [],
   "source": [
    "import json\n",
    "import re\n",
    "from transformers import AutoTokenizer, AutoModelForQuestionAnswering, pipeline\n",
    "\n",
    "# Load JSON data\n",
    "with open('/Users/freddy/Desktop/news.article.json', 'r') as file:\n",
    "    articles = json.load(file)"
   ]
  },
  {
   "cell_type": "code",
   "execution_count": 8,
   "id": "3cf9169b-c666-4c16-bd04-d384b66fe328",
   "metadata": {},
   "outputs": [
    {
     "data": {
      "text/plain": [
       "{'articleBody': 'Sanjay Raut, a member of the Shiv Sena (UBT) party, responded to the Maharashtra chief minister\\'s statement that Eknath Shinde \"himself is Hamas\" and that the Shiv Sena group led by Uddhav Thackeray is capable of collaborating with \"Hamas and Lashkar-e-Taiba for their own selfishness\" on Wednesday by claiming that Eknath Shinde is Hamas.\\n\\n\\n\\nRaut made fun of Shinde by claiming, \"He himself is Hamas. Hamas and Lashkar-e-Taiba, two terrorist groups, are completely irrelevant in Maharashtra. But the BJP is to blame for sowing the worms in their (the Shinde faction\\'s) thoughts, said Raut.\\n\\nWhen Shinde made a statement at the Tuesday Dussehra rally in Mumbai\\'s Azad Maidan, Raut reacted to it. As part of the opposition alliance INDIA, Uddhav Thackeray\\'s Shiv Sena (UBT) has formed an alliance with Congress and the Samajwadi Party. Shinde remarked of this alliance: \"For their own selfishness, they will tie the knot with Hamas and Lashkar-e-Taiba.\"\\n\\nRaut highlighted that Shinde\\'s address differed from the customary Dussehra rallies conducted by the Shiv Sena each year. Raut expressed that he could make various remarks, but we adhere to the principles and values of Balasaheb Thackeray. Balasaheb Thackeray used to focus on the nation and its citizens. However, Shinde\\'s entire speech was centered on bolstering the BJP, reinforcing the position of Modi ji, and fortifying JP Nadda ji.\\n\\nIn response to the provided statement, Raut expressed his view that the occasion was Dussehra, a day traditionally associated with auspiciousness. However, he criticized Shinde for focusing on contentious matters and likened him to \"Hamas\" and \"Al Qaeda of Maharashtra.\"\\n\\nRaut also mentioned that Shinde had, in his Dussehra speech, questioned the alliance between Shiv Sena (UBT) and Akhilesh Yadav\\'s Samajwadi Party, citing an incident from 1990 when Samajwadi Party founder Mulayam Singh Yadav had reportedly ordered the use of force against karsevaks in Ayodhya.\\n\\nThis event marked the first time that Thackeray and Shinde, leaders of the divergent factions of the Shiv Sena, organized separate Dussehra rallies in Mumbai, marking a departure from the party\\'s historical practices.',\n",
       " 'dateModified': {'$date': '2023-10-25T06:35:50.000Z'},\n",
       " 'scrapedDate': {'$date': '2023-10-27T13:12:18.339Z'},\n",
       " 'source': 'https://www.thehansindia.com/',\n",
       " 'title': \"Shiv Sena MP Sanjay Raut Responds To 'Hamas' Remark In Fiery Exchange\"}"
      ]
     },
     "execution_count": 8,
     "metadata": {},
     "output_type": "execute_result"
    }
   ],
   "source": [
    "articles[0]"
   ]
  },
  {
   "cell_type": "code",
   "execution_count": 9,
   "id": "b8535e1e-b4f7-460e-844b-d7be53f40987",
   "metadata": {},
   "outputs": [],
   "source": [
    "# Preprocessing function to clean text\n",
    "def clean_text(text):\n",
    "    # Remove special characters and multiple spaces\n",
    "    text = re.sub(r'\\s+', ' ', text)\n",
    "    text = re.sub(r'[^\\w\\s]', '', text)\n",
    "    return text"
   ]
  },
  {
   "cell_type": "code",
   "execution_count": 10,
   "id": "e904cec8-61f7-4a97-bb93-eb92975e26c4",
   "metadata": {},
   "outputs": [],
   "source": [
    "# Filter articles related to the Israel-Hamas war\n",
    "def filter_articles(articles, keyword=\"Israel Hamas war\"):\n",
    "    filtered_articles = []\n",
    "    for article in articles:\n",
    "        if keyword.lower() in article['articleBody'].lower():\n",
    "            cleaned_content = clean_text(article['articleBody'])\n",
    "            filtered_articles.append(cleaned_content)\n",
    "    return filtered_articles\n",
    "\n",
    "filtered_articles = filter_articles(articles)"
   ]
  },
  {
   "cell_type": "code",
   "execution_count": 12,
   "id": "3fc15b9d-428b-496d-b3be-d69bcbe55fe0",
   "metadata": {},
   "outputs": [],
   "source": [
    "# Initialize the QA pipeline\n",
    "tokenizer = AutoTokenizer.from_pretrained(\"deepset/bert-base-cased-squad2\")"
   ]
  },
  {
   "cell_type": "code",
   "execution_count": 14,
   "id": "200dbab2-f4f0-403b-a252-c5dc57a71727",
   "metadata": {},
   "outputs": [],
   "source": [
    "from transformers import logging\n",
    "logging.set_verbosity_error()"
   ]
  },
  {
   "cell_type": "code",
   "execution_count": 15,
   "id": "cae7a49b-bd7a-4c23-9cae-df2af947a4fb",
   "metadata": {},
   "outputs": [],
   "source": [
    "model = AutoModelForQuestionAnswering.from_pretrained(\"deepset/bert-base-cased-squad2\")"
   ]
  },
  {
   "cell_type": "code",
   "execution_count": 16,
   "id": "5ae27df1-7341-4c5a-bd69-32ec4d118b7b",
   "metadata": {},
   "outputs": [],
   "source": [
    "qa_pipeline = pipeline('question-answering', model=model, tokenizer=tokenizer)"
   ]
  },
  {
   "cell_type": "code",
   "execution_count": 17,
   "id": "b52002dc-14a3-4704-9a99-c2a77bfbf8ef",
   "metadata": {},
   "outputs": [],
   "source": [
    "# Function to get answers from the QA system\n",
    "def get_answer(question, articles):\n",
    "    context = \" \".join(articles)  # Combine all articles into one context\n",
    "    response = qa_pipeline(question=question, context=context)\n",
    "    return response['answer']"
   ]
  },
  {
   "cell_type": "code",
   "execution_count": 18,
   "id": "95466255-f4e2-4ced-b723-768190b44b0b",
   "metadata": {},
   "outputs": [
    {
     "name": "stdout",
     "output_type": "stream",
     "text": [
      "Q: What happened at the Al-Shifa Hospital?\n",
      "A: Israeli bombardment of the Gaza Strip\n"
     ]
    }
   ],
   "source": [
    "# Example question\n",
    "question = \"What happened at the Al-Shifa Hospital?\"\n",
    "answer = get_answer(question, filtered_articles)\n",
    "print(f\"Q: {question}\\nA: {answer}\")"
   ]
  },
  {
   "cell_type": "code",
   "execution_count": 21,
   "id": "998bc0a8-ec31-40df-949c-e4b13d347223",
   "metadata": {},
   "outputs": [
    {
     "name": "stdout",
     "output_type": "stream",
     "text": [
      "Q: What did Shiv Sena MP Sanjay Raut Responds To 'Hamas' Remark In Fiery Exchange?\n",
      "A: Hamas was open to any initiative that contributes to ending the aggression on our people\n"
     ]
    }
   ],
   "source": [
    "question = \"What did Shiv Sena MP Sanjay Raut Responds To 'Hamas' Remark In Fiery Exchange?\"\n",
    "answer = get_answer(question, filtered_articles)\n",
    "print(f\"Q: {question}\\nA: {answer}\")"
   ]
  },
  {
   "cell_type": "code",
   "execution_count": null,
   "id": "d5a9396f-8ee0-493f-931b-32237d75830f",
   "metadata": {},
   "outputs": [],
   "source": []
  }
 ],
 "metadata": {
  "kernelspec": {
   "display_name": "Python 3 (ipykernel)",
   "language": "python",
   "name": "python3"
  },
  "language_info": {
   "codemirror_mode": {
    "name": "ipython",
    "version": 3
   },
   "file_extension": ".py",
   "mimetype": "text/x-python",
   "name": "python",
   "nbconvert_exporter": "python",
   "pygments_lexer": "ipython3",
   "version": "3.11.4"
  }
 },
 "nbformat": 4,
 "nbformat_minor": 5
}
