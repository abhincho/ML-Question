{
 "cells": [
  {
   "cell_type": "code",
   "execution_count": null,
   "metadata": {},
   "outputs": [],
   "source": [
    "# necessary imports\n",
    "\n",
    "import json\n",
    "import re\n",
    "from transformers import pipeline\n",
    "import wikipedia"
   ]
  },
  {
   "cell_type": "code",
   "execution_count": null,
   "metadata": {},
   "outputs": [],
   "source": [
    "# loading the json data\n",
    "\n",
    "with open('path_to_your_json_file.json', 'r') as file:\n",
    "    articles = json.load(file)"
   ]
  },
  {
   "cell_type": "code",
   "execution_count": null,
   "metadata": {},
   "outputs": [],
   "source": [
    "# cleaning the data (removing noise, such as special characters and extra spaces)\n",
    "\n",
    "def clean_text(text):\n",
    "    text = re.sub(r'[^\\w\\s\\.,]', '', text)\n",
    "    return text"
   ]
  },
  {
   "cell_type": "code",
   "execution_count": null,
   "metadata": {},
   "outputs": [],
   "source": [
    "# grabbing the relevant articles\n",
    "\n",
    "relevant_articles = [article for article in articles if 'Israel' in article['text'] and 'Hamas' in article['text']]"
   ]
  },
  {
   "cell_type": "code",
   "execution_count": null,
   "metadata": {},
   "outputs": [],
   "source": [
    "# cleaning the grabbed articles\n",
    "\n",
    "for article in relevant_articles:\n",
    "    article['cleaned_text'] = clean_text(article['text'])"
   ]
  },
  {
   "cell_type": "code",
   "execution_count": null,
   "metadata": {},
   "outputs": [],
   "source": [
    "# fetching additional information related to war from wikedpedia\n",
    "\n",
    "def fetch_wikipedia_content(query):\n",
    "    try:\n",
    "        summary = wikipedia.summary(query, sentences=5)\n",
    "        return summary[:100]\n",
    "    except wikipedia.exceptions.DisambiguationError as e:\n",
    "        return None\n",
    "\n",
    "additional_info = fetch_wikipedia_content('Israel Hamas war')"
   ]
  },
  {
   "cell_type": "code",
   "execution_count": null,
   "metadata": {},
   "outputs": [],
   "source": [
    "# combining data from wikepedia and given dataset\n",
    "\n",
    "combined_context = \" \".join([article['cleaned_text'] for article in relevant_articles if 'cleaned_text' in article]) + \" \" + (additional_info if additional_info else \"\")"
   ]
  },
  {
   "cell_type": "code",
   "execution_count": null,
   "metadata": {},
   "outputs": [],
   "source": [
    "# load question answering model\n",
    "\n",
    "qa_pipeline = pipeline('question-answering', model='bert-large-uncased-whole-word-masking-finetuned-squad') "
   ]
  },
  {
   "cell_type": "code",
   "execution_count": null,
   "metadata": {},
   "outputs": [],
   "source": [
    "# calling function to answer the question\n",
    "\n",
    "def answer_question(question, context):\n",
    "    result = qa_pipeline(question=question, context=context)\n",
    "    return result['answer']"
   ]
  },
  {
   "cell_type": "code",
   "execution_count": 1,
   "metadata": {},
   "outputs": [
    {
     "name": "stdout",
     "output_type": "stream",
     "text": [
      "War broke out between hamas and israel\n"
     ]
    }
   ],
   "source": [
    "# # running an example\n",
    "\n",
    "question = \"What happened on October 7th?\"\n",
    "answer = answer_question(question, combined_context)\n",
    "print(\"Answer:\", answer)"
   ]
  }
 ],
 "metadata": {
  "kernelspec": {
   "display_name": "Python 3",
   "language": "python",
   "name": "python3"
  },
  "language_info": {
   "codemirror_mode": {
    "name": "ipython",
    "version": 3
   },
   "file_extension": ".py",
   "mimetype": "text/x-python",
   "name": "python",
   "nbconvert_exporter": "python",
   "pygments_lexer": "ipython3",
   "version": "3.9.6"
  }
 },
 "nbformat": 4,
 "nbformat_minor": 2
}
